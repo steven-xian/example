{
 "cells": [
  {
   "cell_type": "code",
   "execution_count": 12,
   "metadata": {},
   "outputs": [
    {
     "name": "stdout",
     "output_type": "stream",
     "text": [
      "[[1 2]\n",
      " [3 4]\n",
      " [5 6]]\n",
      "[1 4 5]\n",
      "[[1 2]\n",
      " [3 4]\n",
      " [5 6]\n",
      " [5 6]\n",
      " [3 4]\n",
      " [3 4]]\n"
     ]
    }
   ],
   "source": [
    "import numpy as np\n",
    "\n",
    "x = np.array([[1,2], [3,4],[5,6]])\n",
    "y = x[[0,1,2], [0,1,0]]\n",
    "\n",
    "print(x)\n",
    "print(y)\n",
    "\n",
    "print(x[[0,1,2,2,1,1]])"
   ]
  },
  {
   "cell_type": "code",
   "execution_count": 17,
   "metadata": {},
   "outputs": [
    {
     "name": "stdout",
     "output_type": "stream",
     "text": [
      "[[ 0  1  2]\n",
      " [ 3  4  5]\n",
      " [ 6  7  8]\n",
      " [ 9 10 11]]\n",
      "[[0 0]\n",
      " [3 3]]\n",
      "[[0 2]\n",
      " [0 2]]\n",
      "[[ 0  2]\n",
      " [ 9 11]]\n"
     ]
    }
   ],
   "source": [
    "x1 = np.arrCy([[0,1,2],[3,4,5],[6,7,8],[9,10,11]])\n",
    "print(x1)\n",
    "\n",
    "rows = np.CrrCy([[0,0],[3,3]])\n",
    "cols = np.CrrCy([[0,2],[0,2]])\n",
    "print(rows)\n",
    "print(cols)\n",
    "print(x1[rows, cols])"
   ]
  },
  {
   "cell_type": "code",
   "execution_count": 20,
   "metadata": {},
   "outputs": [
    {
     "name": "stdout",
     "output_type": "stream",
     "text": [
      "[[5 6]\n",
      " [8 9]]\n",
      "[[5 6]\n",
      " [8 9]]\n",
      "[[2 3]\n",
      " [5 6]\n",
      " [8 9]]\n"
     ]
    }
   ],
   "source": [
    "a = np.array([[1,2,3],[4,5,6],[7,8,9]])\n",
    "\n",
    "b = a[1:3, 1:3]\n",
    "print(b)\n",
    "\n",
    "c = a[1:3,[1,2]]\n",
    "print(c)\n",
    "\n",
    "d = a[...,1:]\n",
    "print(d)"
   ]
  },
  {
   "cell_type": "code",
   "execution_count": 25,
   "metadata": {},
   "outputs": [
    {
     "name": "stdout",
     "output_type": "stream",
     "text": [
      "[[ 0  1  2]\n",
      " [ 3  4  5]\n",
      " [ 6  7  8]\n",
      " [ 9 10 11]]\n",
      "[0 1 2 3 4 5]\n"
     ]
    }
   ],
   "source": [
    "x = np.array([[0,1,2],[3,4,5],[6,7,8],[9,10,11]])\n",
    "print(x)\n",
    "\n",
    "print(x[x <= 5])"
   ]
  },
  {
   "cell_type": "code",
   "execution_count": 27,
   "metadata": {},
   "outputs": [
    {
     "name": "stdout",
     "output_type": "stream",
     "text": [
      "[1. 2. 3. 4. 5.]\n",
      "[nan nan]\n"
     ]
    }
   ],
   "source": [
    "a = np.array([np.nan, 1, 2, np.nan, 3, 4,5])\n",
    "print(a[~np.isnan(a)])\n",
    "print(a[np.isnan(a)])"
   ]
  },
  {
   "cell_type": "code",
   "execution_count": 30,
   "metadata": {},
   "outputs": [
    {
     "name": "stdout",
     "output_type": "stream",
     "text": [
      "[0 1 2 3 4 5 6 7 8]\n",
      "[0 6]\n"
     ]
    }
   ],
   "source": [
    "x = np.arange(9)\n",
    "print(x)\n",
    "\n",
    "x2 = x[[0,6]]\n",
    "print(x2)"
   ]
  },
  {
   "cell_type": "code",
   "execution_count": 34,
   "metadata": {},
   "outputs": [
    {
     "name": "stdout",
     "output_type": "stream",
     "text": [
      "[[ 0  1  2  3]\n",
      " [ 4  5  6  7]\n",
      " [ 8  9 10 11]\n",
      " [12 13 14 15]\n",
      " [16 17 18 19]\n",
      " [20 21 22 23]\n",
      " [24 25 26 27]\n",
      " [28 29 30 31]]\n",
      "\n",
      "\n",
      "[[ 4  5  6  7]\n",
      " [20 21 22 23]\n",
      " [28 29 30 31]\n",
      " [ 8  9 10 11]]\n",
      "\n",
      "\n",
      "[[ 0  1  2  3]\n",
      " [12 13 14 15]\n",
      " [ 4  5  6  7]\n",
      " [ 8  9 10 11]]\n",
      "\n",
      "\n",
      "x array\n",
      "[ 4 23 29 10]\n",
      "\n",
      "\n",
      "[[ 4  7  5  6]\n",
      " [20 23 21 22]\n",
      " [28 31 29 30]\n",
      " [ 8 11  9 10]]\n"
     ]
    }
   ],
   "source": [
    "x = np.arange(32).reshape(8,4)\n",
    "print(x)\n",
    "print(\"\\n\")\n",
    "print(x[[1,5,7,2]])\n",
    "print(\"\\n\")\n",
    "print(x[[0,3,1,2]])\n",
    "print(\"\\n\")\n",
    "print(\"x array\")\n",
    "print(x[[1,5,7,2],[0,3,1,2]])\n",
    "print(\"\\n\")\n",
    "print(x[np.ix_([1,5,7,2],[0,3,1,2])])"
   ]
  },
  {
   "cell_type": "code",
   "execution_count": 44,
   "metadata": {},
   "outputs": [
    {
     "name": "stdout",
     "output_type": "stream",
     "text": [
      "[[1 2 3]\n",
      " [1 2 3]]\n"
     ]
    }
   ],
   "source": [
    "b = np.array([1,2,3])\n",
    "print(np.tile(b, (2,1)))"
   ]
  },
  {
   "cell_type": "code",
   "execution_count": 54,
   "metadata": {},
   "outputs": [
    {
     "name": "stdout",
     "output_type": "stream",
     "text": [
      "[[[0 1]\n",
      "  [2 3]]\n",
      "\n",
      " [[4 5]\n",
      "  [6 7]]]\n",
      "[[[0 2]\n",
      "  [1 3]]\n",
      "\n",
      " [[4 6]\n",
      "  [5 7]]]\n"
     ]
    }
   ],
   "source": [
    "a = np.arange(8).reshape(2,2,2)\n",
    "print(a)\n",
    "# print(np.where(a==6))\n",
    "# print(a[np.where(a==6)])\n",
    "b = np.rollaxis(a, 2, 1)\n",
    "print(b)"
   ]
  },
  {
   "cell_type": "code",
   "execution_count": 61,
   "metadata": {},
   "outputs": [
    {
     "name": "stdout",
     "output_type": "stream",
     "text": [
      "[11, 13, 15, 17, 19, 21, 23, 25, 27, 29, 31, 33, 35, 37, 39, 41, 43, 45, 47, 49, 51, 53, 55, 57, 59, 61, 63, 65, 67, 69, 71, 73, 75, 77, 79, 81, 83, 85, 87, 89, 91, 93, 95, 97, 99]\n",
      "[13, 15, 17, 19, 21, 23, 25, 27, 29, 31, 33, 35, 37, 39, 41, 43, 45, 47, 49, 51, 53, 55, 57, 59, 61, 63, 65, 67, 69, 71, 73, 75, 77, 79, 81, 83, 85, 87, 89, 91, 93, 95, 97, 99, 101]\n",
      "171435\n"
     ]
    }
   ],
   "source": [
    "a = [i for i in range(100) if i % 2 != 0 and i >= 11]\n",
    "print(a)\n",
    "b = [i for i in range(102) if i %2 != 0 and i >= 13]\n",
    "print(b)\n",
    "\n",
    "print(np.sum(np.multiply(a, b)))"
   ]
  },
  {
   "cell_type": "code",
   "execution_count": 64,
   "metadata": {},
   "outputs": [
    {
     "name": "stdout",
     "output_type": "stream",
     "text": [
      "[10, 12, 14, 16, 18, 20, 22, 24, 26, 28, 30, 32, 34, 36, 38, 40, 42, 44, 46, 48, 50, 52, 54, 56, 58, 60, 62, 64, 66, 68, 70, 72, 74, 76, 78, 80, 82, 84, 86, 88, 90, 92, 94, 96, 98]\n",
      "2430\n",
      "2430\n"
     ]
    }
   ],
   "source": [
    "x = [i for i in range(100) if i % 2 == 0 and i >= 10]\n",
    "print(x)\n",
    "print(sum(x))\n",
    "print(450+2*22*45)"
   ]
  },
  {
   "cell_type": "code",
   "execution_count": null,
   "metadata": {},
   "outputs": [],
   "source": [
    "def createnum(a, b, l):\n",
    "    n = [a,b]\n",
    "    while True:\n",
    "        if len(n) == l:\n",
    "            break\n",
    "        s = str(n[-1]+n[-2])\n",
    "        for j in range(len(s)):\n",
    "            n.append(int(s[j]))\n",
    "\n",
    "    return n\n",
    "num = createnum(9,6,2019)\n",
    "\n",
    "print(len(num))    \n",
    "print(sum(num))\n",
    "print(num)"
   ]
  },
  {
   "cell_type": "code",
   "execution_count": 6,
   "metadata": {},
   "outputs": [
    {
     "name": "stdout",
     "output_type": "stream",
     "text": [
      "b    0.121328\n",
      "c    2.293853\n",
      "d   -0.423299\n",
      "e    0.228556\n",
      "dtype: float64\n",
      "a   -0.055094\n",
      "b    0.121328\n",
      "c    2.293853\n",
      "d   -0.423299\n",
      "dtype: float64\n",
      "a         NaN\n",
      "b    0.242656\n",
      "c    4.587706\n",
      "d   -0.846597\n",
      "e         NaN\n",
      "dtype: float64\n"
     ]
    }
   ],
   "source": [
    "import numpy as np\n",
    "import pandas as pd\n",
    "\n",
    "s = pd.Series(np.random.randn(5), index=[\"a\", \"b\", \"c\", \"d\", \"e\"])\n",
    "\n",
    "print(s[1:])\n",
    "print(s[:-1])\n",
    "print(s[1:] + s[:-1])"
   ]
  },
  {
   "cell_type": "code",
   "execution_count": null,
   "metadata": {},
   "outputs": [],
   "source": [
    "df1 = pd.DataFrame(\n",
    "    {\n",
    "        \"A\": [\"A0\", \"A1\", \"A2\", \"A3\"],\n",
    "        \"B\": [\"B0\", \"B1\", \"B2\", \"B3\"],\n",
    "        \"C\": [\"A0\", \"A1\", \"A2\", \"A3\"],\n",
    "        \"D\": [\"A0\", \"A1\", \"A2\", \"A3\"],\n",
    "    }\n",
    ")"
   ]
  },
  {
   "cell_type": "code",
   "execution_count": 6,
   "metadata": {},
   "outputs": [
    {
     "data": {
      "text/plain": [
       "[('bar', 'one'),\n",
       " ('bar', 'two'),\n",
       " ('baz', 'one'),\n",
       " ('baz', 'two'),\n",
       " ('foo', 'one'),\n",
       " ('foo', 'two'),\n",
       " ('qux', 'one'),\n",
       " ('qux', 'two')]"
      ]
     },
     "execution_count": 6,
     "metadata": {},
     "output_type": "execute_result"
    }
   ],
   "source": [
    "arrays = [\n",
    "    [\"bar\", \"bar\", \"baz\", \"baz\", \"foo\", \"foo\", \"qux\", \"qux\"],\n",
    "    [\"one\", \"two\", \"one\", \"two\", \"one\", \"two\", \"one\", \"two\"]\n",
    "]\n",
    "\n",
    "tuples = list(zip(*arrays))\n",
    "\n",
    "tuples"
   ]
  },
  {
   "cell_type": "code",
   "execution_count": 35,
   "metadata": {},
   "outputs": [
    {
     "data": {
      "text/plain": [
       "MultiIndex([('bar', 'one'),\n",
       "            ('bar', 'two'),\n",
       "            ('baz', 'one'),\n",
       "            ('baz', 'two'),\n",
       "            ('foo', 'one'),\n",
       "            ('foo', 'two'),\n",
       "            ('qux', 'one'),\n",
       "            ('qux', 'two')],\n",
       "           names=['first', 'second'])"
      ]
     },
     "execution_count": 35,
     "metadata": {},
     "output_type": "execute_result"
    }
   ],
   "source": [
    "import pandas as pd\n",
    "\n",
    "index = pd.MultiIndex.from_tuples(tuples, names=[\"first\", \"second\"])\n",
    "\n",
    "index"
   ]
  },
  {
   "cell_type": "code",
   "execution_count": 42,
   "metadata": {},
   "outputs": [],
   "source": [
    "import numpy as np\n",
    "\n",
    "s = pd.Series(np.random.randn(8), index=index)\n",
    "\n",
    "df = pd.DataFrame(s)\n",
    "\n",
    "# s['bar']['one']"
   ]
  },
  {
   "cell_type": "code",
   "execution_count": 52,
   "metadata": {},
   "outputs": [
    {
     "data": {
      "text/plain": [
       "MultiIndex([('bar', 'one'),\n",
       "            ('bar', 'two'),\n",
       "            ('baz', 'one'),\n",
       "            ('baz', 'two'),\n",
       "            ('foo', 'one'),\n",
       "            ('foo', 'two'),\n",
       "            ('qux', 'one'),\n",
       "            ('qux', 'two')],\n",
       "           names=['first', 'second'])"
      ]
     },
     "execution_count": 52,
     "metadata": {},
     "output_type": "execute_result"
    }
   ],
   "source": [
    "df.index"
   ]
  },
  {
   "cell_type": "code",
   "execution_count": 44,
   "metadata": {},
   "outputs": [
    {
     "data": {
      "text/html": [
       "<div>\n",
       "<style scoped>\n",
       "    .dataframe tbody tr th:only-of-type {\n",
       "        vertical-align: middle;\n",
       "    }\n",
       "\n",
       "    .dataframe tbody tr th {\n",
       "        vertical-align: top;\n",
       "    }\n",
       "\n",
       "    .dataframe thead th {\n",
       "        text-align: right;\n",
       "    }\n",
       "</style>\n",
       "<table border=\"1\" class=\"dataframe\">\n",
       "  <thead>\n",
       "    <tr style=\"text-align: right;\">\n",
       "      <th></th>\n",
       "      <th></th>\n",
       "      <th>0</th>\n",
       "    </tr>\n",
       "    <tr>\n",
       "      <th>first</th>\n",
       "      <th>second</th>\n",
       "      <th></th>\n",
       "    </tr>\n",
       "  </thead>\n",
       "  <tbody>\n",
       "    <tr>\n",
       "      <th rowspan=\"2\" valign=\"top\">bar</th>\n",
       "      <th>one</th>\n",
       "      <td>0.607724</td>\n",
       "    </tr>\n",
       "    <tr>\n",
       "      <th>two</th>\n",
       "      <td>-0.373196</td>\n",
       "    </tr>\n",
       "    <tr>\n",
       "      <th rowspan=\"2\" valign=\"top\">baz</th>\n",
       "      <th>one</th>\n",
       "      <td>-0.507007</td>\n",
       "    </tr>\n",
       "    <tr>\n",
       "      <th>two</th>\n",
       "      <td>-0.078803</td>\n",
       "    </tr>\n",
       "    <tr>\n",
       "      <th rowspan=\"2\" valign=\"top\">foo</th>\n",
       "      <th>one</th>\n",
       "      <td>-0.029831</td>\n",
       "    </tr>\n",
       "    <tr>\n",
       "      <th>two</th>\n",
       "      <td>-0.520290</td>\n",
       "    </tr>\n",
       "    <tr>\n",
       "      <th rowspan=\"2\" valign=\"top\">qux</th>\n",
       "      <th>one</th>\n",
       "      <td>-0.681118</td>\n",
       "    </tr>\n",
       "    <tr>\n",
       "      <th>two</th>\n",
       "      <td>-0.205107</td>\n",
       "    </tr>\n",
       "  </tbody>\n",
       "</table>\n",
       "</div>"
      ],
      "text/plain": [
       "                     0\n",
       "first second          \n",
       "bar   one     0.607724\n",
       "      two    -0.373196\n",
       "baz   one    -0.507007\n",
       "      two    -0.078803\n",
       "foo   one    -0.029831\n",
       "      two    -0.520290\n",
       "qux   one    -0.681118\n",
       "      two    -0.205107"
      ]
     },
     "execution_count": 44,
     "metadata": {},
     "output_type": "execute_result"
    }
   ],
   "source": [
    "df"
   ]
  },
  {
   "cell_type": "code",
   "execution_count": 11,
   "metadata": {},
   "outputs": [
    {
     "data": {
      "text/plain": [
       "MultiIndex([('bar', 'one'),\n",
       "            ('bar', 'two'),\n",
       "            ('baz', 'one'),\n",
       "            ('baz', 'two'),\n",
       "            ('foo', 'one'),\n",
       "            ('foo', 'two'),\n",
       "            ('qux', 'one'),\n",
       "            ('qux', 'two')],\n",
       "           names=['first', 'second'])"
      ]
     },
     "execution_count": 11,
     "metadata": {},
     "output_type": "execute_result"
    }
   ],
   "source": [
    "iterables = [[\"bar\", \"baz\", \"foo\", \"qux\"], [\"one\", \"two\"]]\n",
    "\n",
    "pd.MultiIndex.from_product(iterables, names=[\"first\", \"second\"])"
   ]
  },
  {
   "cell_type": "code",
   "execution_count": 33,
   "metadata": {},
   "outputs": [
    {
     "data": {
      "text/plain": [
       "MultiIndex([('bar', 'one'),\n",
       "            ('bar', 'two'),\n",
       "            ('foo', 'one'),\n",
       "            ('foo', 'two')],\n",
       "           names=['first', 'second'])"
      ]
     },
     "execution_count": 33,
     "metadata": {},
     "output_type": "execute_result"
    }
   ],
   "source": [
    "df = pd.DataFrame(\n",
    "    [[\"bar\", \"one\"], [\"bar\", \"two\"], [\"foo\", \"one\"], [\"foo\", \"two\"]],\n",
    "    columns=[\"first\", \"second\"]\n",
    ")\n",
    "\n",
    "pd.MultiIndex.from_frame(df)"
   ]
  },
  {
   "cell_type": "code",
   "execution_count": 53,
   "metadata": {},
   "outputs": [
    {
     "data": {
      "text/plain": [
       "FrozenList([None, None])"
      ]
     },
     "execution_count": 53,
     "metadata": {},
     "output_type": "execute_result"
    }
   ],
   "source": [
    "arrays = [\n",
    "    np.array([\"bar\", \"bar\", \"baz\", \"baz\", \"foo\", \"foo\", \"qux\", \"qux\"]),\n",
    "    np.array([\"one\", \"two\", \"one\", \"two\", \"one\", \"two\", \"one\", \"two\"])\n",
    "]\n",
    "\n",
    "s = pd.Series(np.random.randn(8), index=arrays)\n",
    "\n",
    "s\n",
    "\n",
    "df = pd.DataFrame(np.random.randn(8, 4), index=arrays)\n",
    "\n",
    "df.index.names"
   ]
  },
  {
   "cell_type": "code",
   "execution_count": 64,
   "metadata": {},
   "outputs": [
    {
     "data": {
      "text/html": [
       "<div>\n",
       "<style scoped>\n",
       "    .dataframe tbody tr th:only-of-type {\n",
       "        vertical-align: middle;\n",
       "    }\n",
       "\n",
       "    .dataframe tbody tr th {\n",
       "        vertical-align: top;\n",
       "    }\n",
       "\n",
       "    .dataframe thead th {\n",
       "        text-align: right;\n",
       "    }\n",
       "</style>\n",
       "<table border=\"1\" class=\"dataframe\">\n",
       "  <thead>\n",
       "    <tr style=\"text-align: right;\">\n",
       "      <th></th>\n",
       "      <th></th>\n",
       "      <th>0</th>\n",
       "      <th>1</th>\n",
       "      <th>2</th>\n",
       "      <th>3</th>\n",
       "    </tr>\n",
       "  </thead>\n",
       "  <tbody>\n",
       "    <tr>\n",
       "      <th rowspan=\"2\" valign=\"top\">bar</th>\n",
       "      <th>one</th>\n",
       "      <td>0.110677</td>\n",
       "      <td>-0.096132</td>\n",
       "      <td>1.077574</td>\n",
       "      <td>0.407929</td>\n",
       "    </tr>\n",
       "    <tr>\n",
       "      <th>two</th>\n",
       "      <td>-1.133411</td>\n",
       "      <td>-0.663810</td>\n",
       "      <td>-0.891263</td>\n",
       "      <td>-0.322526</td>\n",
       "    </tr>\n",
       "    <tr>\n",
       "      <th rowspan=\"2\" valign=\"top\">baz</th>\n",
       "      <th>one</th>\n",
       "      <td>0.544283</td>\n",
       "      <td>0.749356</td>\n",
       "      <td>2.128503</td>\n",
       "      <td>-1.449807</td>\n",
       "    </tr>\n",
       "    <tr>\n",
       "      <th>two</th>\n",
       "      <td>-0.440030</td>\n",
       "      <td>0.851443</td>\n",
       "      <td>-1.560286</td>\n",
       "      <td>0.662114</td>\n",
       "    </tr>\n",
       "    <tr>\n",
       "      <th rowspan=\"2\" valign=\"top\">foo</th>\n",
       "      <th>one</th>\n",
       "      <td>0.669660</td>\n",
       "      <td>-1.886283</td>\n",
       "      <td>-1.543918</td>\n",
       "      <td>0.648386</td>\n",
       "    </tr>\n",
       "    <tr>\n",
       "      <th>two</th>\n",
       "      <td>0.530000</td>\n",
       "      <td>-0.732421</td>\n",
       "      <td>0.932397</td>\n",
       "      <td>1.064876</td>\n",
       "    </tr>\n",
       "    <tr>\n",
       "      <th rowspan=\"2\" valign=\"top\">qux</th>\n",
       "      <th>one</th>\n",
       "      <td>1.729351</td>\n",
       "      <td>1.425869</td>\n",
       "      <td>0.298646</td>\n",
       "      <td>-0.622558</td>\n",
       "    </tr>\n",
       "    <tr>\n",
       "      <th>two</th>\n",
       "      <td>1.335724</td>\n",
       "      <td>-0.588280</td>\n",
       "      <td>-1.248911</td>\n",
       "      <td>-0.047739</td>\n",
       "    </tr>\n",
       "  </tbody>\n",
       "</table>\n",
       "</div>"
      ],
      "text/plain": [
       "                0         1         2         3\n",
       "bar one  0.110677 -0.096132  1.077574  0.407929\n",
       "    two -1.133411 -0.663810 -0.891263 -0.322526\n",
       "baz one  0.544283  0.749356  2.128503 -1.449807\n",
       "    two -0.440030  0.851443 -1.560286  0.662114\n",
       "foo one  0.669660 -1.886283 -1.543918  0.648386\n",
       "    two  0.530000 -0.732421  0.932397  1.064876\n",
       "qux one  1.729351  1.425869  0.298646 -0.622558\n",
       "    two  1.335724 -0.588280 -1.248911 -0.047739"
      ]
     },
     "execution_count": 64,
     "metadata": {},
     "output_type": "execute_result"
    }
   ],
   "source": [
    "df"
   ]
  },
  {
   "cell_type": "code",
   "execution_count": 73,
   "metadata": {},
   "outputs": [
    {
     "data": {
      "text/html": [
       "<div>\n",
       "<style scoped>\n",
       "    .dataframe tbody tr th:only-of-type {\n",
       "        vertical-align: middle;\n",
       "    }\n",
       "\n",
       "    .dataframe tbody tr th {\n",
       "        vertical-align: top;\n",
       "    }\n",
       "\n",
       "    .dataframe thead th {\n",
       "        text-align: right;\n",
       "    }\n",
       "</style>\n",
       "<table border=\"1\" class=\"dataframe\">\n",
       "  <thead>\n",
       "    <tr style=\"text-align: right;\">\n",
       "      <th></th>\n",
       "      <th></th>\n",
       "      <th>0</th>\n",
       "      <th>1</th>\n",
       "      <th>2</th>\n",
       "      <th>3</th>\n",
       "    </tr>\n",
       "  </thead>\n",
       "  <tbody>\n",
       "    <tr>\n",
       "      <th>bar</th>\n",
       "      <th>one</th>\n",
       "      <td>0.110677</td>\n",
       "      <td>-0.096132</td>\n",
       "      <td>1.077574</td>\n",
       "      <td>0.407929</td>\n",
       "    </tr>\n",
       "    <tr>\n",
       "      <th>baz</th>\n",
       "      <th>one</th>\n",
       "      <td>0.544283</td>\n",
       "      <td>0.749356</td>\n",
       "      <td>2.128503</td>\n",
       "      <td>-1.449807</td>\n",
       "    </tr>\n",
       "    <tr>\n",
       "      <th>foo</th>\n",
       "      <th>one</th>\n",
       "      <td>0.669660</td>\n",
       "      <td>-1.886283</td>\n",
       "      <td>-1.543918</td>\n",
       "      <td>0.648386</td>\n",
       "    </tr>\n",
       "    <tr>\n",
       "      <th>qux</th>\n",
       "      <th>one</th>\n",
       "      <td>1.729351</td>\n",
       "      <td>1.425869</td>\n",
       "      <td>0.298646</td>\n",
       "      <td>-0.622558</td>\n",
       "    </tr>\n",
       "  </tbody>\n",
       "</table>\n",
       "</div>"
      ],
      "text/plain": [
       "                0         1         2         3\n",
       "bar one  0.110677 -0.096132  1.077574  0.407929\n",
       "baz one  0.544283  0.749356  2.128503 -1.449807\n",
       "foo one  0.669660 -1.886283 -1.543918  0.648386\n",
       "qux one  1.729351  1.425869  0.298646 -0.622558"
      ]
     },
     "execution_count": 73,
     "metadata": {},
     "output_type": "execute_result"
    }
   ],
   "source": [
    "df.loc[(slice(None), \"one\"), :]"
   ]
  },
  {
   "cell_type": "code",
   "execution_count": 31,
   "metadata": {},
   "outputs": [
    {
     "data": {
      "text/html": [
       "<div>\n",
       "<style scoped>\n",
       "    .dataframe tbody tr th:only-of-type {\n",
       "        vertical-align: middle;\n",
       "    }\n",
       "\n",
       "    .dataframe tbody tr th {\n",
       "        vertical-align: top;\n",
       "    }\n",
       "\n",
       "    .dataframe thead tr th {\n",
       "        text-align: left;\n",
       "    }\n",
       "</style>\n",
       "<table border=\"1\" class=\"dataframe\">\n",
       "  <thead>\n",
       "    <tr>\n",
       "      <th>first</th>\n",
       "      <th colspan=\"2\" halign=\"left\">bar</th>\n",
       "      <th colspan=\"2\" halign=\"left\">baz</th>\n",
       "      <th colspan=\"2\" halign=\"left\">foo</th>\n",
       "      <th colspan=\"2\" halign=\"left\">qux</th>\n",
       "    </tr>\n",
       "    <tr>\n",
       "      <th>second</th>\n",
       "      <th>one</th>\n",
       "      <th>two</th>\n",
       "      <th>one</th>\n",
       "      <th>two</th>\n",
       "      <th>one</th>\n",
       "      <th>two</th>\n",
       "      <th>one</th>\n",
       "      <th>two</th>\n",
       "    </tr>\n",
       "  </thead>\n",
       "  <tbody>\n",
       "    <tr>\n",
       "      <th>A</th>\n",
       "      <td>-0.585071</td>\n",
       "      <td>0.327087</td>\n",
       "      <td>0.220166</td>\n",
       "      <td>0.159407</td>\n",
       "      <td>-2.349629</td>\n",
       "      <td>-0.018382</td>\n",
       "      <td>-0.552749</td>\n",
       "      <td>-1.496545</td>\n",
       "    </tr>\n",
       "    <tr>\n",
       "      <th>B</th>\n",
       "      <td>-0.031607</td>\n",
       "      <td>1.797651</td>\n",
       "      <td>-1.588323</td>\n",
       "      <td>2.195513</td>\n",
       "      <td>0.597884</td>\n",
       "      <td>0.681385</td>\n",
       "      <td>-1.142265</td>\n",
       "      <td>-0.845397</td>\n",
       "    </tr>\n",
       "    <tr>\n",
       "      <th>C</th>\n",
       "      <td>0.109641</td>\n",
       "      <td>1.226361</td>\n",
       "      <td>0.126650</td>\n",
       "      <td>0.037204</td>\n",
       "      <td>0.018875</td>\n",
       "      <td>0.839429</td>\n",
       "      <td>0.065700</td>\n",
       "      <td>-2.422335</td>\n",
       "    </tr>\n",
       "  </tbody>\n",
       "</table>\n",
       "</div>"
      ],
      "text/plain": [
       "first        bar                 baz                 foo                 qux  \\\n",
       "second       one       two       one       two       one       two       one   \n",
       "A      -0.585071  0.327087  0.220166  0.159407 -2.349629 -0.018382 -0.552749   \n",
       "B      -0.031607  1.797651 -1.588323  2.195513  0.597884  0.681385 -1.142265   \n",
       "C       0.109641  1.226361  0.126650  0.037204  0.018875  0.839429  0.065700   \n",
       "\n",
       "first             \n",
       "second       two  \n",
       "A      -1.496545  \n",
       "B      -0.845397  \n",
       "C      -2.422335  "
      ]
     },
     "execution_count": 31,
     "metadata": {},
     "output_type": "execute_result"
    }
   ],
   "source": [
    "df = pd.DataFrame(np.random.randn(3, 8), index=[\"A\", \"B\", \"C\"], columns=index)\n",
    "\n",
    "df"
   ]
  },
  {
   "attachments": {},
   "cell_type": "markdown",
   "metadata": {},
   "source": [
    "复利，就是复合利息，它是指每年的收益还可以产生收益，就是俗称的利滚利。复利的计算是对本金及其产生的利息一并计算，也就是利上有利。复利计算的特点是：把上期未的本利和作为下一期的本金，在计算时每一期本金的数额是不同的。\n",
    "复利的计算公式：\n",
    "复利的计算公式是：S＝P（1＋i）^n\n",
    "即：本利之和＝本金×（1＋利率)×期数”这个“期数”时间因子是整个公式的关键因素，一年又一年(或一月一月)地相乘下来，数值当然会愈来愈大。\n",
    "复合增长率是一项投资在特定时期内的年度增长率\n",
    "计算方法为总增长率百分比的n方根，n相等于有关时期内的年数\n",
    "公式为：(现有价值/基础价值)^(1/年数) - 1"
   ]
  },
  {
   "cell_type": "code",
   "execution_count": null,
   "metadata": {},
   "outputs": [],
   "source": [
    "import numpy as np\n",
    "import pandas as pd\n",
    "import math\n",
    "\n",
    "a = np.arange(1, 10)\n",
    "f = 1\n",
    "l = [f]\n",
    "for i in range(5):\n",
    "    f *= 1.1\n",
    "    l.append(f)\n",
    "\n",
    "s = pd.Series(l)\n",
    "# print(s)\n",
    "\n",
    "print(1 + s.pct_change())\n",
    "print(\"prod:{}\".format((1 + s.pct_change()).prod()))\n",
    "print(1.1 ** 5)\n",
    "print(s.shape[0])\n",
    "print(1 / s.shape[0])\n",
    "print((1 + s.pct_change()).prod() ** (1 / s.shape[0]) - 1)\n",
    "print(\"average return:{}\".format(math.pow((1 + s.pct_change()).prod(), 1/s.shape[0]) - 1))\n",
    "print((1 + 0.08266451888074355) ** 6)\n",
    "print(\"cumprod:{}\".format((1 + s.pct_change()).cumprod()))\n"
   ]
  },
  {
   "attachments": {},
   "cell_type": "markdown",
   "metadata": {},
   "source": [
    "1、如果单利计算，10年：\n",
    "10000*（1+10%*10）=20000\n",
    "期限=(本利和/本金-1)/利率\n",
    "=(20000/10000-1)/10%\n",
    "=10\n",
    "2、如果复利计算，约8年（7年多）：\n",
    "本金*(1+10%)^期限=本利和\n",
    "期限=LOG(本利和/本金，1+10%)\n",
    "=LOG(20000/10000，1.1)\n",
    "=LOG(2，1.1)\n",
    "=7.27254"
   ]
  },
  {
   "cell_type": "code",
   "execution_count": 28,
   "metadata": {},
   "outputs": [
    {
     "name": "stdout",
     "output_type": "stream",
     "text": [
      "复利:-0.03366917155991489\n",
      "2.149998104428406\n",
      "32.00000000000001\n",
      "36.362704486708566\n"
     ]
    }
   ],
   "source": [
    "import math\n",
    "print(\"复利:{}\".format(0.71 ** ( 1 / 10) -1))\n",
    "print((1 + 0.0795526) ** 10)\n",
    "\n",
    "print((1 + 0.1) ** 36.362704486708566 )\n",
    "\n",
    "print(math.log(32, 1.1))"
   ]
  },
  {
   "cell_type": "code",
   "execution_count": 34,
   "metadata": {},
   "outputs": [
    {
     "name": "stdout",
     "output_type": "stream",
     "text": [
      "12.5\n"
     ]
    }
   ],
   "source": [
    "(-0.282863 -1.509059)/2\n",
    "\n",
    "(189+258)*0.7\n",
    "\n",
    "print(250/20)"
   ]
  }
 ],
 "metadata": {
  "kernelspec": {
   "display_name": "Python 3.9.8 64-bit",
   "language": "python",
   "name": "python3"
  },
  "language_info": {
   "codemirror_mode": {
    "name": "ipython",
    "version": 3
   },
   "file_extension": ".py",
   "mimetype": "text/x-python",
   "name": "python",
   "nbconvert_exporter": "python",
   "pygments_lexer": "ipython3",
   "version": "3.9.8"
  },
  "orig_nbformat": 4,
  "vscode": {
   "interpreter": {
    "hash": "b4014b60265de7f80a801ece3da4a480cce03f2136c91739134aaed5b8cdff47"
   }
  }
 },
 "nbformat": 4,
 "nbformat_minor": 2
}
