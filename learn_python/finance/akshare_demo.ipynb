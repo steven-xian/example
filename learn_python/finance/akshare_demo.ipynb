{
 "cells": [
  {
   "cell_type": "code",
   "execution_count": null,
   "metadata": {},
   "outputs": [],
   "source": [
    "import matplotlib.pyplot as plt\n",
    "\n",
    "labels = 'Frogs', 'Hogs', 'Dogs', 'Logs'\n",
    "fracs = [15, 30, 45, 10]\n",
    "\n",
    "fig, axs = plt.subplots()\n",
    "\n",
    "# axs.pie(fracs, labels=labels, autopct='%1.1f%%', shadow=True)\n",
    "axs.pie(fracs, labels=labels, autopct='%.0f%%', shadow=True, explode=(0.1, 0.1,0,0))"
   ]
  },
  {
   "cell_type": "code",
   "execution_count": 2,
   "metadata": {},
   "outputs": [],
   "source": [
    "import akshare as ak\n",
    "\n"
   ]
  },
  {
   "cell_type": "code",
   "execution_count": 27,
   "metadata": {},
   "outputs": [
    {
     "name": "stderr",
     "output_type": "stream",
     "text": [
      "                                               \r"
     ]
    }
   ],
   "source": [
    "lrb = ak.stock_lrb_em(date=\"20220331\")"
   ]
  },
  {
   "cell_type": "code",
   "execution_count": 26,
   "metadata": {},
   "outputs": [],
   "source": [
    "lrb.to_csv(\"./lrb.csv\")"
   ]
  },
  {
   "cell_type": "code",
   "execution_count": 30,
   "metadata": {},
   "outputs": [
    {
     "data": {
      "text/html": [
       "<div>\n",
       "<style scoped>\n",
       "    .dataframe tbody tr th:only-of-type {\n",
       "        vertical-align: middle;\n",
       "    }\n",
       "\n",
       "    .dataframe tbody tr th {\n",
       "        vertical-align: top;\n",
       "    }\n",
       "\n",
       "    .dataframe thead th {\n",
       "        text-align: right;\n",
       "    }\n",
       "</style>\n",
       "<table border=\"1\" class=\"dataframe\">\n",
       "  <thead>\n",
       "    <tr style=\"text-align: right;\">\n",
       "      <th></th>\n",
       "      <th>序号</th>\n",
       "      <th>股票代码</th>\n",
       "      <th>股票简称</th>\n",
       "      <th>净利润</th>\n",
       "      <th>净利润同比</th>\n",
       "      <th>营业总收入</th>\n",
       "      <th>营业总收入同比</th>\n",
       "      <th>营业总支出-营业支出</th>\n",
       "      <th>营业总支出-销售费用</th>\n",
       "      <th>营业总支出-管理费用</th>\n",
       "      <th>营业总支出-财务费用</th>\n",
       "      <th>营业总支出-营业总支出</th>\n",
       "      <th>营业利润</th>\n",
       "      <th>利润总额</th>\n",
       "      <th>公告日期</th>\n",
       "    </tr>\n",
       "  </thead>\n",
       "  <tbody>\n",
       "    <tr>\n",
       "      <th>2082</th>\n",
       "      <td>2083</td>\n",
       "      <td>000858</td>\n",
       "      <td>五粮液</td>\n",
       "      <td>1.082287e+10</td>\n",
       "      <td>16.08</td>\n",
       "      <td>2.754816e+10</td>\n",
       "      <td>13.251148</td>\n",
       "      <td>5.948172e+09</td>\n",
       "      <td>2.033172e+09</td>\n",
       "      <td>9.804271e+08</td>\n",
       "      <td>-5.133086e+08</td>\n",
       "      <td>1.240055e+10</td>\n",
       "      <td>1.516849e+10</td>\n",
       "      <td>1.513640e+10</td>\n",
       "      <td>2022-04-29</td>\n",
       "    </tr>\n",
       "  </tbody>\n",
       "</table>\n",
       "</div>"
      ],
      "text/plain": [
       "        序号    股票代码 股票简称           净利润  净利润同比         营业总收入    营业总收入同比  \\\n",
       "2082  2083  000858  五粮液  1.082287e+10  16.08  2.754816e+10  13.251148   \n",
       "\n",
       "        营业总支出-营业支出    营业总支出-销售费用    营业总支出-管理费用    营业总支出-财务费用   营业总支出-营业总支出  \\\n",
       "2082  5.948172e+09  2.033172e+09  9.804271e+08 -5.133086e+08  1.240055e+10   \n",
       "\n",
       "              营业利润          利润总额        公告日期  \n",
       "2082  1.516849e+10  1.513640e+10  2022-04-29  "
      ]
     },
     "execution_count": 30,
     "metadata": {},
     "output_type": "execute_result"
    }
   ],
   "source": [
    "lrb.loc[lrb[\"股票代码\"] == \"000858\"]"
   ]
  },
  {
   "cell_type": "code",
   "execution_count": null,
   "metadata": {},
   "outputs": [
    {
     "ename": "",
     "evalue": "",
     "output_type": "error",
     "traceback": [
      "\u001b[1;31mRunning cells with 'Python 3.10.8 64-bit' requires ipykernel package.\n",
      "\u001b[1;31mRun the following command to install 'ipykernel' into the Python environment. \n",
      "\u001b[1;31mCommand: '/opt/homebrew/opt/python@3.10/bin/python3 -m pip install ipykernel -U --user --force-reinstall'"
     ]
    }
   ],
   "source": [
    "gdp = ak.macro_china_gdp()\n",
    "print(gdp)"
   ]
  },
  {
   "cell_type": "code",
   "execution_count": 4,
   "metadata": {},
   "outputs": [],
   "source": [
    "div = ak.stock_history_dividend()"
   ]
  },
  {
   "cell_type": "code",
   "execution_count": 8,
   "metadata": {},
   "outputs": [
    {
     "name": "stdout",
     "output_type": "stream",
     "text": [
      "          代码    名称        上市日期   累计股息  年均股息  分红次数      融资总额  融资次数\n",
      "0     000550  江铃汽车  1993-12-01  202.1  6.97    47    0.0000     0\n",
      "1     000541  佛山照明  1993-11-23  182.9  6.31    52    0.0000     0\n",
      "2     000429  粤高速A  1998-02-20  148.9  5.96    46   16.3350     1\n",
      "3     000726   鲁泰A  2000-12-25  136.7  6.22    43    9.5082     1\n",
      "4     000022  深赤湾A  1993-05-05  132.3  5.09    45    0.0000     0\n",
      "...      ...   ...         ...    ...   ...   ...       ...   ...\n",
      "4611  688789  宏华数科  2021-07-08    0.0  0.00     0    5.0340     1\n",
      "4612  688798  艾为电子  2021-08-16    0.0  0.00     0   30.3526     1\n",
      "4613  688799  华纳药厂  2021-07-13    0.0  0.00     0    6.5566     1\n",
      "4614  688800   瑞可达  2021-07-22    0.0  0.00     0    3.4983     1\n",
      "4615  688981  中芯国际  2020-07-16    0.0  0.00     0  525.1560     1\n",
      "\n",
      "[4616 rows x 8 columns]\n"
     ]
    }
   ],
   "source": [
    "# print(div[div['代码'] == '000858'])\n",
    "print(div)"
   ]
  },
  {
   "cell_type": "code",
   "execution_count": null,
   "metadata": {},
   "outputs": [
    {
     "ename": "",
     "evalue": "",
     "output_type": "error",
     "traceback": [
      "\u001b[1;31mRunning cells with 'Python 3.10.8 64-bit' requires ipykernel package.\n",
      "\u001b[1;31mRun the following command to install 'ipykernel' into the Python environment. \n",
      "\u001b[1;31mCommand: '/opt/homebrew/opt/python@3.10/bin/python3 -m pip install ipykernel -U --user --force-reinstall'"
     ]
    }
   ],
   "source": [
    "# Annualized standard deviation (volatility) of monthly return\n",
    "# 月收益率的年化标准差（波动率）\n",
    "# 实证研究表明，收益率标准差（波动率）存在一定的集聚现象，\n",
    "# 即高波动率和低波动率往往会各自聚集在一起，并且高波动率和低波动率聚集的时期是交替出现的。\n",
    "# 红色部门显示出，所有股票均存在一定的波动集聚现象。\n",
    "fig = plt.figure(figsize = (16,15))\n",
    "for ii,jj in enumerate(tickers):\n",
    "    plt.subplot(5,2,ii+1)\n",
    "    daily_ret=stocks[jj].pct_change()\n",
    "    mnthly_annu = daily_ret.resample('M').std()* np.sqrt(12)\n",
    "    #plt.rcParams['figure.figsize']=[20,5]\n",
    "    mnthly_annu.plot(color=color_palette[ii],label=jj)\n",
    "    start_date=mnthly_annu.index[0]\n",
    "    end_date=mnthly_annu.index[-1]\n",
    "    plt.xticks(pd.date_range(start_date,end_date,freq='Y'),[str(y) for y in range(start_date.year+1,end_date.year+1)])\n",
    "    dates=mnthly_annu[mnthly_annu>0.07].index\n",
    "    for i in range(0,len(dates)-1,3):\n",
    "        plt.axvspan(dates[i],dates[i+1],color=color_palette[ii],alpha=.3)\n",
    "    plt.title('%s - Standard deviation of monthly rate of return'%jj,size=15)\n",
    "    labs = mpatches.Patch(color=color_palette[ii],alpha=.5, label=\"Volatility agglomeration\")\n",
    "    plt.legend(handles=[labs])\n",
    "plt.tight_layout()"
   ]
  }
 ],
 "metadata": {
  "kernelspec": {
   "display_name": "Python 3.10.8 64-bit",
   "language": "python",
   "name": "python3"
  },
  "language_info": {
   "codemirror_mode": {
    "name": "ipython",
    "version": 3
   },
   "file_extension": ".py",
   "mimetype": "text/x-python",
   "name": "python",
   "nbconvert_exporter": "python",
   "pygments_lexer": "ipython3",
   "version": "3.10.8"
  },
  "orig_nbformat": 4,
  "vscode": {
   "interpreter": {
    "hash": "a0a5145e6c304e2a9afaf5b930a2955b950bd4b81fe94f7c42930f43f42762eb"
   }
  }
 },
 "nbformat": 4,
 "nbformat_minor": 2
}
