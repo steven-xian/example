{
 "cells": [
  {
   "cell_type": "code",
   "execution_count": null,
   "metadata": {},
   "outputs": [],
   "source": [
    "import matplotlib.pyplot as plt\n",
    "\n",
    "labels = 'Frogs', 'Hogs', 'Dogs', 'Logs'\n",
    "fracs = [15, 30, 45, 10]\n",
    "\n",
    "fig, axs = plt.subplots()\n",
    "\n",
    "# axs.pie(fracs, labels=labels, autopct='%1.1f%%', shadow=True)\n",
    "axs.pie(fracs, labels=labels, autopct='%.0f%%', shadow=True, explode=(0.1, 0.1,0,0))"
   ]
  },
  {
   "cell_type": "code",
   "execution_count": 2,
   "metadata": {},
   "outputs": [],
   "source": [
    "import akshare as ak\n",
    "\n"
   ]
  },
  {
   "cell_type": "code",
   "execution_count": 27,
   "metadata": {},
   "outputs": [
    {
     "name": "stderr",
     "output_type": "stream",
     "text": [
      "                                               \r"
     ]
    }
   ],
   "source": [
    "lrb = ak.stock_lrb_em(date=\"20220331\")"
   ]
  },
  {
   "cell_type": "code",
   "execution_count": 26,
   "metadata": {},
   "outputs": [],
   "source": [
    "lrb.to_csv(\"./lrb.csv\")"
   ]
  },
  {
   "cell_type": "code",
   "execution_count": 30,
   "metadata": {},
   "outputs": [
    {
     "data": {
      "text/html": [
       "<div>\n",
       "<style scoped>\n",
       "    .dataframe tbody tr th:only-of-type {\n",
       "        vertical-align: middle;\n",
       "    }\n",
       "\n",
       "    .dataframe tbody tr th {\n",
       "        vertical-align: top;\n",
       "    }\n",
       "\n",
       "    .dataframe thead th {\n",
       "        text-align: right;\n",
       "    }\n",
       "</style>\n",
       "<table border=\"1\" class=\"dataframe\">\n",
       "  <thead>\n",
       "    <tr style=\"text-align: right;\">\n",
       "      <th></th>\n",
       "      <th>序号</th>\n",
       "      <th>股票代码</th>\n",
       "      <th>股票简称</th>\n",
       "      <th>净利润</th>\n",
       "      <th>净利润同比</th>\n",
       "      <th>营业总收入</th>\n",
       "      <th>营业总收入同比</th>\n",
       "      <th>营业总支出-营业支出</th>\n",
       "      <th>营业总支出-销售费用</th>\n",
       "      <th>营业总支出-管理费用</th>\n",
       "      <th>营业总支出-财务费用</th>\n",
       "      <th>营业总支出-营业总支出</th>\n",
       "      <th>营业利润</th>\n",
       "      <th>利润总额</th>\n",
       "      <th>公告日期</th>\n",
       "    </tr>\n",
       "  </thead>\n",
       "  <tbody>\n",
       "    <tr>\n",
       "      <th>2082</th>\n",
       "      <td>2083</td>\n",
       "      <td>000858</td>\n",
       "      <td>五粮液</td>\n",
       "      <td>1.082287e+10</td>\n",
       "      <td>16.08</td>\n",
       "      <td>2.754816e+10</td>\n",
       "      <td>13.251148</td>\n",
       "      <td>5.948172e+09</td>\n",
       "      <td>2.033172e+09</td>\n",
       "      <td>9.804271e+08</td>\n",
       "      <td>-5.133086e+08</td>\n",
       "      <td>1.240055e+10</td>\n",
       "      <td>1.516849e+10</td>\n",
       "      <td>1.513640e+10</td>\n",
       "      <td>2022-04-29</td>\n",
       "    </tr>\n",
       "  </tbody>\n",
       "</table>\n",
       "</div>"
      ],
      "text/plain": [
       "        序号    股票代码 股票简称           净利润  净利润同比         营业总收入    营业总收入同比  \\\n",
       "2082  2083  000858  五粮液  1.082287e+10  16.08  2.754816e+10  13.251148   \n",
       "\n",
       "        营业总支出-营业支出    营业总支出-销售费用    营业总支出-管理费用    营业总支出-财务费用   营业总支出-营业总支出  \\\n",
       "2082  5.948172e+09  2.033172e+09  9.804271e+08 -5.133086e+08  1.240055e+10   \n",
       "\n",
       "              营业利润          利润总额        公告日期  \n",
       "2082  1.516849e+10  1.513640e+10  2022-04-29  "
      ]
     },
     "execution_count": 30,
     "metadata": {},
     "output_type": "execute_result"
    }
   ],
   "source": [
    "lrb.loc[lrb[\"股票代码\"] == \"000858\"]"
   ]
  },
  {
   "cell_type": "code",
   "execution_count": 3,
   "metadata": {},
   "outputs": [
    {
     "name": "stdout",
     "output_type": "stream",
     "text": [
      "             季度  国内生产总值-绝对值  国内生产总值-同比增长  第一产业-绝对值  第一产业-同比增长  第二产业-绝对值  \\\n",
      "0   2022年第1-3季度    870269.0          3.0   54779.1        4.2  350189.5   \n",
      "1   2022年第1-2季度    562641.6          2.5   29137.2        5.0  228636.4   \n",
      "2     2022年第1季度    270177.8          4.8   10953.8        6.0  106186.6   \n",
      "3   2021年第1-4季度   1143669.7          8.1   83085.5        7.1  450904.5   \n",
      "4   2021年第1-3季度    819432.3          9.8   51613.3        7.4  320254.7   \n",
      "..          ...         ...          ...       ...        ...       ...   \n",
      "62    2007年第1季度     57159.3         13.8    3473.0        4.1   25983.1   \n",
      "63  2006年第1-4季度    219438.5         12.7   23317.0        4.8  104359.2   \n",
      "64  2006年第1-3季度    155816.8         12.8   14700.4        4.7   73929.5   \n",
      "65  2006年第1-2季度     99752.2         13.1    7762.7        4.8   46992.9   \n",
      "66    2006年第1季度     47078.9         12.5    3012.7        4.4   21418.2   \n",
      "\n",
      "    第二产业-同比增长  第三产业-绝对值  第三产业-同比增长  \n",
      "0         3.9  465300.4        2.3  \n",
      "1         3.2  304868.0        1.8  \n",
      "2         5.8  153037.4        4.0  \n",
      "3         8.2  609679.7        8.2  \n",
      "4        10.6  447564.3        9.5  \n",
      "..        ...       ...        ...  \n",
      "62       14.8   27703.2       14.1  \n",
      "63       13.5   91762.2       14.1  \n",
      "64       13.7   67187.0       13.7  \n",
      "65       14.2   44996.5       13.6  \n",
      "66       13.1   22648.0       13.1  \n",
      "\n",
      "[67 rows x 9 columns]\n"
     ]
    }
   ],
   "source": [
    "gdp = ak.macro_china_gdp()\n",
    "print(gdp)"
   ]
  },
  {
   "cell_type": "code",
   "execution_count": 4,
   "metadata": {},
   "outputs": [],
   "source": [
    "div = ak.stock_history_dividend()"
   ]
  },
  {
   "cell_type": "code",
   "execution_count": 8,
   "metadata": {},
   "outputs": [
    {
     "name": "stdout",
     "output_type": "stream",
     "text": [
      "          代码    名称        上市日期   累计股息  年均股息  分红次数      融资总额  融资次数\n",
      "0     000550  江铃汽车  1993-12-01  202.1  6.97    47    0.0000     0\n",
      "1     000541  佛山照明  1993-11-23  182.9  6.31    52    0.0000     0\n",
      "2     000429  粤高速A  1998-02-20  148.9  5.96    46   16.3350     1\n",
      "3     000726   鲁泰A  2000-12-25  136.7  6.22    43    9.5082     1\n",
      "4     000022  深赤湾A  1993-05-05  132.3  5.09    45    0.0000     0\n",
      "...      ...   ...         ...    ...   ...   ...       ...   ...\n",
      "4611  688789  宏华数科  2021-07-08    0.0  0.00     0    5.0340     1\n",
      "4612  688798  艾为电子  2021-08-16    0.0  0.00     0   30.3526     1\n",
      "4613  688799  华纳药厂  2021-07-13    0.0  0.00     0    6.5566     1\n",
      "4614  688800   瑞可达  2021-07-22    0.0  0.00     0    3.4983     1\n",
      "4615  688981  中芯国际  2020-07-16    0.0  0.00     0  525.1560     1\n",
      "\n",
      "[4616 rows x 8 columns]\n"
     ]
    }
   ],
   "source": [
    "# print(div[div['代码'] == '000858'])\n",
    "print(div)"
   ]
  },
  {
   "cell_type": "code",
   "execution_count": 10,
   "metadata": {},
   "outputs": [
    {
     "ename": "NameError",
     "evalue": "name 'plt' is not defined",
     "output_type": "error",
     "traceback": [
      "\u001b[1;31m---------------------------------------------------------------------------\u001b[0m",
      "\u001b[1;31mNameError\u001b[0m                                 Traceback (most recent call last)",
      "\u001b[1;32md:\\workspace\\src\\examples\\learn_python\\finance\\akshare_demo.ipynb Cell 9\u001b[0m in \u001b[0;36m<cell line: 6>\u001b[1;34m()\u001b[0m\n\u001b[0;32m      <a href='vscode-notebook-cell:/d%3A/workspace/src/examples/learn_python/finance/akshare_demo.ipynb#X11sZmlsZQ%3D%3D?line=0'>1</a>\u001b[0m \u001b[39m# Annualized standard deviation (volatility) of monthly return\u001b[39;00m\n\u001b[0;32m      <a href='vscode-notebook-cell:/d%3A/workspace/src/examples/learn_python/finance/akshare_demo.ipynb#X11sZmlsZQ%3D%3D?line=1'>2</a>\u001b[0m \u001b[39m# 月收益率的年化标准差（波动率）\u001b[39;00m\n\u001b[0;32m      <a href='vscode-notebook-cell:/d%3A/workspace/src/examples/learn_python/finance/akshare_demo.ipynb#X11sZmlsZQ%3D%3D?line=2'>3</a>\u001b[0m \u001b[39m# 实证研究表明，收益率标准差（波动率）存在一定的集聚现象，\u001b[39;00m\n\u001b[0;32m      <a href='vscode-notebook-cell:/d%3A/workspace/src/examples/learn_python/finance/akshare_demo.ipynb#X11sZmlsZQ%3D%3D?line=3'>4</a>\u001b[0m \u001b[39m# 即高波动率和低波动率往往会各自聚集在一起，并且高波动率和低波动率聚集的时期是交替出现的。\u001b[39;00m\n\u001b[0;32m      <a href='vscode-notebook-cell:/d%3A/workspace/src/examples/learn_python/finance/akshare_demo.ipynb#X11sZmlsZQ%3D%3D?line=4'>5</a>\u001b[0m \u001b[39m# 红色部门显示出，所有股票均存在一定的波动集聚现象。\u001b[39;00m\n\u001b[1;32m----> <a href='vscode-notebook-cell:/d%3A/workspace/src/examples/learn_python/finance/akshare_demo.ipynb#X11sZmlsZQ%3D%3D?line=5'>6</a>\u001b[0m fig \u001b[39m=\u001b[39m plt\u001b[39m.\u001b[39mfigure(figsize \u001b[39m=\u001b[39m (\u001b[39m16\u001b[39m,\u001b[39m15\u001b[39m))\n\u001b[0;32m      <a href='vscode-notebook-cell:/d%3A/workspace/src/examples/learn_python/finance/akshare_demo.ipynb#X11sZmlsZQ%3D%3D?line=6'>7</a>\u001b[0m \u001b[39mfor\u001b[39;00m ii,jj \u001b[39min\u001b[39;00m \u001b[39menumerate\u001b[39m(tickers):\n\u001b[0;32m      <a href='vscode-notebook-cell:/d%3A/workspace/src/examples/learn_python/finance/akshare_demo.ipynb#X11sZmlsZQ%3D%3D?line=7'>8</a>\u001b[0m     plt\u001b[39m.\u001b[39msubplot(\u001b[39m5\u001b[39m,\u001b[39m2\u001b[39m,ii\u001b[39m+\u001b[39m\u001b[39m1\u001b[39m)\n",
      "\u001b[1;31mNameError\u001b[0m: name 'plt' is not defined"
     ]
    }
   ],
   "source": [
    "# Annualized standard deviation (volatility) of monthly return\n",
    "# 月收益率的年化标准差（波动率）\n",
    "# 实证研究表明，收益率标准差（波动率）存在一定的集聚现象，\n",
    "# 即高波动率和低波动率往往会各自聚集在一起，并且高波动率和低波动率聚集的时期是交替出现的。\n",
    "# 红色部门显示出，所有股票均存在一定的波动集聚现象。\n",
    "fig = plt.figure(figsize = (16,15))\n",
    "for ii,jj in enumerate(tickers):\n",
    "    plt.subplot(5,2,ii+1)\n",
    "    daily_ret=stocks[jj].pct_change()\n",
    "    mnthly_annu = daily_ret.resample('M').std()* np.sqrt(12)\n",
    "    #plt.rcParams['figure.figsize']=[20,5]\n",
    "    mnthly_annu.plot(color=color_palette[ii],label=jj)\n",
    "    start_date=mnthly_annu.index[0]\n",
    "    end_date=mnthly_annu.index[-1]\n",
    "    plt.xticks(pd.date_range(start_date,end_date,freq='Y'),[str(y) for y in range(start_date.year+1,end_date.year+1)])\n",
    "    dates=mnthly_annu[mnthly_annu>0.07].index\n",
    "    for i in range(0,len(dates)-1,3):\n",
    "        plt.axvspan(dates[i],dates[i+1],color=color_palette[ii],alpha=.3)\n",
    "    plt.title('%s - Standard deviation of monthly rate of return'%jj,size=15)\n",
    "    labs = mpatches.Patch(color=color_palette[ii],alpha=.5, label=\"Volatility agglomeration\")\n",
    "    plt.legend(handles=[labs])\n",
    "plt.tight_layout()"
   ]
  }
 ],
 "metadata": {
  "kernelspec": {
   "display_name": "Python 3.9.8 64-bit",
   "language": "python",
   "name": "python3"
  },
  "language_info": {
   "codemirror_mode": {
    "name": "ipython",
    "version": 3
   },
   "file_extension": ".py",
   "mimetype": "text/x-python",
   "name": "python",
   "nbconvert_exporter": "python",
   "pygments_lexer": "ipython3",
   "version": "3.9.8"
  },
  "orig_nbformat": 4,
  "vscode": {
   "interpreter": {
    "hash": "b4014b60265de7f80a801ece3da4a480cce03f2136c91739134aaed5b8cdff47"
   }
  }
 },
 "nbformat": 4,
 "nbformat_minor": 2
}
