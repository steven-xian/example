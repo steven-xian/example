{
 "cells": [
  {
   "cell_type": "code",
   "execution_count": null,
   "metadata": {},
   "outputs": [],
   "source": [
    "import matplotlib.pyplot as plt\n",
    "\n",
    "labels = 'Frogs', 'Hogs', 'Dogs', 'Logs'\n",
    "fracs = [15, 30, 45, 10]\n",
    "\n",
    "fig, axs = plt.subplots()\n",
    "\n",
    "# axs.pie(fracs, labels=labels, autopct='%1.1f%%', shadow=True)\n",
    "axs.pie(fracs, labels=labels, autopct='%.0f%%', shadow=True, explode=(0.1, 0.1,0,0))"
   ]
  },
  {
   "cell_type": "code",
   "execution_count": 2,
   "metadata": {},
   "outputs": [],
   "source": [
    "import akshare as ak\n",
    "\n"
   ]
  },
  {
   "cell_type": "code",
   "execution_count": 27,
   "metadata": {},
   "outputs": [
    {
     "name": "stderr",
     "output_type": "stream",
     "text": [
      "                                               \r"
     ]
    }
   ],
   "source": [
    "lrb = ak.stock_lrb_em(date=\"20220331\")"
   ]
  },
  {
   "cell_type": "code",
   "execution_count": 26,
   "metadata": {},
   "outputs": [],
   "source": [
    "lrb.to_csv(\"./lrb.csv\")"
   ]
  },
  {
   "cell_type": "code",
   "execution_count": 30,
   "metadata": {},
   "outputs": [
    {
     "data": {
      "text/html": [
       "<div>\n",
       "<style scoped>\n",
       "    .dataframe tbody tr th:only-of-type {\n",
       "        vertical-align: middle;\n",
       "    }\n",
       "\n",
       "    .dataframe tbody tr th {\n",
       "        vertical-align: top;\n",
       "    }\n",
       "\n",
       "    .dataframe thead th {\n",
       "        text-align: right;\n",
       "    }\n",
       "</style>\n",
       "<table border=\"1\" class=\"dataframe\">\n",
       "  <thead>\n",
       "    <tr style=\"text-align: right;\">\n",
       "      <th></th>\n",
       "      <th>序号</th>\n",
       "      <th>股票代码</th>\n",
       "      <th>股票简称</th>\n",
       "      <th>净利润</th>\n",
       "      <th>净利润同比</th>\n",
       "      <th>营业总收入</th>\n",
       "      <th>营业总收入同比</th>\n",
       "      <th>营业总支出-营业支出</th>\n",
       "      <th>营业总支出-销售费用</th>\n",
       "      <th>营业总支出-管理费用</th>\n",
       "      <th>营业总支出-财务费用</th>\n",
       "      <th>营业总支出-营业总支出</th>\n",
       "      <th>营业利润</th>\n",
       "      <th>利润总额</th>\n",
       "      <th>公告日期</th>\n",
       "    </tr>\n",
       "  </thead>\n",
       "  <tbody>\n",
       "    <tr>\n",
       "      <th>2082</th>\n",
       "      <td>2083</td>\n",
       "      <td>000858</td>\n",
       "      <td>五粮液</td>\n",
       "      <td>1.082287e+10</td>\n",
       "      <td>16.08</td>\n",
       "      <td>2.754816e+10</td>\n",
       "      <td>13.251148</td>\n",
       "      <td>5.948172e+09</td>\n",
       "      <td>2.033172e+09</td>\n",
       "      <td>9.804271e+08</td>\n",
       "      <td>-5.133086e+08</td>\n",
       "      <td>1.240055e+10</td>\n",
       "      <td>1.516849e+10</td>\n",
       "      <td>1.513640e+10</td>\n",
       "      <td>2022-04-29</td>\n",
       "    </tr>\n",
       "  </tbody>\n",
       "</table>\n",
       "</div>"
      ],
      "text/plain": [
       "        序号    股票代码 股票简称           净利润  净利润同比         营业总收入    营业总收入同比  \\\n",
       "2082  2083  000858  五粮液  1.082287e+10  16.08  2.754816e+10  13.251148   \n",
       "\n",
       "        营业总支出-营业支出    营业总支出-销售费用    营业总支出-管理费用    营业总支出-财务费用   营业总支出-营业总支出  \\\n",
       "2082  5.948172e+09  2.033172e+09  9.804271e+08 -5.133086e+08  1.240055e+10   \n",
       "\n",
       "              营业利润          利润总额        公告日期  \n",
       "2082  1.516849e+10  1.513640e+10  2022-04-29  "
      ]
     },
     "execution_count": 30,
     "metadata": {},
     "output_type": "execute_result"
    }
   ],
   "source": [
    "lrb.loc[lrb[\"股票代码\"] == \"000858\"]"
   ]
  },
  {
   "cell_type": "code",
   "execution_count": null,
   "metadata": {},
   "outputs": [
    {
     "ename": "",
     "evalue": "",
     "output_type": "error",
     "traceback": [
      "\u001b[1;31mRunning cells with 'Python 3.10.8 64-bit' requires ipykernel package.\n",
      "\u001b[1;31mRun the following command to install 'ipykernel' into the Python environment. \n",
      "\u001b[1;31mCommand: '/opt/homebrew/opt/python@3.10/bin/python3 -m pip install ipykernel -U --user --force-reinstall'"
     ]
    }
   ],
   "source": [
    "gdp = ak.macro_china_gdp()\n",
    "print(gdp)"
   ]
  },
  {
   "cell_type": "code",
   "execution_count": 4,
   "metadata": {},
   "outputs": [],
   "source": [
    "div = ak.stock_history_dividend()"
   ]
  },
  {
   "cell_type": "code",
   "execution_count": 8,
   "metadata": {},
   "outputs": [
    {
     "name": "stdout",
     "output_type": "stream",
     "text": [
      "          代码    名称        上市日期   累计股息  年均股息  分红次数      融资总额  融资次数\n",
      "0     000550  江铃汽车  1993-12-01  202.1  6.97    47    0.0000     0\n",
      "1     000541  佛山照明  1993-11-23  182.9  6.31    52    0.0000     0\n",
      "2     000429  粤高速A  1998-02-20  148.9  5.96    46   16.3350     1\n",
      "3     000726   鲁泰A  2000-12-25  136.7  6.22    43    9.5082     1\n",
      "4     000022  深赤湾A  1993-05-05  132.3  5.09    45    0.0000     0\n",
      "...      ...   ...         ...    ...   ...   ...       ...   ...\n",
      "4611  688789  宏华数科  2021-07-08    0.0  0.00     0    5.0340     1\n",
      "4612  688798  艾为电子  2021-08-16    0.0  0.00     0   30.3526     1\n",
      "4613  688799  华纳药厂  2021-07-13    0.0  0.00     0    6.5566     1\n",
      "4614  688800   瑞可达  2021-07-22    0.0  0.00     0    3.4983     1\n",
      "4615  688981  中芯国际  2020-07-16    0.0  0.00     0  525.1560     1\n",
      "\n",
      "[4616 rows x 8 columns]\n"
     ]
    }
   ],
   "source": [
    "# print(div[div['代码'] == '000858'])\n",
    "print(div)"
   ]
  },
  {
   "cell_type": "code",
   "execution_count": null,
   "metadata": {},
   "outputs": [
    {
     "ename": "",
     "evalue": "",
     "output_type": "error",
     "traceback": [
      "\u001b[1;31mRunning cells with 'Python 3.10.8 64-bit' requires ipykernel package.\n",
      "\u001b[1;31mRun the following command to install 'ipykernel' into the Python environment. \n",
      "\u001b[1;31mCommand: '/opt/homebrew/opt/python@3.10/bin/python3 -m pip install ipykernel -U --user --force-reinstall'"
     ]
    }
   ],
   "source": [
    "# Annualized standard deviation (volatility) of monthly return\n",
    "# 月收益率的年化标准差（波动率）\n",
    "# 实证研究表明，收益率标准差（波动率）存在一定的集聚现象，\n",
    "# 即高波动率和低波动率往往会各自聚集在一起，并且高波动率和低波动率聚集的时期是交替出现的。\n",
    "# 红色部门显示出，所有股票均存在一定的波动集聚现象。\n",
    "fig = plt.figure(figsize = (16,15))\n",
    "for ii,jj in enumerate(tickers):\n",
    "    plt.subplot(5,2,ii+1)\n",
    "    daily_ret=stocks[jj].pct_change()\n",
    "    mnthly_annu = daily_ret.resample('M').std()* np.sqrt(12)\n",
    "    #plt.rcParams['figure.figsize']=[20,5]\n",
    "    mnthly_annu.plot(color=color_palette[ii],label=jj)\n",
    "    start_date=mnthly_annu.index[0]\n",
    "    end_date=mnthly_annu.index[-1]\n",
    "    plt.xticks(pd.date_range(start_date,end_date,freq='Y'),[str(y) for y in range(start_date.year+1,end_date.year+1)])\n",
    "    dates=mnthly_annu[mnthly_annu>0.07].index\n",
    "    for i in range(0,len(dates)-1,3):\n",
    "        plt.axvspan(dates[i],dates[i+1],color=color_palette[ii],alpha=.3)\n",
    "    plt.title('%s - Standard deviation of monthly rate of return'%jj,size=15)\n",
    "    labs = mpatches.Patch(color=color_palette[ii],alpha=.5, label=\"Volatility agglomeration\")\n",
    "    plt.legend(handles=[labs])\n",
    "plt.tight_layout()"
   ]
  },
  {
   "cell_type": "code",
   "execution_count": 54,
   "metadata": {},
   "outputs": [],
   "source": [
    "import akshare as ak\n",
    "import pandas as pd\n",
    "\n",
    "fin_report = ak.stock_financial_report_sina(stock=\"000568\", symbol=\"资产负债表\")\n",
    "\n",
    "fin_report.to_csv(\"000568_bala.csv\", encoding=\"utf_8_sig\")\n",
    "# fin_report_all = pd.DataFrame({\"cash\": fin_report[\"货币资金\"]}, index=pd.to_datetime(fin_report[\"报表日期\"])"
   ]
  },
  {
   "cell_type": "code",
   "execution_count": 40,
   "metadata": {},
   "outputs": [
    {
     "data": {
      "text/plain": [
       "array([['13684458440.06', '17046109916.36', '14866514494.17',\n",
       "        '13513494580.56', '11313792856.94', '13611381648.55',\n",
       "        '12469738488.32', '11624870340.60', '10058879793.25',\n",
       "        '10933749651.46', '10503991625.35', '9753666526.78',\n",
       "        '10347741520.56', '9698993836.79', '9380553373.92',\n",
       "        '9367386627.68', '8384037897.32', '8595287503.48',\n",
       "        '8718593382.65', '8449622154.91', '7599866037.94',\n",
       "        '4284662181.51', '4497354839.59', '4765292939.21',\n",
       "        '4269677770.42', '5090446574.76', '4266686089.62',\n",
       "        '3539506611.40', '3543110823.58', '3438596416.42',\n",
       "        '4393365433.68', '4709607474.33', '5054970768.59',\n",
       "        '6448579978.77', '6248286868.86', '5349434667.26',\n",
       "        '5390023542.27', '7566381691.65', '7146474384.42',\n",
       "        '6942008562.71', '5748790036.31', '4284505754.35',\n",
       "        '3750013841.46', '3148898506.79', '1388233025.87',\n",
       "        '1933804916.87', '1407993221.02', '1079108611.48',\n",
       "        '787654892.77', '1334113144.77', '1083203725.48', '937281020.65',\n",
       "        '648445541.73', '736943223.01', '1111767734.49', '703637937.80',\n",
       "        '590740575.64', '429365475.66', '445809827.82', '444308234.54',\n",
       "        '435913225.34', '533429759.08', '670646807.03', '777957867.96',\n",
       "        '427716415.93', '349758100.18', '336960652.74', '297216875.15',\n",
       "        '238764750.06', '256632471.24', '298836463.67', '257927054.83',\n",
       "        '263563864.74', '299886761.77', '396939693.16', '451229814.89',\n",
       "        '388555396.08', '381096590.87', '394697790.92', '426518552.53',\n",
       "        '160403672.33', '150940471.13', '214643805.03', '245913391.89',\n",
       "        '204056626.75', '176313880.06', '108214767.25', '198827645.89',\n",
       "        '200697869.70', '144721264.96', '148051151.61', '129204661.77',\n",
       "        '0', '87999644.77', '0', '54873159.03', '0', '43433080.63', '0',\n",
       "        '10208193.51', '12212974.18', '6558584.36'],\n",
       "       ['2635634.68', '1403341.54', '4813069.19', '1628248.55',\n",
       "        '2165061.12', '6711515.89', '1563983.25', '1507852.43',\n",
       "        '1635316.02', '5545439.80', '15369344.25', '18293914.23',\n",
       "        '17343231.03', '23445033.71', '10204614.10', '10333728.87',\n",
       "        '16078621.29', '12729709.15', '11994458.21', '8008857.20',\n",
       "        '6217910.64', '3967148.22', '8473880.88', '3898676.86',\n",
       "        '9575329.89', '6177343.68', '10079571.43', '12226328.76',\n",
       "        '9912382.23', '11690777.78', '11290612.58', '4705568.29',\n",
       "        '28224642.14', '13067495.81', '9884310.88', '10092949.09',\n",
       "        '80311404.79', '24855935.20', '39239226.28', '80473364.77',\n",
       "        '110964313.51', '57713523.12', '81598041.77', '59557461.53',\n",
       "        '106701737.78', '69751293.33', '76610472.35', '47113084.31',\n",
       "        '111207304.36', '88670167.77', '124626977.25', '30664433.79',\n",
       "        '63108374.86', '52042086.77', '75386281.03', '28231795.49',\n",
       "        '69802719.65', '38197233.55', '117149495.83', '64100091.57',\n",
       "        '119489758.95', '74938653.78', '87634348.62', '42121837.82',\n",
       "        '40221584.76', '39599540.80', '44300347.06', '29059522.57',\n",
       "        '62076822.38', '52834041.78', '78553758.39', '51192127.11',\n",
       "        '86641783.33', '90522407.19', '109173101.15', '98793574.62',\n",
       "        '150231448.87', '148434034.43', '209740938.40', '145623620.31',\n",
       "        '207329709.65', '181338358.51', '179599672.60', '161697443.02',\n",
       "        '191752802.42', '162342935.45', '190737449.19', '146241403.36',\n",
       "        '153176216.92', '125176506.27', '152061275.84', '163260875.31',\n",
       "        '0', '13105672.27', '0', '10950175.94', '0', '285271.65', '0',\n",
       "        '35944500.33', '173978.96', '145470.08']], dtype=object)"
      ]
     },
     "execution_count": 40,
     "metadata": {},
     "output_type": "execute_result"
    }
   ],
   "source": [
    "import numpy as np\n",
    "\n",
    "\n",
    "# np.array]"
   ]
  },
  {
   "cell_type": "code",
   "execution_count": 48,
   "metadata": {},
   "outputs": [
    {
     "name": "stdout",
     "output_type": "stream",
     "text": [
      "204\n"
     ]
    }
   ],
   "source": [
    "print(len())"
   ]
  },
  {
   "cell_type": "code",
   "execution_count": 118,
   "metadata": {},
   "outputs": [],
   "source": [
    "fin_report_all = pd.DataFrame(\n",
    "    # np.random.randn(204,1),\n",
    "    columns=[\"000568\"],\n",
    "    index=pd.MultiIndex.from_product(\n",
    "        [pd.to_datetime(fin_report[\"报表日期\"]), ['应收账款','货币资金']]\n",
    "    )\n",
    ")\n",
    "\n",
    "\n",
    "# fin_report_all['应收账款'] = fin_report['应收账款'].values\n"
   ]
  },
  {
   "cell_type": "code",
   "execution_count": 120,
   "metadata": {},
   "outputs": [],
   "source": [
    "fin_report_all.loc[(slice(None), \"货币资金\"), \"000568\"] = fin_report['货币资金'].values"
   ]
  },
  {
   "cell_type": "code",
   "execution_count": 121,
   "metadata": {},
   "outputs": [
    {
     "data": {
      "text/html": [
       "<div>\n",
       "<style scoped>\n",
       "    .dataframe tbody tr th:only-of-type {\n",
       "        vertical-align: middle;\n",
       "    }\n",
       "\n",
       "    .dataframe tbody tr th {\n",
       "        vertical-align: top;\n",
       "    }\n",
       "\n",
       "    .dataframe thead th {\n",
       "        text-align: right;\n",
       "    }\n",
       "</style>\n",
       "<table border=\"1\" class=\"dataframe\">\n",
       "  <thead>\n",
       "    <tr style=\"text-align: right;\">\n",
       "      <th></th>\n",
       "      <th></th>\n",
       "      <th>000568</th>\n",
       "    </tr>\n",
       "    <tr>\n",
       "      <th>报表日期</th>\n",
       "      <th></th>\n",
       "      <th></th>\n",
       "    </tr>\n",
       "  </thead>\n",
       "  <tbody>\n",
       "    <tr>\n",
       "      <th rowspan=\"2\" valign=\"top\">2022-09-30</th>\n",
       "      <th>应收账款</th>\n",
       "      <td>NaN</td>\n",
       "    </tr>\n",
       "    <tr>\n",
       "      <th>货币资金</th>\n",
       "      <td>13684458440.06</td>\n",
       "    </tr>\n",
       "    <tr>\n",
       "      <th rowspan=\"2\" valign=\"top\">2022-06-30</th>\n",
       "      <th>应收账款</th>\n",
       "      <td>NaN</td>\n",
       "    </tr>\n",
       "    <tr>\n",
       "      <th>货币资金</th>\n",
       "      <td>17046109916.36</td>\n",
       "    </tr>\n",
       "    <tr>\n",
       "      <th>2022-03-31</th>\n",
       "      <th>应收账款</th>\n",
       "      <td>NaN</td>\n",
       "    </tr>\n",
       "    <tr>\n",
       "      <th>...</th>\n",
       "      <th>...</th>\n",
       "      <td>...</td>\n",
       "    </tr>\n",
       "    <tr>\n",
       "      <th>1993-12-31</th>\n",
       "      <th>货币资金</th>\n",
       "      <td>10208193.51</td>\n",
       "    </tr>\n",
       "    <tr>\n",
       "      <th rowspan=\"2\" valign=\"top\">1992-12-31</th>\n",
       "      <th>应收账款</th>\n",
       "      <td>NaN</td>\n",
       "    </tr>\n",
       "    <tr>\n",
       "      <th>货币资金</th>\n",
       "      <td>12212974.18</td>\n",
       "    </tr>\n",
       "    <tr>\n",
       "      <th rowspan=\"2\" valign=\"top\">1991-12-31</th>\n",
       "      <th>应收账款</th>\n",
       "      <td>NaN</td>\n",
       "    </tr>\n",
       "    <tr>\n",
       "      <th>货币资金</th>\n",
       "      <td>6558584.36</td>\n",
       "    </tr>\n",
       "  </tbody>\n",
       "</table>\n",
       "<p>204 rows × 1 columns</p>\n",
       "</div>"
      ],
      "text/plain": [
       "                         000568\n",
       "报表日期                           \n",
       "2022-09-30 应收账款             NaN\n",
       "           货币资金  13684458440.06\n",
       "2022-06-30 应收账款             NaN\n",
       "           货币资金  17046109916.36\n",
       "2022-03-31 应收账款             NaN\n",
       "...                         ...\n",
       "1993-12-31 货币资金     10208193.51\n",
       "1992-12-31 应收账款             NaN\n",
       "           货币资金     12212974.18\n",
       "1991-12-31 应收账款             NaN\n",
       "           货币资金      6558584.36\n",
       "\n",
       "[204 rows x 1 columns]"
      ]
     },
     "execution_count": 121,
     "metadata": {},
     "output_type": "execute_result"
    }
   ],
   "source": [
    "fin_report_all"
   ]
  },
  {
   "cell_type": "code",
   "execution_count": 117,
   "metadata": {},
   "outputs": [
    {
     "name": "stdout",
     "output_type": "stream",
     "text": [
      "[[-0.04725359 -0.69038977]\n",
      " [ 0.96786149  0.104812  ]\n",
      " [-0.42278983 -0.23637462]\n",
      " [ 0.11975571 -0.30425013]\n",
      " [-2.04443586 -0.3294943 ]\n",
      " [-1.60481487  0.74316892]\n",
      " [-0.22306208  1.66595907]\n",
      " [ 0.993015   -1.32998166]]\n"
     ]
    }
   ],
   "source": [
    "print(np.random.randn(8, 2))"
   ]
  },
  {
   "cell_type": "code",
   "execution_count": 6,
   "metadata": {},
   "outputs": [
    {
     "name": "stdout",
     "output_type": "stream",
     "text": [
      "Index(['报表日期', '单位', '流动资产', '货币资金', '交易性金融资产', '衍生金融资产', '应收票据及应收账款', '应收票据',\n",
      "       '应收账款', '应收款项融资', '预付款项', '其他应收款(合计)', '应收利息', '应收股利', '其他应收款',\n",
      "       '买入返售金融资产', '存货', '划分为持有待售的资产', '一年内到期的非流动资产', '待摊费用', '待处理流动资产损益',\n",
      "       '其他流动资产', '流动资产合计', '非流动资产', '发放贷款及垫款', '可供出售金融资产', '持有至到期投资', '长期应收款',\n",
      "       '长期股权投资', '投资性房地产', '在建工程(合计)', '在建工程', '工程物资', '固定资产及清理(合计)', '固定资产净额',\n",
      "       '固定资产清理', '生产性生物资产', '公益性生物资产', '油气资产', '使用权资产', '无形资产', '开发支出', '商誉',\n",
      "       '长期待摊费用', '递延所得税资产', '其他非流动资产', '非流动资产合计', '资产总计', '流动负债', '短期借款',\n",
      "       '交易性金融负债', '应付票据及应付账款', '应付票据', '应付账款', '预收款项', '应付手续费及佣金', '应付职工薪酬',\n",
      "       '应交税费', '其他应付款(合计)', '应付利息', '应付股利', '其他应付款', '预提费用', '一年内的递延收益',\n",
      "       '应付短期债券', '一年内到期的非流动负债', '其他流动负债', '流动负债合计', '非流动负债', '长期借款', '应付债券',\n",
      "       '租赁负债', '长期应付职工薪酬', '长期应付款(合计)', '长期应付款', '专项应付款', '预计非流动负债', '递延所得税负债',\n",
      "       '长期递延收益', '其他非流动负债', '非流动负债合计', '负债合计', '所有者权益', '实收资本(或股本)', '资本公积',\n",
      "       '减：库存股', '其他综合收益', '专项储备', '盈余公积', '一般风险准备', '未分配利润', '归属于母公司股东权益合计',\n",
      "       '少数股东权益', '所有者权益(或股东权益)合计', '负债和所有者权益(或股东权益)总计'],\n",
      "      dtype='object')\n"
     ]
    }
   ],
   "source": [
    "print(fin_report.columns)\n",
    "# pd.MultiIndex.from_frame(fin_report)"
   ]
  },
  {
   "cell_type": "code",
   "execution_count": null,
   "metadata": {},
   "outputs": [],
   "source": []
  }
 ],
 "metadata": {
  "kernelspec": {
   "display_name": "Python 3",
   "language": "python",
   "name": "python3"
  },
  "language_info": {
   "codemirror_mode": {
    "name": "ipython",
    "version": 3
   },
   "file_extension": ".py",
   "mimetype": "text/x-python",
   "name": "python",
   "nbconvert_exporter": "python",
   "pygments_lexer": "ipython3",
   "version": "3.9.8"
  },
  "orig_nbformat": 4,
  "vscode": {
   "interpreter": {
    "hash": "b4014b60265de7f80a801ece3da4a480cce03f2136c91739134aaed5b8cdff47"
   }
  }
 },
 "nbformat": 4,
 "nbformat_minor": 2
}
