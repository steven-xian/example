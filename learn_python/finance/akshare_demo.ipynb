{
 "cells": [
  {
   "cell_type": "code",
   "execution_count": null,
   "metadata": {},
   "outputs": [],
   "source": [
    "import matplotlib.pyplot as plt\n",
    "\n",
    "labels = 'Frogs', 'Hogs', 'Dogs', 'Logs'\n",
    "fracs = [15, 30, 45, 10]\n",
    "\n",
    "fig, axs = plt.subplots()\n",
    "\n",
    "# axs.pie(fracs, labels=labels, autopct='%1.1f%%', shadow=True)\n",
    "axs.pie(fracs, labels=labels, autopct='%.0f%%', shadow=True, explode=(0.1, 0.1,0,0))"
   ]
  },
  {
   "cell_type": "code",
   "execution_count": null,
   "metadata": {},
   "outputs": [],
   "source": [
    "import akshare as ak\n",
    "\n",
    "# get_roll_yield_bar_df = ak.cost_living(region='asia')\n",
    "# print(get_roll_yield_bar_df)\n",
    "df = ak.stock_financial_abstract(stock='600004')\n",
    "print(df['每股现金流'])"
   ]
  },
  {
   "cell_type": "code",
   "execution_count": 27,
   "metadata": {},
   "outputs": [
    {
     "name": "stderr",
     "output_type": "stream",
     "text": [
      "                                               \r"
     ]
    }
   ],
   "source": [
    "lrb = ak.stock_lrb_em(date=\"20220331\")"
   ]
  },
  {
   "cell_type": "code",
   "execution_count": 26,
   "metadata": {},
   "outputs": [],
   "source": [
    "lrb.to_csv(\"./lrb.csv\")"
   ]
  },
  {
   "cell_type": "code",
   "execution_count": 30,
   "metadata": {},
   "outputs": [
    {
     "data": {
      "text/html": [
       "<div>\n",
       "<style scoped>\n",
       "    .dataframe tbody tr th:only-of-type {\n",
       "        vertical-align: middle;\n",
       "    }\n",
       "\n",
       "    .dataframe tbody tr th {\n",
       "        vertical-align: top;\n",
       "    }\n",
       "\n",
       "    .dataframe thead th {\n",
       "        text-align: right;\n",
       "    }\n",
       "</style>\n",
       "<table border=\"1\" class=\"dataframe\">\n",
       "  <thead>\n",
       "    <tr style=\"text-align: right;\">\n",
       "      <th></th>\n",
       "      <th>序号</th>\n",
       "      <th>股票代码</th>\n",
       "      <th>股票简称</th>\n",
       "      <th>净利润</th>\n",
       "      <th>净利润同比</th>\n",
       "      <th>营业总收入</th>\n",
       "      <th>营业总收入同比</th>\n",
       "      <th>营业总支出-营业支出</th>\n",
       "      <th>营业总支出-销售费用</th>\n",
       "      <th>营业总支出-管理费用</th>\n",
       "      <th>营业总支出-财务费用</th>\n",
       "      <th>营业总支出-营业总支出</th>\n",
       "      <th>营业利润</th>\n",
       "      <th>利润总额</th>\n",
       "      <th>公告日期</th>\n",
       "    </tr>\n",
       "  </thead>\n",
       "  <tbody>\n",
       "    <tr>\n",
       "      <th>2082</th>\n",
       "      <td>2083</td>\n",
       "      <td>000858</td>\n",
       "      <td>五粮液</td>\n",
       "      <td>1.082287e+10</td>\n",
       "      <td>16.08</td>\n",
       "      <td>2.754816e+10</td>\n",
       "      <td>13.251148</td>\n",
       "      <td>5.948172e+09</td>\n",
       "      <td>2.033172e+09</td>\n",
       "      <td>9.804271e+08</td>\n",
       "      <td>-5.133086e+08</td>\n",
       "      <td>1.240055e+10</td>\n",
       "      <td>1.516849e+10</td>\n",
       "      <td>1.513640e+10</td>\n",
       "      <td>2022-04-29</td>\n",
       "    </tr>\n",
       "  </tbody>\n",
       "</table>\n",
       "</div>"
      ],
      "text/plain": [
       "        序号    股票代码 股票简称           净利润  净利润同比         营业总收入    营业总收入同比  \\\n",
       "2082  2083  000858  五粮液  1.082287e+10  16.08  2.754816e+10  13.251148   \n",
       "\n",
       "        营业总支出-营业支出    营业总支出-销售费用    营业总支出-管理费用    营业总支出-财务费用   营业总支出-营业总支出  \\\n",
       "2082  5.948172e+09  2.033172e+09  9.804271e+08 -5.133086e+08  1.240055e+10   \n",
       "\n",
       "              营业利润          利润总额        公告日期  \n",
       "2082  1.516849e+10  1.513640e+10  2022-04-29  "
      ]
     },
     "execution_count": 30,
     "metadata": {},
     "output_type": "execute_result"
    }
   ],
   "source": [
    "lrb.loc[lrb[\"股票代码\"] == \"000858\"]"
   ]
  }
 ],
 "metadata": {
  "kernelspec": {
   "display_name": "Python 3.9.8 64-bit",
   "language": "python",
   "name": "python3"
  },
  "language_info": {
   "codemirror_mode": {
    "name": "ipython",
    "version": 3
   },
   "file_extension": ".py",
   "mimetype": "text/x-python",
   "name": "python",
   "nbconvert_exporter": "python",
   "pygments_lexer": "ipython3",
   "version": "3.9.8"
  },
  "orig_nbformat": 4,
  "vscode": {
   "interpreter": {
    "hash": "b4014b60265de7f80a801ece3da4a480cce03f2136c91739134aaed5b8cdff47"
   }
  }
 },
 "nbformat": 4,
 "nbformat_minor": 2
}
