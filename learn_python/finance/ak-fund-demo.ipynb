{
 "cells": [
  {
   "cell_type": "code",
   "execution_count": 109,
   "metadata": {},
   "outputs": [
    {
     "name": "stdout",
     "output_type": "stream",
     "text": [
      "<class 'pandas.core.frame.DataFrame'>\n",
      "RangeIndex: 17842 entries, 0 to 17841\n",
      "Data columns (total 5 columns):\n",
      " #   Column  Non-Null Count  Dtype \n",
      "---  ------  --------------  ----- \n",
      " 0   基金代码    17842 non-null  object\n",
      " 1   拼音缩写    17842 non-null  object\n",
      " 2   基金简称    17842 non-null  object\n",
      " 3   基金类型    17842 non-null  object\n",
      " 4   拼音全称    17842 non-null  object\n",
      "dtypes: object(5)\n",
      "memory usage: 697.1+ KB\n",
      "None\n"
     ]
    }
   ],
   "source": [
    "import akshare as ak\n",
    "\n",
    "fund = ak.fund_name_em()\n",
    "\n",
    "print(fund.info())"
   ]
  },
  {
   "cell_type": "code",
   "execution_count": 9,
   "metadata": {},
   "outputs": [
    {
     "name": "stdout",
     "output_type": "stream",
     "text": [
      "         基金代码                  基金简称     基金类型\n",
      "0      000001                华夏成长混合   混合型-灵活\n",
      "1      000002            华夏成长混合(后端)   混合型-灵活\n",
      "2      000003              中海可转债债券A  债券型-可转债\n",
      "3      000004              中海可转债债券C  债券型-可转债\n",
      "4      000005            嘉实增强信用定期债券   债券型-长债\n",
      "...       ...                   ...      ...\n",
      "17808  970203          银河水星聚利中短债债券E  债券型-中短债\n",
      "17809  970204  兴证资管金麒麟兴享增利六个月持有期债券A  债券型-混合债\n",
      "17810  970205  兴证资管金麒麟兴享增利六个月持有期债券C  债券型-混合债\n",
      "17811  970206         中金优势领航一年持有混合C   混合型-偏股\n",
      "17812  980003           太平洋六个月滚动持有债   债券型-长债\n",
      "\n",
      "[17813 rows x 3 columns]\n"
     ]
    }
   ],
   "source": [
    "print(fund[['基金代码','基金简称', '基金类型']])"
   ]
  },
  {
   "cell_type": "code",
   "execution_count": 12,
   "metadata": {},
   "outputs": [
    {
     "name": "stdout",
     "output_type": "stream",
     "text": [
      "       基金代码                 基金名称    单位净值          日期  日增长率   近1周   近1月    近3月  \\\n",
      "0    007937       华夏饲料豆粕期货ETF联接A  1.7611  2022-12-07  0.82  1.01  2.80  12.32   \n",
      "1    007938       华夏饲料豆粕期货ETF联接C  1.7458  2022-12-07  0.83  1.01  2.77  12.24   \n",
      "2    008279         国泰中证煤炭ETF联接A  2.0131  2022-12-07 -1.87 -2.55 -2.78 -14.01   \n",
      "3    161032       富国中证煤炭指数(LOF)A  1.9480  2022-12-07 -1.81 -2.55 -2.75 -14.37   \n",
      "4    008280         国泰中证煤炭ETF联接C  1.9941  2022-12-07 -1.87 -2.55 -2.80 -14.07   \n",
      "..      ...                  ...     ...         ...   ...   ...   ...    ...   \n",
      "663  017227  富国中证全指家用电器ETF发起式联接C  1.0000  2022-12-06   NaN   NaN   NaN    NaN   \n",
      "664  016909          华安中证基建指数发起C  1.0720  2022-12-07 -1.16  1.42   NaN    NaN   \n",
      "665  017222    富国中证电池主题ETF发起式联接A  1.0000  2022-12-02   NaN   NaN   NaN    NaN   \n",
      "666  017223    富国中证电池主题ETF发起式联接C  1.0000  2022-12-02   NaN   NaN   NaN    NaN   \n",
      "667  016044              东财证券30C  0.9979  2022-12-02   NaN   NaN   NaN    NaN   \n",
      "\n",
      "       近6月    近1年    近2年     近3年    今年来     成立来   手续费 起购金额  跟踪标的   跟踪方式  \n",
      "0    13.49  54.46  51.52     NaN  48.07   76.11  0.06  10元  行业主题  被动指数型  \n",
      "1    13.32  53.99  50.62     NaN  47.65   74.58  0.00  10元  行业主题  被动指数型  \n",
      "2    -3.59  23.34  93.51     NaN  26.13  138.52  0.10  10元  行业主题  被动指数型  \n",
      "3    -3.23  23.29  89.49  124.75  25.60   35.72  0.00  10元  行业主题  被动指数型  \n",
      "4    -3.74  22.97  92.35     NaN  25.79  136.52  0.00  10元  行业主题  被动指数型  \n",
      "..     ...    ...    ...     ...    ...     ...   ...  ...   ...    ...  \n",
      "663    NaN    NaN    NaN     NaN    NaN    0.00  0.00  10元  行业主题  被动指数型  \n",
      "664    NaN    NaN    NaN     NaN    NaN    7.20  0.00  10元  行业主题  被动指数型  \n",
      "665    NaN    NaN    NaN     NaN    NaN    0.00  0.12  10元  行业主题  被动指数型  \n",
      "666    NaN    NaN    NaN     NaN    NaN    0.00  0.00  10元  行业主题  被动指数型  \n",
      "667    NaN    NaN    NaN     NaN    NaN   -0.21  0.00  10元  行业主题  被动指数型  \n",
      "\n",
      "[668 rows x 18 columns]\n"
     ]
    }
   ],
   "source": [
    "index_fund = ak.fund_info_index_em(symbol=\"行业主题\")\n",
    "print(index_fund)"
   ]
  },
  {
   "cell_type": "code",
   "execution_count": 16,
   "metadata": {},
   "outputs": [
    {
     "ename": "KeyError",
     "evalue": "161725",
     "output_type": "error",
     "traceback": [
      "\u001b[0;31m---------------------------------------------------------------------------\u001b[0m",
      "\u001b[0;31mKeyError\u001b[0m                                  Traceback (most recent call last)",
      "File \u001b[0;32m~/Projects/example/learn_python/finance/venv/lib/python3.10/site-packages/pandas/core/indexes/base.py:3803\u001b[0m, in \u001b[0;36mIndex.get_loc\u001b[0;34m(self, key, method, tolerance)\u001b[0m\n\u001b[1;32m   3802\u001b[0m \u001b[39mtry\u001b[39;00m:\n\u001b[0;32m-> 3803\u001b[0m     \u001b[39mreturn\u001b[39;00m \u001b[39mself\u001b[39;49m\u001b[39m.\u001b[39;49m_engine\u001b[39m.\u001b[39;49mget_loc(casted_key)\n\u001b[1;32m   3804\u001b[0m \u001b[39mexcept\u001b[39;00m \u001b[39mKeyError\u001b[39;00m \u001b[39mas\u001b[39;00m err:\n",
      "File \u001b[0;32m~/Projects/example/learn_python/finance/venv/lib/python3.10/site-packages/pandas/_libs/index.pyx:138\u001b[0m, in \u001b[0;36mpandas._libs.index.IndexEngine.get_loc\u001b[0;34m()\u001b[0m\n",
      "File \u001b[0;32m~/Projects/example/learn_python/finance/venv/lib/python3.10/site-packages/pandas/_libs/index.pyx:165\u001b[0m, in \u001b[0;36mpandas._libs.index.IndexEngine.get_loc\u001b[0;34m()\u001b[0m\n",
      "File \u001b[0;32mpandas/_libs/hashtable_class_helper.pxi:5745\u001b[0m, in \u001b[0;36mpandas._libs.hashtable.PyObjectHashTable.get_item\u001b[0;34m()\u001b[0m\n",
      "File \u001b[0;32mpandas/_libs/hashtable_class_helper.pxi:5753\u001b[0m, in \u001b[0;36mpandas._libs.hashtable.PyObjectHashTable.get_item\u001b[0;34m()\u001b[0m\n",
      "\u001b[0;31mKeyError\u001b[0m: 161725",
      "\nThe above exception was the direct cause of the following exception:\n",
      "\u001b[0;31mKeyError\u001b[0m                                  Traceback (most recent call last)",
      "Cell \u001b[0;32mIn[16], line 3\u001b[0m\n\u001b[1;32m      1\u001b[0m fund_open\u001b[39m=\u001b[39m ak\u001b[39m.\u001b[39mfund_open_fund_daily_em()\n\u001b[0;32m----> 3\u001b[0m \u001b[39mprint\u001b[39m(fund_open[\u001b[39m161725\u001b[39;49m])\n",
      "File \u001b[0;32m~/Projects/example/learn_python/finance/venv/lib/python3.10/site-packages/pandas/core/frame.py:3805\u001b[0m, in \u001b[0;36mDataFrame.__getitem__\u001b[0;34m(self, key)\u001b[0m\n\u001b[1;32m   3803\u001b[0m \u001b[39mif\u001b[39;00m \u001b[39mself\u001b[39m\u001b[39m.\u001b[39mcolumns\u001b[39m.\u001b[39mnlevels \u001b[39m>\u001b[39m \u001b[39m1\u001b[39m:\n\u001b[1;32m   3804\u001b[0m     \u001b[39mreturn\u001b[39;00m \u001b[39mself\u001b[39m\u001b[39m.\u001b[39m_getitem_multilevel(key)\n\u001b[0;32m-> 3805\u001b[0m indexer \u001b[39m=\u001b[39m \u001b[39mself\u001b[39;49m\u001b[39m.\u001b[39;49mcolumns\u001b[39m.\u001b[39;49mget_loc(key)\n\u001b[1;32m   3806\u001b[0m \u001b[39mif\u001b[39;00m is_integer(indexer):\n\u001b[1;32m   3807\u001b[0m     indexer \u001b[39m=\u001b[39m [indexer]\n",
      "File \u001b[0;32m~/Projects/example/learn_python/finance/venv/lib/python3.10/site-packages/pandas/core/indexes/base.py:3805\u001b[0m, in \u001b[0;36mIndex.get_loc\u001b[0;34m(self, key, method, tolerance)\u001b[0m\n\u001b[1;32m   3803\u001b[0m     \u001b[39mreturn\u001b[39;00m \u001b[39mself\u001b[39m\u001b[39m.\u001b[39m_engine\u001b[39m.\u001b[39mget_loc(casted_key)\n\u001b[1;32m   3804\u001b[0m \u001b[39mexcept\u001b[39;00m \u001b[39mKeyError\u001b[39;00m \u001b[39mas\u001b[39;00m err:\n\u001b[0;32m-> 3805\u001b[0m     \u001b[39mraise\u001b[39;00m \u001b[39mKeyError\u001b[39;00m(key) \u001b[39mfrom\u001b[39;00m \u001b[39merr\u001b[39;00m\n\u001b[1;32m   3806\u001b[0m \u001b[39mexcept\u001b[39;00m \u001b[39mTypeError\u001b[39;00m:\n\u001b[1;32m   3807\u001b[0m     \u001b[39m# If we have a listlike key, _check_indexing_error will raise\u001b[39;00m\n\u001b[1;32m   3808\u001b[0m     \u001b[39m#  InvalidIndexError. Otherwise we fall through and re-raise\u001b[39;00m\n\u001b[1;32m   3809\u001b[0m     \u001b[39m#  the TypeError.\u001b[39;00m\n\u001b[1;32m   3810\u001b[0m     \u001b[39mself\u001b[39m\u001b[39m.\u001b[39m_check_indexing_error(key)\n",
      "\u001b[0;31mKeyError\u001b[0m: 161725"
     ]
    }
   ],
   "source": [
    "fund_open= ak.fund_open_fund_daily_em()\n",
    "\n"
   ]
  },
  {
   "cell_type": "code",
   "execution_count": 25,
   "metadata": {},
   "outputs": [
    {
     "name": "stdout",
     "output_type": "stream",
     "text": [
      "        基金代码            基金简称 2022-12-07-单位净值 2022-12-07-累计净值 2022-12-06-单位净值  \\\n",
      "2235  161725  招商中证白酒指数(LOF)A          1.1005          2.8166          1.0994   \n",
      "\n",
      "     2022-12-06-累计净值    日增长值  日增长率 申购状态  赎回状态    手续费  \n",
      "2235          2.8155  0.0011  0.10  限大额  开放赎回  0.10%  \n"
     ]
    }
   ],
   "source": [
    "print(fund_open.loc[fund_open['基金代码'] == '161725'])"
   ]
  },
  {
   "cell_type": "code",
   "execution_count": 28,
   "metadata": {},
   "outputs": [],
   "source": [
    "fund_etf_hist = ak.fund_etf_hist_sina(symbol=\"sz161725\")"
   ]
  },
  {
   "cell_type": "code",
   "execution_count": 110,
   "metadata": {},
   "outputs": [
    {
     "data": {
      "text/plain": [
       "<AxesSubplot: xlabel='date'>"
      ]
     },
     "execution_count": 110,
     "metadata": {},
     "output_type": "execute_result"
    },
    {
     "data": {
      "image/png": "[encoded data removed]",
      "text/plain": [
       "<Figure size 640x480 with 1 Axes>"
      ]
     },
     "metadata": {},
     "output_type": "display_data"
    }
   ],
   "source": [
    "import matplotlib.pyplot as plt\n",
    "\n",
    "plt.style.use('ggplot')\n",
    "fund_etf_hist['close'].plot(kind='line')"
   ]
  },
  {
   "cell_type": "code",
   "execution_count": 45,
   "metadata": {},
   "outputs": [
    {
     "name": "stderr",
     "output_type": "stream",
     "text": [
      "                                             \r"
     ]
    }
   ],
   "source": [
    "profit_y = ak.stock_profit_sheet_by_yearly_em(symbol='sz000858')"
   ]
  },
  {
   "cell_type": "code",
   "execution_count": 66,
   "metadata": {},
   "outputs": [
    {
     "data": {
      "text/plain": [
       "0     2021-12-31 00:00:00\n",
       "1     2020-12-31 00:00:00\n",
       "2     2019-12-31 00:00:00\n",
       "3     2018-12-31 00:00:00\n",
       "4     2017-12-31 00:00:00\n",
       "5     2016-12-31 00:00:00\n",
       "6     2015-12-31 00:00:00\n",
       "7     2014-12-31 00:00:00\n",
       "8     2013-12-31 00:00:00\n",
       "9     2012-12-31 00:00:00\n",
       "10    2011-12-31 00:00:00\n",
       "11    2010-12-31 00:00:00\n",
       "12    2009-12-31 00:00:00\n",
       "13    2008-12-31 00:00:00\n",
       "14    2007-12-31 00:00:00\n",
       "15    2006-12-31 00:00:00\n",
       "16    2005-12-31 00:00:00\n",
       "17    2004-12-31 00:00:00\n",
       "18    2003-12-31 00:00:00\n",
       "19    2002-12-31 00:00:00\n",
       "20    2001-12-31 00:00:00\n",
       "21    2000-12-31 00:00:00\n",
       "22    1999-12-31 00:00:00\n",
       "23    1998-12-31 00:00:00\n",
       "24    1997-12-31 00:00:00\n",
       "25    1996-12-31 00:00:00\n",
       "26    1995-12-31 00:00:00\n",
       "Name: REPORT_DATE, dtype: object"
      ]
     },
     "execution_count": 66,
     "metadata": {},
     "output_type": "execute_result"
    }
   ],
   "source": [
    "profit_y['REPORT_DATE']"
   ]
  },
  {
   "cell_type": "code",
   "execution_count": 68,
   "metadata": {},
   "outputs": [
    {
     "data": {
      "text/plain": [
       "<AxesSubplot: xlabel='REPORT_DATE'>"
      ]
     },
     "execution_count": 68,
     "metadata": {},
     "output_type": "execute_result"
    },
    {
     "data": {
      "image/png": "[encoded data removed]",
      "text/plain": [
       "<Figure size 640x480 with 1 Axes>"
      ]
     },
     "metadata": {},
     "output_type": "display_data"
    }
   ],
   "source": [
    "profit_y['REPORT_DATE'] = pd.to_datetime(profit_y['REPORT_DATE']).dt.date\n",
    "profit_y[['REPORT_DATE', 'PARENT_NETPROFIT']].sort_values(by='REPORT_DATE', ascending=True).plot.bar(x='REPORT_DATE', y='PARENT_NETPROFIT')"
   ]
  },
  {
   "cell_type": "code",
   "execution_count": 90,
   "metadata": {},
   "outputs": [],
   "source": [
    "stock = ak.stock_zh_a_hist(symbol=\"000858\", period=\"daily\", start_date=\"19950101\")"
   ]
  },
  {
   "cell_type": "code",
   "execution_count": 108,
   "metadata": {},
   "outputs": [
    {
     "name": "stdout",
     "output_type": "stream",
     "text": [
      "<class 'pandas.core.frame.DataFrame'>\n",
      "RangeIndex: 5835 entries, 0 to 5834\n",
      "Data columns (total 2 columns):\n",
      " #   Column  Non-Null Count  Dtype         \n",
      "---  ------  --------------  -----         \n",
      " 0   日期      5835 non-null   datetime64[ns]\n",
      " 1   收盘      5835 non-null   float64       \n",
      "dtypes: datetime64[ns](1), float64(1)\n",
      "memory usage: 91.3 KB\n",
      "None\n"
     ]
    },
    {
     "name": "stderr",
     "output_type": "stream",
     "text": [
      "/var/folders/ym/dk1zm97d37174p50vm3lr_hw0000gn/T/ipykernel_68139/1124507616.py:3: SettingWithCopyWarning: \n",
      "A value is trying to be set on a copy of a slice from a DataFrame.\n",
      "Try using .loc[row_indexer,col_indexer] = value instead\n",
      "\n",
      "See the caveats in the documentation: https://pandas.pydata.org/pandas-docs/stable/user_guide/indexing.html#returning-a-view-versus-a-copy\n",
      "  cl['日期'] = pd.to_datetime(cl['日期'])\n"
     ]
    }
   ],
   "source": [
    "cl = stock[['日期', '收盘']]\n",
    "cl\n",
    "cl['日期'] = pd.to_datetime(cl['日期'])\n",
    "cl.set_index('日期')\n",
    "daily_ret = cl['收盘'].pct_change()\n",
    "print(cl.info())\n",
    "# monthly_ret = cl.resample('M').apply(lambda x : ((1+x).prod() - 1))\n",
    "# monthly_ret"
   ]
  },
  {
   "cell_type": "code",
   "execution_count": 39,
   "metadata": {},
   "outputs": [
    {
     "name": "stdout",
     "output_type": "stream",
     "text": [
      "                  date   open   high    low  close    volume\n",
      "date                                                        \n",
      "2021-01-15  2021-01-15  1.469  1.469  1.396  1.440  19847285\n",
      "2021-01-18  2021-01-18  1.440  1.458  1.400  1.420  16782375\n",
      "2021-01-19  2021-01-19  1.427  1.456  1.395  1.397  21713673\n",
      "2021-01-20  2021-01-20  1.370  1.389  1.330  1.378  19083212\n",
      "2021-01-21  2021-01-21  1.367  1.417  1.360  1.411  29979982\n",
      "...                ...    ...    ...    ...    ...       ...\n",
      "2022-12-01  2022-12-01  1.035  1.065  1.035  1.044  86732142\n",
      "2022-12-02  2022-12-02  1.042  1.059  1.038  1.043  32575357\n",
      "2022-12-05  2022-12-05  1.060  1.069  1.054  1.062  50558201\n",
      "2022-12-06  2022-12-06  1.054  1.115  1.052  1.093  90638821\n",
      "2022-12-07  2022-12-07  1.091  1.115  1.078  1.094  54977311\n",
      "\n",
      "[459 rows x 6 columns]\n"
     ]
    }
   ],
   "source": [
    "fund_etf_hist.index = fund_etf_hist['date']\n",
    "print(fund_etf_hist)"
   ]
  },
  {
   "cell_type": "code",
   "execution_count": 1,
   "metadata": {},
   "outputs": [
    {
     "name": "stdout",
     "output_type": "stream",
     "text": [
      "1.5.2\n"
     ]
    }
   ],
   "source": [
    "import pandas as pd\n",
    "\n",
    "\n",
    "print(pd.__version__)"
   ]
  },
  {
   "cell_type": "code",
   "execution_count": 8,
   "metadata": {},
   "outputs": [
    {
     "name": "stdout",
     "output_type": "stream",
     "text": [
      "                   A         B         C         D\n",
      "2000-01-03 -0.052497 -1.498810 -0.406141  0.423426\n",
      "2000-01-04 -2.821748  0.942738  2.558954  0.388742\n",
      "2000-01-05  1.330019 -2.326515  2.084812 -0.133237\n",
      "2000-01-06 -2.242020  0.662805  0.295312 -0.815601\n",
      "2000-01-07  0.354303 -0.329291  1.047051 -0.139871\n",
      "2000-01-10 -0.006232 -0.025976  0.678535 -0.246682\n",
      "2000-01-11 -1.400641  0.391177 -0.535815  1.256723\n",
      "2000-01-12 -0.581576 -0.263469  0.951054 -0.568465\n",
      "2000-01-13  1.221236  1.026774 -1.412184  0.247515\n",
      "2000-01-14  0.172357 -2.095279  0.963883  0.282156\n",
      "2000-01-17 -1.093678 -1.369318  0.752759 -0.093521\n",
      "2000-01-18  0.162305 -0.323821 -0.397743 -1.487013\n",
      "2000-01-19 -2.173847  0.521081  0.926439  0.326943\n",
      "2000-01-20  1.242346  0.447264 -0.138285 -1.618921\n",
      "2000-01-21  0.398586  1.469227 -1.498797  0.133314\n",
      "2000-01-24  0.841876 -0.020254 -0.177589  0.417618\n",
      "2000-01-25 -0.000482  1.359555 -0.835274 -0.049439\n",
      "2000-01-26  0.408774  1.691006 -0.361300  0.135462\n",
      "2000-01-27 -0.206729  0.015944 -0.931302  0.454801\n",
      "2000-01-28  2.551324 -0.674784 -0.231425  0.509706\n",
      "2000-01-31  0.262961 -0.681550  0.285182  0.225984\n",
      "2000-02-01 -0.692977  0.566432 -1.270780 -0.572340\n",
      "2000-02-02  2.173734  0.262899  1.146160 -1.164193\n",
      "2000-02-03  0.724366 -1.701642  0.493582  0.287441\n",
      "2000-02-04  0.200640  0.900364  0.160645 -0.592799\n",
      "2000-02-07 -1.489531  0.594253 -2.670920 -1.011709\n",
      "2000-02-08  0.413073 -0.196779 -0.074635 -1.248704\n",
      "2000-02-09 -0.472118  0.152493  1.254495  0.142390\n",
      "2000-02-10  2.075977 -0.155787 -0.103727 -0.575535\n",
      "2000-02-11 -0.459753  0.205458  0.670538 -0.807350\n",
      "[[-0.05249704 -1.49880987 -0.40614112  0.42342579]\n",
      " [-2.82174812  0.94273826  2.55895378  0.38874213]\n",
      " [ 1.33001891 -2.32651527  2.08481172 -0.13323739]\n",
      " [-2.24202039  0.66280469  0.29531247 -0.81560146]\n",
      " [ 0.35430294 -0.32929137  1.04705089 -0.13987147]]\n"
     ]
    }
   ],
   "source": [
    "import pandas._testing as tm\n",
    "\n",
    "df = tm.makeTimeDataFrame()\n",
    "print(df)\n",
    "# print(df.shape)\n"
   ]
  },
  {
   "cell_type": "code",
   "execution_count": 10,
   "metadata": {},
   "outputs": [
    {
     "name": "stdout",
     "output_type": "stream",
     "text": [
      "[-0.05249704 -2.82174812  1.33001891 -2.24202039  0.35430294]\n"
     ]
    }
   ],
   "source": [
    "np_a = df.to_numpy()\n",
    "print(np_a[0:5,0])"
   ]
  },
  {
   "cell_type": "code",
   "execution_count": 11,
   "metadata": {},
   "outputs": [
    {
     "data": {
      "text/html": [
       "<div>\n",
       "<style scoped>\n",
       "    .dataframe tbody tr th:only-of-type {\n",
       "        vertical-align: middle;\n",
       "    }\n",
       "\n",
       "    .dataframe tbody tr th {\n",
       "        vertical-align: top;\n",
       "    }\n",
       "\n",
       "    .dataframe thead th {\n",
       "        text-align: right;\n",
       "    }\n",
       "</style>\n",
       "<table border=\"1\" class=\"dataframe\">\n",
       "  <thead>\n",
       "    <tr style=\"text-align: right;\">\n",
       "      <th></th>\n",
       "      <th>s</th>\n",
       "    </tr>\n",
       "  </thead>\n",
       "  <tbody>\n",
       "    <tr>\n",
       "      <th>2023-01-01 00:00:00</th>\n",
       "      <td>0.0</td>\n",
       "    </tr>\n",
       "    <tr>\n",
       "      <th>2023-01-01 00:01:00</th>\n",
       "      <td>NaN</td>\n",
       "    </tr>\n",
       "    <tr>\n",
       "      <th>2023-01-01 00:02:00</th>\n",
       "      <td>2.0</td>\n",
       "    </tr>\n",
       "    <tr>\n",
       "      <th>2023-01-01 00:03:00</th>\n",
       "      <td>3.0</td>\n",
       "    </tr>\n",
       "  </tbody>\n",
       "</table>\n",
       "</div>"
      ],
      "text/plain": [
       "                       s\n",
       "2023-01-01 00:00:00  0.0\n",
       "2023-01-01 00:01:00  NaN\n",
       "2023-01-01 00:02:00  2.0\n",
       "2023-01-01 00:03:00  3.0"
      ]
     },
     "execution_count": 11,
     "metadata": {},
     "output_type": "execute_result"
    }
   ],
   "source": [
    "index = pd.date_range('1/1/2023', periods=4, freq='T')\n",
    "s = pd.Series([0.0, None, 2.0, 3.0], index=index)\n",
    "df = pd.DataFrame({'s': s})\n",
    "df"
   ]
  },
  {
   "attachments": {},
   "cell_type": "markdown",
   "metadata": {},
   "source": [
    "unsample this into 30 seconds bins"
   ]
  },
  {
   "cell_type": "code",
   "execution_count": 12,
   "metadata": {},
   "outputs": [
    {
     "data": {
      "text/html": [
       "<div>\n",
       "<style scoped>\n",
       "    .dataframe tbody tr th:only-of-type {\n",
       "        vertical-align: middle;\n",
       "    }\n",
       "\n",
       "    .dataframe tbody tr th {\n",
       "        vertical-align: top;\n",
       "    }\n",
       "\n",
       "    .dataframe thead th {\n",
       "        text-align: right;\n",
       "    }\n",
       "</style>\n",
       "<table border=\"1\" class=\"dataframe\">\n",
       "  <thead>\n",
       "    <tr style=\"text-align: right;\">\n",
       "      <th></th>\n",
       "      <th>s</th>\n",
       "    </tr>\n",
       "  </thead>\n",
       "  <tbody>\n",
       "    <tr>\n",
       "      <th>2023-01-01 00:00:00</th>\n",
       "      <td>0.0</td>\n",
       "    </tr>\n",
       "    <tr>\n",
       "      <th>2023-01-01 00:00:30</th>\n",
       "      <td>NaN</td>\n",
       "    </tr>\n",
       "    <tr>\n",
       "      <th>2023-01-01 00:01:00</th>\n",
       "      <td>NaN</td>\n",
       "    </tr>\n",
       "    <tr>\n",
       "      <th>2023-01-01 00:01:30</th>\n",
       "      <td>NaN</td>\n",
       "    </tr>\n",
       "    <tr>\n",
       "      <th>2023-01-01 00:02:00</th>\n",
       "      <td>2.0</td>\n",
       "    </tr>\n",
       "    <tr>\n",
       "      <th>2023-01-01 00:02:30</th>\n",
       "      <td>NaN</td>\n",
       "    </tr>\n",
       "    <tr>\n",
       "      <th>2023-01-01 00:03:00</th>\n",
       "      <td>3.0</td>\n",
       "    </tr>\n",
       "  </tbody>\n",
       "</table>\n",
       "</div>"
      ],
      "text/plain": [
       "                       s\n",
       "2023-01-01 00:00:00  0.0\n",
       "2023-01-01 00:00:30  NaN\n",
       "2023-01-01 00:01:00  NaN\n",
       "2023-01-01 00:01:30  NaN\n",
       "2023-01-01 00:02:00  2.0\n",
       "2023-01-01 00:02:30  NaN\n",
       "2023-01-01 00:03:00  3.0"
      ]
     },
     "execution_count": 12,
     "metadata": {},
     "output_type": "execute_result"
    }
   ],
   "source": [
    "df.asfreq(freq='30S')"
   ]
  },
  {
   "attachments": {},
   "cell_type": "markdown",
   "metadata": {},
   "source": [
    "provide a fill_value"
   ]
  },
  {
   "cell_type": "code",
   "execution_count": 13,
   "metadata": {},
   "outputs": [
    {
     "data": {
      "text/html": [
       "<div>\n",
       "<style scoped>\n",
       "    .dataframe tbody tr th:only-of-type {\n",
       "        vertical-align: middle;\n",
       "    }\n",
       "\n",
       "    .dataframe tbody tr th {\n",
       "        vertical-align: top;\n",
       "    }\n",
       "\n",
       "    .dataframe thead th {\n",
       "        text-align: right;\n",
       "    }\n",
       "</style>\n",
       "<table border=\"1\" class=\"dataframe\">\n",
       "  <thead>\n",
       "    <tr style=\"text-align: right;\">\n",
       "      <th></th>\n",
       "      <th>s</th>\n",
       "    </tr>\n",
       "  </thead>\n",
       "  <tbody>\n",
       "    <tr>\n",
       "      <th>2023-01-01 00:00:00</th>\n",
       "      <td>0.0</td>\n",
       "    </tr>\n",
       "    <tr>\n",
       "      <th>2023-01-01 00:00:30</th>\n",
       "      <td>9.0</td>\n",
       "    </tr>\n",
       "    <tr>\n",
       "      <th>2023-01-01 00:01:00</th>\n",
       "      <td>NaN</td>\n",
       "    </tr>\n",
       "    <tr>\n",
       "      <th>2023-01-01 00:01:30</th>\n",
       "      <td>9.0</td>\n",
       "    </tr>\n",
       "    <tr>\n",
       "      <th>2023-01-01 00:02:00</th>\n",
       "      <td>2.0</td>\n",
       "    </tr>\n",
       "    <tr>\n",
       "      <th>2023-01-01 00:02:30</th>\n",
       "      <td>9.0</td>\n",
       "    </tr>\n",
       "    <tr>\n",
       "      <th>2023-01-01 00:03:00</th>\n",
       "      <td>3.0</td>\n",
       "    </tr>\n",
       "  </tbody>\n",
       "</table>\n",
       "</div>"
      ],
      "text/plain": [
       "                       s\n",
       "2023-01-01 00:00:00  0.0\n",
       "2023-01-01 00:00:30  9.0\n",
       "2023-01-01 00:01:00  NaN\n",
       "2023-01-01 00:01:30  9.0\n",
       "2023-01-01 00:02:00  2.0\n",
       "2023-01-01 00:02:30  9.0\n",
       "2023-01-01 00:03:00  3.0"
      ]
     },
     "execution_count": 13,
     "metadata": {},
     "output_type": "execute_result"
    }
   ],
   "source": [
    "df.asfreq(freq='30S', fill_value=9.0)"
   ]
  },
  {
   "attachments": {},
   "cell_type": "markdown",
   "metadata": {},
   "source": [
    "provide a method"
   ]
  },
  {
   "cell_type": "code",
   "execution_count": 15,
   "metadata": {},
   "outputs": [
    {
     "data": {
      "text/html": [
       "<div>\n",
       "<style scoped>\n",
       "    .dataframe tbody tr th:only-of-type {\n",
       "        vertical-align: middle;\n",
       "    }\n",
       "\n",
       "    .dataframe tbody tr th {\n",
       "        vertical-align: top;\n",
       "    }\n",
       "\n",
       "    .dataframe thead th {\n",
       "        text-align: right;\n",
       "    }\n",
       "</style>\n",
       "<table border=\"1\" class=\"dataframe\">\n",
       "  <thead>\n",
       "    <tr style=\"text-align: right;\">\n",
       "      <th></th>\n",
       "      <th>s</th>\n",
       "    </tr>\n",
       "  </thead>\n",
       "  <tbody>\n",
       "    <tr>\n",
       "      <th>2023-01-01 00:00:00</th>\n",
       "      <td>0.0</td>\n",
       "    </tr>\n",
       "    <tr>\n",
       "      <th>2023-01-01 00:00:30</th>\n",
       "      <td>0.0</td>\n",
       "    </tr>\n",
       "    <tr>\n",
       "      <th>2023-01-01 00:01:00</th>\n",
       "      <td>NaN</td>\n",
       "    </tr>\n",
       "    <tr>\n",
       "      <th>2023-01-01 00:01:30</th>\n",
       "      <td>NaN</td>\n",
       "    </tr>\n",
       "    <tr>\n",
       "      <th>2023-01-01 00:02:00</th>\n",
       "      <td>2.0</td>\n",
       "    </tr>\n",
       "    <tr>\n",
       "      <th>2023-01-01 00:02:30</th>\n",
       "      <td>2.0</td>\n",
       "    </tr>\n",
       "    <tr>\n",
       "      <th>2023-01-01 00:03:00</th>\n",
       "      <td>3.0</td>\n",
       "    </tr>\n",
       "  </tbody>\n",
       "</table>\n",
       "</div>"
      ],
      "text/plain": [
       "                       s\n",
       "2023-01-01 00:00:00  0.0\n",
       "2023-01-01 00:00:30  0.0\n",
       "2023-01-01 00:01:00  NaN\n",
       "2023-01-01 00:01:30  NaN\n",
       "2023-01-01 00:02:00  2.0\n",
       "2023-01-01 00:02:30  2.0\n",
       "2023-01-01 00:03:00  3.0"
      ]
     },
     "execution_count": 15,
     "metadata": {},
     "output_type": "execute_result"
    }
   ],
   "source": [
    "df.asfreq(freq='30S', method='bfill')"
   ]
  },
  {
   "cell_type": "code",
   "execution_count": 26,
   "metadata": {},
   "outputs": [
    {
     "data": {
      "text/html": [
       "<div>\n",
       "<style scoped>\n",
       "    .dataframe tbody tr th:only-of-type {\n",
       "        vertical-align: middle;\n",
       "    }\n",
       "\n",
       "    .dataframe tbody tr th {\n",
       "        vertical-align: top;\n",
       "    }\n",
       "\n",
       "    .dataframe thead th {\n",
       "        text-align: right;\n",
       "    }\n",
       "</style>\n",
       "<table border=\"1\" class=\"dataframe\">\n",
       "  <thead>\n",
       "    <tr style=\"text-align: right;\">\n",
       "      <th></th>\n",
       "      <th>s</th>\n",
       "    </tr>\n",
       "  </thead>\n",
       "  <tbody>\n",
       "    <tr>\n",
       "      <th>2023-01-01</th>\n",
       "      <td>-0.135672</td>\n",
       "    </tr>\n",
       "    <tr>\n",
       "      <th>2023-01-02</th>\n",
       "      <td>1.715208</td>\n",
       "    </tr>\n",
       "    <tr>\n",
       "      <th>2023-01-03</th>\n",
       "      <td>-0.549445</td>\n",
       "    </tr>\n",
       "    <tr>\n",
       "      <th>2023-01-04</th>\n",
       "      <td>0.862464</td>\n",
       "    </tr>\n",
       "    <tr>\n",
       "      <th>2023-01-05</th>\n",
       "      <td>0.747102</td>\n",
       "    </tr>\n",
       "    <tr>\n",
       "      <th>2023-01-06</th>\n",
       "      <td>-1.572884</td>\n",
       "    </tr>\n",
       "    <tr>\n",
       "      <th>2023-01-07</th>\n",
       "      <td>-0.271414</td>\n",
       "    </tr>\n",
       "    <tr>\n",
       "      <th>2023-01-08</th>\n",
       "      <td>-0.391117</td>\n",
       "    </tr>\n",
       "    <tr>\n",
       "      <th>2023-01-09</th>\n",
       "      <td>1.368420</td>\n",
       "    </tr>\n",
       "    <tr>\n",
       "      <th>2023-01-10</th>\n",
       "      <td>1.967970</td>\n",
       "    </tr>\n",
       "    <tr>\n",
       "      <th>2023-01-11</th>\n",
       "      <td>-0.806582</td>\n",
       "    </tr>\n",
       "    <tr>\n",
       "      <th>2023-01-12</th>\n",
       "      <td>-0.561846</td>\n",
       "    </tr>\n",
       "    <tr>\n",
       "      <th>2023-01-13</th>\n",
       "      <td>0.690338</td>\n",
       "    </tr>\n",
       "    <tr>\n",
       "      <th>2023-01-14</th>\n",
       "      <td>0.635268</td>\n",
       "    </tr>\n",
       "    <tr>\n",
       "      <th>2023-01-15</th>\n",
       "      <td>1.692101</td>\n",
       "    </tr>\n",
       "    <tr>\n",
       "      <th>2023-01-16</th>\n",
       "      <td>0.169197</td>\n",
       "    </tr>\n",
       "    <tr>\n",
       "      <th>2023-01-17</th>\n",
       "      <td>-0.059935</td>\n",
       "    </tr>\n",
       "    <tr>\n",
       "      <th>2023-01-18</th>\n",
       "      <td>0.064336</td>\n",
       "    </tr>\n",
       "    <tr>\n",
       "      <th>2023-01-19</th>\n",
       "      <td>0.444572</td>\n",
       "    </tr>\n",
       "    <tr>\n",
       "      <th>2023-01-20</th>\n",
       "      <td>-0.489169</td>\n",
       "    </tr>\n",
       "    <tr>\n",
       "      <th>2023-01-21</th>\n",
       "      <td>1.007830</td>\n",
       "    </tr>\n",
       "    <tr>\n",
       "      <th>2023-01-22</th>\n",
       "      <td>0.425867</td>\n",
       "    </tr>\n",
       "    <tr>\n",
       "      <th>2023-01-23</th>\n",
       "      <td>-0.807711</td>\n",
       "    </tr>\n",
       "    <tr>\n",
       "      <th>2023-01-24</th>\n",
       "      <td>-0.160136</td>\n",
       "    </tr>\n",
       "    <tr>\n",
       "      <th>2023-01-25</th>\n",
       "      <td>0.694060</td>\n",
       "    </tr>\n",
       "    <tr>\n",
       "      <th>2023-01-26</th>\n",
       "      <td>0.931896</td>\n",
       "    </tr>\n",
       "    <tr>\n",
       "      <th>2023-01-27</th>\n",
       "      <td>-0.054302</td>\n",
       "    </tr>\n",
       "    <tr>\n",
       "      <th>2023-01-28</th>\n",
       "      <td>-2.184124</td>\n",
       "    </tr>\n",
       "    <tr>\n",
       "      <th>2023-01-29</th>\n",
       "      <td>-0.830284</td>\n",
       "    </tr>\n",
       "    <tr>\n",
       "      <th>2023-01-30</th>\n",
       "      <td>0.060335</td>\n",
       "    </tr>\n",
       "  </tbody>\n",
       "</table>\n",
       "</div>"
      ],
      "text/plain": [
       "                   s\n",
       "2023-01-01 -0.135672\n",
       "2023-01-02  1.715208\n",
       "2023-01-03 -0.549445\n",
       "2023-01-04  0.862464\n",
       "2023-01-05  0.747102\n",
       "2023-01-06 -1.572884\n",
       "2023-01-07 -0.271414\n",
       "2023-01-08 -0.391117\n",
       "2023-01-09  1.368420\n",
       "2023-01-10  1.967970\n",
       "2023-01-11 -0.806582\n",
       "2023-01-12 -0.561846\n",
       "2023-01-13  0.690338\n",
       "2023-01-14  0.635268\n",
       "2023-01-15  1.692101\n",
       "2023-01-16  0.169197\n",
       "2023-01-17 -0.059935\n",
       "2023-01-18  0.064336\n",
       "2023-01-19  0.444572\n",
       "2023-01-20 -0.489169\n",
       "2023-01-21  1.007830\n",
       "2023-01-22  0.425867\n",
       "2023-01-23 -0.807711\n",
       "2023-01-24 -0.160136\n",
       "2023-01-25  0.694060\n",
       "2023-01-26  0.931896\n",
       "2023-01-27 -0.054302\n",
       "2023-01-28 -2.184124\n",
       "2023-01-29 -0.830284\n",
       "2023-01-30  0.060335"
      ]
     },
     "execution_count": 26,
     "metadata": {},
     "output_type": "execute_result"
    }
   ],
   "source": [
    "import numpy as np\n",
    "\n",
    "day_index = pd.date_range('2023-01-01', periods=30, freq='D')\n",
    "day_s = pd.Series(np.random.randn(30), index=day_index)\n",
    "day_df = pd.DataFrame({'s': day_s})\n",
    "day_df\n"
   ]
  },
  {
   "cell_type": "code",
   "execution_count": 31,
   "metadata": {},
   "outputs": [
    {
     "data": {
      "text/html": [
       "<div>\n",
       "<style scoped>\n",
       "    .dataframe tbody tr th:only-of-type {\n",
       "        vertical-align: middle;\n",
       "    }\n",
       "\n",
       "    .dataframe tbody tr th {\n",
       "        vertical-align: top;\n",
       "    }\n",
       "\n",
       "    .dataframe thead th {\n",
       "        text-align: right;\n",
       "    }\n",
       "</style>\n",
       "<table border=\"1\" class=\"dataframe\">\n",
       "  <thead>\n",
       "    <tr style=\"text-align: right;\">\n",
       "      <th></th>\n",
       "      <th>s</th>\n",
       "    </tr>\n",
       "  </thead>\n",
       "  <tbody>\n",
       "    <tr>\n",
       "      <th>2023-01-01</th>\n",
       "      <td>-0.135672</td>\n",
       "    </tr>\n",
       "    <tr>\n",
       "      <th>2023-01-16</th>\n",
       "      <td>0.169197</td>\n",
       "    </tr>\n",
       "  </tbody>\n",
       "</table>\n",
       "</div>"
      ],
      "text/plain": [
       "                   s\n",
       "2023-01-01 -0.135672\n",
       "2023-01-16  0.169197"
      ]
     },
     "execution_count": 31,
     "metadata": {},
     "output_type": "execute_result"
    }
   ],
   "source": [
    "day_df.asfreq(freq='15D')"
   ]
  },
  {
   "cell_type": "code",
   "execution_count": 35,
   "metadata": {},
   "outputs": [
    {
     "name": "stdout",
     "output_type": "stream",
     "text": [
      "      项目         股票         主板       科创板\n",
      "0   流通股本   42254.34   41528.71    725.63\n",
      "1    总市值  474021.31   413743.9  60277.41\n",
      "2  平均市盈率      13.05      11.87     45.84\n",
      "3   上市公司       2174       1673       501\n",
      "4   上市股票       2213       1712       501\n",
      "5   流通市值  406807.51  378220.81  28586.69\n",
      "6   报告时间   20230105   20230105  20230105\n",
      "8    总股本   47668.05   45925.27   1742.78\n"
     ]
    },
    {
     "ename": "KeyError",
     "evalue": "'2015'",
     "output_type": "error",
     "traceback": [
      "\u001b[1;31m---------------------------------------------------------------------------\u001b[0m",
      "\u001b[1;31mKeyError\u001b[0m                                  Traceback (most recent call last)",
      "File \u001b[1;32me:\\Python\\Python39\\lib\\site-packages\\pandas\\core\\indexes\\base.py:3803\u001b[0m, in \u001b[0;36mIndex.get_loc\u001b[1;34m(self, key, method, tolerance)\u001b[0m\n\u001b[0;32m   3802\u001b[0m \u001b[39mtry\u001b[39;00m:\n\u001b[1;32m-> 3803\u001b[0m     \u001b[39mreturn\u001b[39;00m \u001b[39mself\u001b[39;49m\u001b[39m.\u001b[39;49m_engine\u001b[39m.\u001b[39;49mget_loc(casted_key)\n\u001b[0;32m   3804\u001b[0m \u001b[39mexcept\u001b[39;00m \u001b[39mKeyError\u001b[39;00m \u001b[39mas\u001b[39;00m err:\n",
      "File \u001b[1;32me:\\Python\\Python39\\lib\\site-packages\\pandas\\_libs\\index.pyx:138\u001b[0m, in \u001b[0;36mpandas._libs.index.IndexEngine.get_loc\u001b[1;34m()\u001b[0m\n",
      "File \u001b[1;32me:\\Python\\Python39\\lib\\site-packages\\pandas\\_libs\\index.pyx:165\u001b[0m, in \u001b[0;36mpandas._libs.index.IndexEngine.get_loc\u001b[1;34m()\u001b[0m\n",
      "File \u001b[1;32mpandas\\_libs\\hashtable_class_helper.pxi:5745\u001b[0m, in \u001b[0;36mpandas._libs.hashtable.PyObjectHashTable.get_item\u001b[1;34m()\u001b[0m\n",
      "File \u001b[1;32mpandas\\_libs\\hashtable_class_helper.pxi:5753\u001b[0m, in \u001b[0;36mpandas._libs.hashtable.PyObjectHashTable.get_item\u001b[1;34m()\u001b[0m\n",
      "\u001b[1;31mKeyError\u001b[0m: '2015'",
      "\nThe above exception was the direct cause of the following exception:\n",
      "\u001b[1;31mKeyError\u001b[0m                                  Traceback (most recent call last)",
      "\u001b[1;32md:\\workspace\\src\\examples\\learn_python\\finance\\ak-fund-demo.ipynb Cell 26\u001b[0m in \u001b[0;36m<cell line: 7>\u001b[1;34m()\u001b[0m\n\u001b[0;32m      <a href='vscode-notebook-cell:/d%3A/workspace/src/examples/learn_python/finance/ak-fund-demo.ipynb#X34sZmlsZQ%3D%3D?line=3'>4</a>\u001b[0m \u001b[39mprint\u001b[39m(stock_sse_summary_df)\n\u001b[0;32m      <a href='vscode-notebook-cell:/d%3A/workspace/src/examples/learn_python/finance/ak-fund-demo.ipynb#X34sZmlsZQ%3D%3D?line=5'>6</a>\u001b[0m stock_a_pe_df \u001b[39m=\u001b[39m ak\u001b[39m.\u001b[39mstock_a_pe(symbol\u001b[39m=\u001b[39m\u001b[39m\"\u001b[39m\u001b[39mall\u001b[39m\u001b[39m\"\u001b[39m)\n\u001b[1;32m----> <a href='vscode-notebook-cell:/d%3A/workspace/src/examples/learn_python/finance/ak-fund-demo.ipynb#X34sZmlsZQ%3D%3D?line=6'>7</a>\u001b[0m \u001b[39mprint\u001b[39m(stock_a_pe_df[\u001b[39m\"\u001b[39;49m\u001b[39m2015\u001b[39;49m\u001b[39m\"\u001b[39;49m])\n",
      "File \u001b[1;32me:\\Python\\Python39\\lib\\site-packages\\pandas\\core\\frame.py:3805\u001b[0m, in \u001b[0;36mDataFrame.__getitem__\u001b[1;34m(self, key)\u001b[0m\n\u001b[0;32m   3803\u001b[0m \u001b[39mif\u001b[39;00m \u001b[39mself\u001b[39m\u001b[39m.\u001b[39mcolumns\u001b[39m.\u001b[39mnlevels \u001b[39m>\u001b[39m \u001b[39m1\u001b[39m:\n\u001b[0;32m   3804\u001b[0m     \u001b[39mreturn\u001b[39;00m \u001b[39mself\u001b[39m\u001b[39m.\u001b[39m_getitem_multilevel(key)\n\u001b[1;32m-> 3805\u001b[0m indexer \u001b[39m=\u001b[39m \u001b[39mself\u001b[39;49m\u001b[39m.\u001b[39;49mcolumns\u001b[39m.\u001b[39;49mget_loc(key)\n\u001b[0;32m   3806\u001b[0m \u001b[39mif\u001b[39;00m is_integer(indexer):\n\u001b[0;32m   3807\u001b[0m     indexer \u001b[39m=\u001b[39m [indexer]\n",
      "File \u001b[1;32me:\\Python\\Python39\\lib\\site-packages\\pandas\\core\\indexes\\base.py:3805\u001b[0m, in \u001b[0;36mIndex.get_loc\u001b[1;34m(self, key, method, tolerance)\u001b[0m\n\u001b[0;32m   3803\u001b[0m     \u001b[39mreturn\u001b[39;00m \u001b[39mself\u001b[39m\u001b[39m.\u001b[39m_engine\u001b[39m.\u001b[39mget_loc(casted_key)\n\u001b[0;32m   3804\u001b[0m \u001b[39mexcept\u001b[39;00m \u001b[39mKeyError\u001b[39;00m \u001b[39mas\u001b[39;00m err:\n\u001b[1;32m-> 3805\u001b[0m     \u001b[39mraise\u001b[39;00m \u001b[39mKeyError\u001b[39;00m(key) \u001b[39mfrom\u001b[39;00m \u001b[39merr\u001b[39;00m\n\u001b[0;32m   3806\u001b[0m \u001b[39mexcept\u001b[39;00m \u001b[39mTypeError\u001b[39;00m:\n\u001b[0;32m   3807\u001b[0m     \u001b[39m# If we have a listlike key, _check_indexing_error will raise\u001b[39;00m\n\u001b[0;32m   3808\u001b[0m     \u001b[39m#  InvalidIndexError. Otherwise we fall through and re-raise\u001b[39;00m\n\u001b[0;32m   3809\u001b[0m     \u001b[39m#  the TypeError.\u001b[39;00m\n\u001b[0;32m   3810\u001b[0m     \u001b[39mself\u001b[39m\u001b[39m.\u001b[39m_check_indexing_error(key)\n",
      "\u001b[1;31mKeyError\u001b[0m: '2015'"
     ]
    }
   ],
   "source": [
    "import akshare as ak\n",
    "\n",
    "stock_sse_summary_df = ak.stock_sse_summary()\n",
    "print(stock_sse_summary_df)\n",
    "\n"
   ]
  },
  {
   "cell_type": "code",
   "execution_count": 72,
   "metadata": {},
   "outputs": [
    {
     "data": {
      "text/plain": [
       "<matplotlib.lines.Line2D at 0x17421027970>"
      ]
     },
     "execution_count": 72,
     "metadata": {},
     "output_type": "execute_result"
    },
    {
     "data": {
      "image/png": "[encoded data removed]",
      "text/plain": [
       "<Figure size 1872x864 with 1 Axes>"
      ]
     },
     "metadata": {
      "needs_background": "light"
     },
     "output_type": "display_data"
    }
   ],
   "source": [
    "import matplotlib.pyplot as plt\n",
    "\n",
    "stock_a_pe_df = ak.stock_a_pe(symbol=\"all\")\n",
    "stock_a_pe_df.index = pd.to_datetime(stock_a_pe_df['date'])\n",
    "stock_a_pe_df[['averagePELYR']].plot(kind='line', figsize=(26, 12))\n",
    "plt.axhline(y=40, color='r', linestyle='-')"
   ]
  },
  {
   "cell_type": "code",
   "execution_count": null,
   "metadata": {},
   "outputs": [],
   "source": [
    "print(stock_a_pe_df[\"2007\":\"2009\"][['averagePELYR']].min())\n",
    "print(stock_a_pe_df[\"2014\":\"2018\"][['averagePELYR']].min())\n",
    "min = stock_a_pe_df[\"2021\":\"2023\"][['averagePELYR']].min()\n",
    "stock_a_pe_df[stock_a_pe_df['averagePELYR'].astype(float) <= 40]"
   ]
  },
  {
   "cell_type": "code",
   "execution_count": 73,
   "metadata": {},
   "outputs": [
    {
     "data": {
      "text/plain": [
       "0.0868351383874848"
      ]
     },
     "execution_count": 73,
     "metadata": {},
     "output_type": "execute_result"
    }
   ],
   "source": [
    "2.2579 / 2.0775 -1 "
   ]
  }
 ],
 "metadata": {
  "kernelspec": {
   "display_name": "Python 3",
   "language": "python",
   "name": "python3"
  },
  "language_info": {
   "codemirror_mode": {
    "name": "ipython",
    "version": 3
   },
   "file_extension": ".py",
   "mimetype": "text/x-python",
   "name": "python",
   "nbconvert_exporter": "python",
   "pygments_lexer": "ipython3",
   "version": "3.9.8"
  },
  "orig_nbformat": 4,
  "vscode": {
   "interpreter": {
    "hash": "b4014b60265de7f80a801ece3da4a480cce03f2136c91739134aaed5b8cdff47"
   }
  }
 },
 "nbformat": 4,
 "nbformat_minor": 2
}
