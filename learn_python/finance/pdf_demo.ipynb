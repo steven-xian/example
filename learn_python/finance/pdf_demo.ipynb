{
 "cells": [
  {
   "cell_type": "code",
   "execution_count": 3,
   "metadata": {},
   "outputs": [],
   "source": [
    "import os\n",
    "import shutil\n",
    "import numpy as np\n",
    "import pandas as pd\n",
    "import calendar\n",
    "from datetime import datetime\n",
    "from fpdf import FPDF\n",
    "\n",
    "import matplotlib.pyplot as plt\n",
    "from matplotlib import rcParams\n",
    "\n",
    "rcParams[\"axes.spines.top\"] = False\n",
    "rcParams[\"axes.spines.right\"] = False"
   ]
  },
  {
   "cell_type": "code",
   "execution_count": 4,
   "metadata": {},
   "outputs": [],
   "source": [
    "def generate_sales_data(month: int) -> pd.DataFrame:\n",
    "    dates = pd.date_range(\n",
    "        start=datetime(year=2020, month=month, day=1),\n",
    "        end=datetime(year=2020, month=month,day=calendar.monthrange(2020,month)[1])\n",
    "    )\n",
    "\n",
    "    sales = np.random.randint(low=1000, high=2000, size=len(dates))\n",
    "\n",
    "    return pd.DataFrame({\n",
    "        'Date': dates,\n",
    "        \"ItemSold\": sales\n",
    "    })"
   ]
  },
  {
   "cell_type": "code",
   "execution_count": null,
   "metadata": {},
   "outputs": [],
   "source": [
    "generate_sales_data(month=5)"
   ]
  },
  {
   "cell_type": "code",
   "execution_count": 25,
   "metadata": {},
   "outputs": [],
   "source": [
    "def plot(data: pd.DataFrame, filename: str) -> None:\n",
    "    plt.figure(figsize=(12, 4))\n",
    "    plt.grid(color='#F2F2F2', alpha=1, zorder=0)\n",
    "    plt.plot(data['Date'], data['ItemSold'], color='#087E8B', lw=3, zorder=5)\n",
    "    plt.title(f'Sales 2020/{data[\"Date\"].dt.month[0]}', fontsize=17)\n",
    "    plt.xlabel('Peroid', fontsize=13)\n",
    "    plt.xticks(fontsize=9)\n",
    "    plt.ylabel('Number of items sold', fontsize=13)\n",
    "    plt.yticks(fontsize=9)\n",
    "    plt.savefig(filename, dpi=300, bbox_inches='tight', pad_inches=0)\n",
    "    plt.close()\n",
    "    return"
   ]
  },
  {
   "cell_type": "code",
   "execution_count": null,
   "metadata": {},
   "outputs": [],
   "source": [
    "december = generate_sales_data(month=12)\n",
    "plot(data=december, filename='december.png')"
   ]
  },
  {
   "cell_type": "code",
   "execution_count": 31,
   "metadata": {},
   "outputs": [],
   "source": [
    "PLOT_DIR = \"plots\"\n",
    "\n",
    "def construct():\n",
    "    try:\n",
    "        shutil.rmtree(PLOT_DIR)\n",
    "        os.mkdir(PLOT_DIR)\n",
    "    except:\n",
    "        os.mkdir(PLOT_DIR)\n",
    "\n",
    "    for i in range(2, 13):\n",
    "        plot(data=generate_sales_data(month=i), filename=f'{PLOT_DIR}/{i}.png')\n",
    "\n",
    "    counter = 0\n",
    "    pages_data = []\n",
    "    temp = []\n",
    "    files = os.listdir(PLOT_DIR)\n",
    "    files = sorted(os.listdir(PLOT_DIR), key=lambda x : int(x.split('.')[0]))\n",
    "\n",
    "    for fname in files:\n",
    "        if counter == 3:\n",
    "            pages_data.append(temp)\n",
    "            temp = []\n",
    "            counter = 0\n",
    "        temp.append(f'{PLOT_DIR}/{fname}')\n",
    "        counter += 1\n",
    "\n",
    "    return [*pages_data, temp]"
   ]
  },
  {
   "cell_type": "code",
   "execution_count": 19,
   "metadata": {},
   "outputs": [],
   "source": [
    "class PDF(FPDF):\n",
    "    def __init__(self):\n",
    "        super().__init__()\n",
    "        self.WIDTH = 210\n",
    "        self.HEIGHT = 297\n",
    "\n",
    "    def header(self):\n",
    "        # self.image('assets/logo.png', 10, 8, 33)\n",
    "        self.set_font('Arial', 'B', 11)\n",
    "        self.cell(self.WIDTH - 80)\n",
    "        self.cell(60, 1, 'Sales report', 0, 0, 'R')\n",
    "        self.ln(20)\n",
    "\n",
    "    def footer(self):\n",
    "        self.set_y(-15)\n",
    "        self.set_font('Arial', 'I', 8)\n",
    "        self.set_text_color(128)\n",
    "        self.cell(0, 10, 'Page ' + str(self.page_no()), 0, 0, 'C')\n",
    "\n",
    "    def page_body(self, images):\n",
    "        if len(images) == 3:\n",
    "            self.image(images[0], 15, 25, self.WIDTH - 30)\n",
    "            self.image(images[1], 15, self.WIDTH / 2 + 5, self.WIDTH - 30)\n",
    "            self.image(images[2], 15, self.WIDTH / 2 + 90, self.WIDTH - 30)\n",
    "        elif len(images) == 2:\n",
    "            self.image(images[0], 15, 25, self.WIDTH - 30)\n",
    "            self.image(images[1], 15, self.WIDTH / 2 + 5, self.WIDTH - 30)\n",
    "        else:\n",
    "            self.image(images[0], 15, 25, self.WIDTH - 30)\n",
    "\n",
    "    def print_page(self, images):\n",
    "        self.add_page()\n",
    "        self.page_body(images)"
   ]
  },
  {
   "cell_type": "code",
   "execution_count": 33,
   "metadata": {},
   "outputs": [
    {
     "name": "stdout",
     "output_type": "stream",
     "text": [
      "[['plots/2.png', 'plots/3.png', 'plots/4.png'], ['plots/5.png', 'plots/6.png', 'plots/7.png'], ['plots/8.png', 'plots/9.png', 'plots/10.png'], ['plots/11.png', 'plots/12.png']]\n"
     ]
    }
   ],
   "source": [
    "plots_per_page = construct()\n",
    "print(plots_per_page)"
   ]
  },
  {
   "cell_type": "code",
   "execution_count": 20,
   "metadata": {},
   "outputs": [
    {
     "data": {
      "text/plain": [
       "''"
      ]
     },
     "execution_count": 20,
     "metadata": {},
     "output_type": "execute_result"
    }
   ],
   "source": [
    "pdf = PDF()\n",
    "\n",
    "for elem in plots_per_page:\n",
    "    pdf.print_page(elem)\n",
    "\n",
    "pdf.output('sales_report.pdf', 'F')"
   ]
  }
 ],
 "metadata": {
  "kernelspec": {
   "display_name": "Python 3",
   "language": "python",
   "name": "python3"
  },
  "language_info": {
   "codemirror_mode": {
    "name": "ipython",
    "version": 3
   },
   "file_extension": ".py",
   "mimetype": "text/x-python",
   "name": "python",
   "nbconvert_exporter": "python",
   "pygments_lexer": "ipython3",
   "version": "3.9.8"
  },
  "orig_nbformat": 4,
  "vscode": {
   "interpreter": {
    "hash": "b4014b60265de7f80a801ece3da4a480cce03f2136c91739134aaed5b8cdff47"
   }
  }
 },
 "nbformat": 4,
 "nbformat_minor": 2
}
