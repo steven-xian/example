{
 "cells": [
  {
   "cell_type": "code",
   "execution_count": 118,
   "metadata": {},
   "outputs": [
    {
     "name": "stderr",
     "output_type": "stream",
     "text": [
      "100%|██████████| 20/20 [00:19<00:00,  1.05it/s]\n"
     ]
    },
    {
     "data": {
      "text/plain": [
       "'temp-plot.html'"
      ]
     },
     "execution_count": 118,
     "metadata": {},
     "output_type": "execute_result"
    }
   ],
   "source": [
    "import akshare as ak\n",
    "import pandas as pd\n",
    "import matplotlib.pyplot as plt\n",
    "import seaborn as sns\n",
    "from plotly.subplots import make_subplots\n",
    "import plotly.graph_objects as go\n",
    "import plotly.offline as py\n",
    "from tqdm import tqdm\n",
    "\n",
    "pd.options.plotting.backend = \"plotly\"\n",
    "\n",
    "stocks = ak.stock_board_industry_cons_ths(symbol=\"白酒\")\n",
    "\n",
    "all_pe = pd.DataFrame()\n",
    "all_pb = pd.DataFrame()\n",
    "all_ps = pd.DataFrame()\n",
    "all_dv = pd.DataFrame()\n",
    "all_mv = pd.DataFrame()\n",
    "\n",
    "for i in tqdm(range(len(stocks))):\n",
    "    code = stocks.loc[i, \"代码\"]\n",
    "\n",
    "    ind = ak.stock_a_lg_indicator(code)\n",
    "    ind.to_csv(\"value-{}.csv\".format(code))\n",
    "    pe = pd.Series(list(ind[\"pe_ttm\"]), index=pd.to_datetime(ind[\"trade_date\"]))\n",
    "    pb = pd.Series(list(ind[\"pb\"]), index=pd.to_datetime(ind[\"trade_date\"]))\n",
    "    ps = pd.Series(list(ind[\"ps_ttm\"]), index=pd.to_datetime(ind[\"trade_date\"]))\n",
    "    dv = pd.Series(list(ind[\"dv_ttm\"]), index=pd.to_datetime(ind[\"trade_date\"]))\n",
    "    mv = pd.Series(list(ind[\"total_mv\"]), index=pd.to_datetime(ind[\"trade_date\"]))\n",
    "    pe_df = pd.DataFrame({code: pe}).fillna(0)\n",
    "    pb_df = pd.DataFrame({code: pb}).fillna(0)\n",
    "    ps_df = pd.DataFrame({code: ps}).fillna(0)\n",
    "    dv_df = pd.DataFrame({code: dv}).fillna(0)\n",
    "    mv_df = pd.DataFrame({code: mv}).fillna(0)\n",
    "    all_pe = pd.concat([all_pe, pe_df], axis=1)\n",
    "    all_pb = pd.concat([all_pb, pb_df], axis=1)\n",
    "    all_ps = pd.concat([all_ps, ps_df], axis=1)\n",
    "    all_dv = pd.concat([all_dv, dv_df], axis=1)\n",
    "    all_mv = pd.concat([all_mv, mv_df], axis=1)\n",
    "\n",
    "cols = all_pe.columns.values\n",
    "trace_list = []\n",
    "for i in range(0, len(cols)):\n",
    "    trace_list.append(go.Scatter(x=all_pe.index, y=all_pe[cols[i]], mode=\"lines\", name=cols[i]))\n",
    "\n",
    "fig = go.Figure(trace_list)\n",
    "py.plot(fig)\n",
    "# print(all_pe)\n",
    "# print(all_pe[:])\n",
    "# print(ind_df)\n",
    "# plt.style.use('ggplot')\n",
    "# color_palette = sns.color_palette(\"hls\", 5)\n",
    "# plt.rcParams['font.sans-serif'] = ['Times New Roman']\n",
    "# fig = plt.figure(figsize=(16, 12))\n",
    "# pd.set_option('plotting.backend', 'matplotlib')\n",
    "\n",
    "# fig = make_subplots(rows=5, cols=1)\n",
    "\n",
    "# fig.append_trace(go.Scatter(x=all_pe.index, y=all_pe[:], mode=\"lines\", name=\"pe\"), 1, 1)\n",
    "# fig.update_layout(width=1500, height=(len(cols) * 600))\n",
    "# fig.show()"
   ]
  },
  {
   "cell_type": "code",
   "execution_count": 109,
   "metadata": {},
   "outputs": [
    {
     "name": "stdout",
     "output_type": "stream",
     "text": [
      "             000568   600197   002646   000858   600559    600809   603198  \\\n",
      "trade_date                                                                   \n",
      "2003-01-06  47.7800  41.5829      NaN  19.1263  61.3231  144.7977      NaN   \n",
      "2003-01-07  47.7800  41.5829      NaN  18.9390  61.5155  144.7977      NaN   \n",
      "2003-01-08  48.4688  42.3991      NaN  19.3307  64.2096  149.0015      NaN   \n",
      "2003-01-09  49.4707  43.3060      NaN  19.6713  65.2360  152.5047      NaN   \n",
      "2003-01-10  49.2203  43.1246      NaN  19.5862  63.6323  149.4686      NaN   \n",
      "...             ...      ...      ...      ...      ...       ...      ...   \n",
      "2022-12-26  32.3457  63.0839  96.1176  26.6238  36.9894   45.5640  29.5007   \n",
      "2022-12-27  33.0878  63.5660  97.3343  26.9890  37.7096   46.2595  30.9942   \n",
      "2022-12-28  33.3570  61.7897  94.0493  26.8593  37.3699   46.1544  30.6639   \n",
      "2022-12-29  32.5941  61.2314  91.5551  26.6461  37.0981   45.7468  30.7921   \n",
      "2022-12-30  33.3540  62.2718  93.0759  26.9353  37.4107   46.0962  30.9449   \n",
      "\n",
      "             600519   002304   600702   603369   603919   000799   603589  \\\n",
      "trade_date                                                                  \n",
      "2003-01-06  19.9223      NaN  72.4555      NaN      NaN  27.8662      NaN   \n",
      "2003-01-07  19.7379      NaN  71.9506      NaN      NaN  27.9072      NaN   \n",
      "2003-01-08  20.2749      NaN  74.2227      NaN      NaN  28.6858      NaN   \n",
      "2003-01-09  20.4512      NaN  75.7375      NaN      NaN  29.1775      NaN   \n",
      "2003-01-10  20.3630      NaN  74.6014      NaN      NaN  28.8497      NaN   \n",
      "...             ...      ...      ...      ...      ...      ...      ...   \n",
      "2022-12-26  36.7215  25.5803  35.9699  25.7164  48.0006  40.4248  19.9723   \n",
      "2022-12-27  36.5305  26.0614  36.5930  26.2313  48.3096  41.2872  19.9319   \n",
      "2022-12-28  36.5305  25.8378  36.4873  26.4758  46.3525  40.1411  19.7666   \n",
      "2022-12-29  36.2354  25.7187  35.9149  26.4862  46.0092  39.2504  19.5506   \n",
      "2022-12-30  36.4040  25.8217  35.9330  26.4758  45.9233  39.1312  19.4562   \n",
      "\n",
      "             000596   600779  \n",
      "trade_date                    \n",
      "2003-01-06  53.7239  33.6079  \n",
      "2003-01-07  53.5912  33.3704  \n",
      "2003-01-08  54.6525  34.3205  \n",
      "2003-01-09  55.6695  34.9736  \n",
      "2003-01-10  54.6082  34.6174  \n",
      "...             ...      ...  \n",
      "2022-12-26  47.7283  34.3958  \n",
      "2022-12-27  48.3533  34.9372  \n",
      "2022-12-28  47.9951  33.8699  \n",
      "2022-12-29  48.2351  33.4648  \n",
      "2022-12-30  47.7981  32.8844  \n",
      "\n",
      "[4856 rows x 16 columns]\n"
     ]
    }
   ],
   "source": [
    "print(all_pe)"
   ]
  },
  {
   "cell_type": "code",
   "execution_count": 110,
   "metadata": {},
   "outputs": [
    {
     "data": {
      "text/plain": [
       "'temp-plot.html'"
      ]
     },
     "execution_count": 110,
     "metadata": {},
     "output_type": "execute_result"
    }
   ],
   "source": [
    "cols = all_pe.columns.values\n",
    "trace_list = []\n",
    "for i in range(0, len(cols)):\n",
    "    trace_list.append(go.Scatter(x=all_pe.index, y=all_pe[cols[i]], mode=\"lines\", name=cols[i]))\n",
    "\n",
    "fig = go.Figure(trace_list)\n",
    "py.plot(fig)\n",
    "\n",
    "# print(10 **8)"
   ]
  },
  {
   "cell_type": "code",
   "execution_count": null,
   "metadata": {},
   "outputs": [],
   "source": [
    "import pandas as pd\n",
    "import pandas_bokeh\n",
    "import numpy as np\n",
    "\n",
    "np.random.seed(42)\n",
    "df = pd.DataFrame({\"谷歌\": np.random.randn(1000) + 0.2, \n",
    "                    \"苹果\": np.random.randn(1000) + 0.17}, index=pd.date_range('1/1/2022', periods=1000))\n",
    "\n",
    "df = df.cumsum()\n",
    "df = df + 50\n",
    "pd.set_option('plotting.backend', '')\n",
    "\n",
    "# pandas_bokeh.output_notebook()\n",
    "df.plot_bokeh.line()"
   ]
  },
  {
   "cell_type": "code",
   "execution_count": 80,
   "metadata": {},
   "outputs": [],
   "source": [
    "#价值分析1: PE分析\n",
    "\n",
    "import numpy as np\n",
    "import pandas as pd\n",
    "import akshare as ak\n",
    "from tqdm import tqdm\n",
    "import matplotlib.pyplot as plt\n",
    "import matplotlib as mpl\n",
    "import seaborn as sns\n",
    "import warnings\n",
    "warnings.filterwarnings('ignore')\n",
    "\n",
    "def get_industry_pe(industry: str):\n",
    "    stocks = ak.stock_board_industry_cons_ths(symbol=industry)\n",
    "\n",
    "    all_stock = pd.DataFrame()\n",
    "\n",
    "    stock_len = len(stocks)\n",
    "    # 生成excel表格\n",
    "    # sheet_writer = pd.ExcelWriter(f'{industry}_pe.xlsx')\n",
    "\n",
    "    for i in tqdm(range(stock_len)):\n",
    "        # market = 'sz'\n",
    "        code = stocks.loc[i, \"代码\"]\n",
    "        name = stocks.loc[i, \"名称\"]\n",
    "        if (code.startswith('4') or code.startswith('8')):\n",
    "            continue        \n",
    "        \n",
    "        lg_ind = ak.stock_a_lg_indicator(symbol=code)\n",
    "        lg_ind = lg_ind[lg_ind['pe_ttm'].notnull()]\n",
    "        lg_ind['code'] = code\n",
    "        lg_ind['net_profit'] = lg_ind['total_mv'] / lg_ind['pe_ttm']\n",
    "        all_stock = pd.concat([all_stock, lg_ind], ignore_index=True)\n",
    "\n",
    "    all_stock.to_csv(f\"stock_list_{industry}.csv\", encoding='utf_8_sig')\n",
    "    out = all_stock.groupby('trade_date')[['total_mv', 'net_profit']].sum()\n",
    "    out['stock_size'] = all_stock.groupby('trade_date').size()\n",
    "    out['average_pe'] = out['total_mv'] / out['net_profit']\n",
    "    first_valid_item = out[out.stock_size >= 10].iloc[:1].index.to_numpy()\n",
    "    # out.to_csv(f\"{industry}_nodrop.csv\", encoding='utf_8_sig')\n",
    "    out = out.loc[out.index >= first_valid_item[0]]\n",
    "    # out.to_csv(f\"{industry}.csv\", encoding='utf_8_sig')\n",
    "    \n",
    "    return out\n",
    "\n",
    "def get_all_industry():\n",
    "    all_industry = ak.stock_board_industry_summary_ths()\n",
    "\n",
    "    return all_industry    \n",
    "\n",
    "def get_all_industry_pe(industry_list:list):\n",
    "    all_industry_pe = {}\n",
    "\n",
    "    for industry in industry_list:\n",
    "        print(f\"get {industry}\")\n",
    "        \n",
    "        industry_pe = get_industry_pe(industry)\n",
    "        all_industry_pe[industry] = industry_pe    \n",
    "\n",
    "    return all_industry_pe\n",
    "\n",
    "def drawPe(all_industry_pe:dict):\n",
    "    pd.options.plotting.backend = \"matplotlib\"\n",
    "\n",
    "    # print(mpl.get_cachedir())\n",
    "    plt.style.use('ggplot')\n",
    "    color_palette = sns.color_palette(\"hls\", len(all_industry_pe.keys()))\n",
    "    plt.rcParams[\"font.sans-serif\"] = [\"SimHei\"]\n",
    "    plt.rcParams['axes.unicode_minus'] = False\n",
    "\n",
    "    fig = plt.figure(figsize=(26, 20))\n",
    "\n",
    "    index = 0\n",
    "    for k,v in all_industry_pe.items():\n",
    "        industry = k\n",
    "        plt.subplot(len(all_industry_pe.keys()), 1, index+1)\n",
    "        all_industry_pe[industry]['average_pe'].plot(kind='line', figsize=(26, 20), color=color_palette[index], label=industry)\n",
    "        plt.xlabel('')\n",
    "        plt.ylabel('pe ttm')\n",
    "        plt.legend()\n",
    "        index += 1\n",
    "\n",
    "    plt.tight_layout()    "
   ]
  },
  {
   "cell_type": "code",
   "execution_count": 72,
   "metadata": {},
   "outputs": [
    {
     "name": "stderr",
     "output_type": "stream",
     "text": [
      "                                             \r"
     ]
    }
   ],
   "source": [
    "all_industry = get_all_industry()\n",
    "\n",
    "all_industry.to_csv(\"all_industry.csv\", encoding='utf_8_sig')"
   ]
  },
  {
   "cell_type": "code",
   "execution_count": null,
   "metadata": {},
   "outputs": [],
   "source": [
    "all_industry_pe = get_all_industry_pe(['小家电','汽车服务','中药'])"
   ]
  },
  {
   "cell_type": "code",
   "execution_count": null,
   "metadata": {},
   "outputs": [],
   "source": [
    "import matplotlib as mpl\n",
    "import matplotlib.pyplot as plt\n",
    "\n",
    "def plot_demo():\n",
    "    #print(mpl.get_cachedir())\n",
    "    # 绘制折线图\n",
    "    plt.rcParams[\"font.sans-serif\"] = [\"SimHei\"]  # 设置字体\n",
    "    plt.rcParams[\"axes.unicode_minus\"] = False  # 正常显示负号\n",
    "    year = [2017, 2018, 2019, 2020]\n",
    "    people = [20, 40, 60, 70]\n",
    "    # 生成图表\n",
    "    plt.plot(year, people)\n",
    "    plt.xlabel('年份')\n",
    "    plt.ylabel('人口')\n",
    "    plt.title('人口增长')\n",
    "    # 设置纵坐标刻度\n",
    "    plt.yticks([0, 20, 40, 60, 80])\n",
    "    # 设置填充选项：参数分别对应横坐标，纵坐标，纵坐标填充起始值，填充颜色\n",
    "    plt.fill_between(year, people, 20, color='green')\n",
    "    # 显示图表\n",
    "    # plt.savefig(\"./plt.png\")\n",
    "    plt.show()\n",
    "\n",
    "plot_demo()"
   ]
  }
 ],
 "metadata": {
  "kernelspec": {
   "display_name": "Python 3",
   "language": "python",
   "name": "python3"
  },
  "language_info": {
   "codemirror_mode": {
    "name": "ipython",
    "version": 3
   },
   "file_extension": ".py",
   "mimetype": "text/x-python",
   "name": "python",
   "nbconvert_exporter": "python",
   "pygments_lexer": "ipython3",
   "version": "3.9.8"
  },
  "orig_nbformat": 4,
  "vscode": {
   "interpreter": {
    "hash": "b4014b60265de7f80a801ece3da4a480cce03f2136c91739134aaed5b8cdff47"
   }
  }
 },
 "nbformat": 4,
 "nbformat_minor": 2
}
