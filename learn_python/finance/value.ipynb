{
 "cells": [
  {
   "cell_type": "code",
   "execution_count": 99,
   "metadata": {},
   "outputs": [
    {
     "name": "stderr",
     "output_type": "stream",
     "text": [
      "                                     \r"
     ]
    },
    {
     "data": {
      "text/plain": [
       "'temp-plot.html'"
      ]
     },
     "execution_count": 99,
     "metadata": {},
     "output_type": "execute_result"
    }
   ],
   "source": [
    "import akshare as ak\n",
    "import pandas as pd\n",
    "import matplotlib.pyplot as plt\n",
    "import seaborn as sns\n",
    "from plotly.subplots import make_subplots\n",
    "import plotly.graph_objects as go\n",
    "import plotly.offline as py\n",
    "from tqdm import tqdm\n",
    "\n",
    "pd.options.plotting.backend = \"plotly\"\n",
    "\n",
    "stocks = ak.stock_board_industry_cons_ths(symbol=\"白酒\")\n",
    "\n",
    "all_pe = pd.DataFrame()\n",
    "all_pb = pd.DataFrame()\n",
    "all_ps = pd.DataFrame()\n",
    "all_dv = pd.DataFrame()\n",
    "all_mv = pd.DataFrame()\n",
    "\n",
    "for i in tqdm(range(len(stocks))):\n",
    "    code = stocks.loc[i, \"代码\"]\n",
    "\n",
    "    ind = ak.stock_a_lg_indicator(code)\n",
    "    ind.to_csv(\"value-{}.csv\".format(code))\n",
    "    pe = pd.Series(list(ind[\"pe_ttm\"]), index=pd.to_datetime(ind[\"trade_date\"]))\n",
    "    pb = pd.Series(list(ind[\"pb\"]), index=pd.to_datetime(ind[\"trade_date\"]))\n",
    "    ps = pd.Series(list(ind[\"ps_ttm\"]), index=pd.to_datetime(ind[\"trade_date\"]))\n",
    "    dv = pd.Series(list(ind[\"dv_ttm\"]), index=pd.to_datetime(ind[\"trade_date\"]))\n",
    "    mv = pd.Series(list(ind[\"total_mv\"]), index=pd.to_datetime(ind[\"trade_date\"]))\n",
    "    pe_df = pd.DataFrame({code: pe}).fillna(0)\n",
    "    pb_df = pd.DataFrame({code: pb}).fillna(0)\n",
    "    ps_df = pd.DataFrame({code: ps}).fillna(0)\n",
    "    dv_df = pd.DataFrame({code: dv}).fillna(0)\n",
    "    mv_df = pd.DataFrame({code: mv}).fillna(0)\n",
    "    all_pe = pd.concat([all_pe, pe_df], axis=1)\n",
    "    all_pb = pd.concat([all_pb, pb_df], axis=1)\n",
    "    all_ps = pd.concat([all_ps, ps_df], axis=1)\n",
    "    all_dv = pd.concat([all_dv, dv_df], axis=1)\n",
    "    all_mv = pd.concat([all_mv, mv_df], axis=1)\n",
    "\n",
    "cols = all_pe.columns.values\n",
    "trace_list = []\n",
    "for i in range(0, len(cols)):\n",
    "    trace_list.append(go.Scatter(x=all_pe.index, y=all_pe[cols[i]], mode=\"lines\", name=cols[i]))\n",
    "\n",
    "fig = go.Figure(trace_list)\n",
    "py.plot(fig)\n",
    "# print(all_pe)\n",
    "# print(all_pe[:])\n",
    "# print(ind_df)\n",
    "# plt.style.use('ggplot')\n",
    "# color_palette = sns.color_palette(\"hls\", 5)\n",
    "# plt.rcParams['font.sans-serif'] = ['Times New Roman']\n",
    "# fig = plt.figure(figsize=(16, 12))\n",
    "# pd.set_option('plotting.backend', 'matplotlib')\n",
    "\n",
    "# fig = make_subplots(rows=5, cols=1)\n",
    "\n",
    "# fig.append_trace(go.Scatter(x=all_pe.index, y=all_pe[:], mode=\"lines\", name=\"pe\"), 1, 1)\n",
    "# fig.update_layout(width=1500, height=(len(cols) * 600))\n",
    "# fig.show()"
   ]
  },
  {
   "cell_type": "code",
   "execution_count": 93,
   "metadata": {},
   "outputs": [
    {
     "name": "stdout",
     "output_type": "stream",
     "text": [
      "             000568   000860   600197\n",
      "trade_date                           \n",
      "2003-01-06  47.7800  29.7467  41.5829\n",
      "2003-01-07  47.7800  29.4587  41.5829\n",
      "2003-01-08  48.4688  30.4462  42.3991\n",
      "2003-01-09  49.4707  30.9810  43.3060\n",
      "2003-01-10  49.2203  30.4873  43.1246\n",
      "...             ...      ...      ...\n",
      "2022-12-26  32.3457      NaN  63.0839\n",
      "2022-12-27  33.0878      NaN  63.5660\n",
      "2022-12-28  33.3570      NaN  61.7897\n",
      "2022-12-29  32.5941      NaN  61.2314\n",
      "2022-12-30  33.3540      NaN  62.2718\n",
      "\n",
      "[4856 rows x 3 columns]\n"
     ]
    }
   ],
   "source": [
    "print(all_pe)"
   ]
  },
  {
   "cell_type": "code",
   "execution_count": 76,
   "metadata": {},
   "outputs": [
    {
     "name": "stdout",
     "output_type": "stream",
     "text": [
      "           000568 000860 600197 002646 000995 000858 600199 600559 600809  \\\n",
      "trade_date                                                                  \n",
      "2003-01-06    NaN    NaN    NaN    NaN    NaN    NaN    NaN    NaN    NaN   \n",
      "2003-01-07    NaN    NaN    NaN    NaN    NaN    NaN    NaN    NaN    NaN   \n",
      "2003-01-08    NaN    NaN    NaN    NaN    NaN    NaN    NaN    NaN    NaN   \n",
      "2003-01-09    NaN    NaN    NaN    NaN    NaN    NaN    NaN    NaN    NaN   \n",
      "2003-01-10    NaN    NaN    NaN    NaN    NaN    NaN    NaN    NaN    NaN   \n",
      "...           ...    ...    ...    ...    ...    ...    ...    ...    ...   \n",
      "2022-12-26    NaN    NaN    NaN    NaN    NaN    NaN    NaN    NaN    NaN   \n",
      "2022-12-27    NaN    NaN    NaN    NaN    NaN    NaN    NaN    NaN    NaN   \n",
      "2022-12-28    NaN    NaN    NaN    NaN    NaN    NaN    NaN    NaN    NaN   \n",
      "2022-12-29    NaN    NaN    NaN    NaN    NaN    NaN    NaN    NaN    NaN   \n",
      "2022-12-30    NaN    NaN    NaN    NaN    NaN    NaN    NaN    NaN    NaN   \n",
      "\n",
      "           603198 600519 002304 600702 603369 600696 603919 000799 603589  \\\n",
      "trade_date                                                                  \n",
      "2003-01-06    NaN    NaN    NaN    NaN    NaN    NaN    NaN    NaN    NaN   \n",
      "2003-01-07    NaN    NaN    NaN    NaN    NaN    NaN    NaN    NaN    NaN   \n",
      "2003-01-08    NaN    NaN    NaN    NaN    NaN    NaN    NaN    NaN    NaN   \n",
      "2003-01-09    NaN    NaN    NaN    NaN    NaN    NaN    NaN    NaN    NaN   \n",
      "2003-01-10    NaN    NaN    NaN    NaN    NaN    NaN    NaN    NaN    NaN   \n",
      "...           ...    ...    ...    ...    ...    ...    ...    ...    ...   \n",
      "2022-12-26    NaN    NaN    NaN    NaN    NaN    NaN    NaN    NaN    NaN   \n",
      "2022-12-27    NaN    NaN    NaN    NaN    NaN    NaN    NaN    NaN    NaN   \n",
      "2022-12-28    NaN    NaN    NaN    NaN    NaN    NaN    NaN    NaN    NaN   \n",
      "2022-12-29    NaN    NaN    NaN    NaN    NaN    NaN    NaN    NaN    NaN   \n",
      "2022-12-30    NaN    NaN    NaN    NaN    NaN    NaN    NaN    NaN    NaN   \n",
      "\n",
      "           000596 600779  \n",
      "trade_date                \n",
      "2003-01-06    NaN    NaN  \n",
      "2003-01-07    NaN    NaN  \n",
      "2003-01-08    NaN    NaN  \n",
      "2003-01-09    NaN    NaN  \n",
      "2003-01-10    NaN    NaN  \n",
      "...           ...    ...  \n",
      "2022-12-26    NaN    NaN  \n",
      "2022-12-27    NaN    NaN  \n",
      "2022-12-28    NaN    NaN  \n",
      "2022-12-29    NaN    NaN  \n",
      "2022-12-30    NaN    NaN  \n",
      "\n",
      "[78610 rows x 20 columns]\n"
     ]
    }
   ],
   "source": [
    "print(all_pe)"
   ]
  },
  {
   "cell_type": "code",
   "execution_count": 74,
   "metadata": {},
   "outputs": [
    {
     "data": {
      "text/plain": [
       "trade_date\n",
       "2007-09-25    1.993368e+08\n",
       "2007-09-26    2.000379e+08\n",
       "2007-09-27    2.173308e+08\n",
       "2007-09-28    2.184993e+08\n",
       "2007-10-08    2.294827e+08\n",
       "                  ...     \n",
       "2022-12-26    1.375060e+08\n",
       "2022-12-27    1.395061e+08\n",
       "2022-12-28    1.402562e+08\n",
       "2022-12-29    1.397561e+08\n",
       "2022-12-30    1.407562e+08\n",
       "Name: total_mv, Length: 3698, dtype: float64"
      ]
     },
     "execution_count": 74,
     "metadata": {},
     "output_type": "execute_result"
    }
   ],
   "source": [
    "ind_df['total_mv']\n",
    "\n",
    "# print(10 **8)"
   ]
  },
  {
   "cell_type": "code",
   "execution_count": null,
   "metadata": {},
   "outputs": [],
   "source": [
    "import pandas as pd\n",
    "import pandas_bokeh\n",
    "import numpy as np\n",
    "\n",
    "np.random.seed(42)\n",
    "df = pd.DataFrame({\"谷歌\": np.random.randn(1000) + 0.2, \n",
    "                    \"苹果\": np.random.randn(1000) + 0.17}, index=pd.date_range('1/1/2022', periods=1000))\n",
    "\n",
    "df = df.cumsum()\n",
    "df = df + 50\n",
    "pd.set_option('plotting.backend', '')\n",
    "\n",
    "# pandas_bokeh.output_notebook()\n",
    "df.plot_bokeh.line()"
   ]
  }
 ],
 "metadata": {
  "kernelspec": {
   "display_name": "venv",
   "language": "python",
   "name": "python3"
  },
  "language_info": {
   "codemirror_mode": {
    "name": "ipython",
    "version": 3
   },
   "file_extension": ".py",
   "mimetype": "text/x-python",
   "name": "python",
   "nbconvert_exporter": "python",
   "pygments_lexer": "ipython3",
   "version": "3.10.8"
  },
  "orig_nbformat": 4,
  "vscode": {
   "interpreter": {
    "hash": "515b76cff5e7a48da03ec4cc7c961f652c9e003e79789e2018eab9b2107be02c"
   }
  }
 },
 "nbformat": 4,
 "nbformat_minor": 2
}
