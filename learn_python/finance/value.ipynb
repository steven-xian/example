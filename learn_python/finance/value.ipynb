{
 "cells": [
  {
   "cell_type": "code",
   "execution_count": null,
   "metadata": {},
   "outputs": [],
   "source": [
    "import akshare as ak\n",
    "import pandas as pd\n",
    "import matplotlib.pyplot as plt\n",
    "import seaborn as sns\n",
    "from plotly.subplots import make_subplots\n",
    "import plotly.graph_objects as go\n",
    "import plotly.offline as py\n",
    "from tqdm import tqdm\n",
    "\n",
    "pd.options.plotting.backend = \"plotly\"\n",
    "\n",
    "stocks = ak.stock_board_industry_cons_ths(symbol=\"白酒\")\n",
    "\n",
    "all_pe = pd.DataFrame()\n",
    "all_pb = pd.DataFrame()\n",
    "all_ps = pd.DataFrame()\n",
    "all_dv = pd.DataFrame()\n",
    "all_mv = pd.DataFrame()\n",
    "\n",
    "for i in tqdm(range(len(stocks))):\n",
    "    code = stocks.loc[i, \"代码\"]\n",
    "\n",
    "    ind = ak.stock_a_lg_indicator(code)\n",
    "    ind.to_csv(\"value-{}.csv\".format(code))\n",
    "    pe = pd.Series(list(ind[\"pe_ttm\"]), index=pd.to_datetime(ind[\"trade_date\"]))\n",
    "    pb = pd.Series(list(ind[\"pb\"]), index=pd.to_datetime(ind[\"trade_date\"]))\n",
    "    ps = pd.Series(list(ind[\"ps_ttm\"]), index=pd.to_datetime(ind[\"trade_date\"]))\n",
    "    dv = pd.Series(list(ind[\"dv_ttm\"]), index=pd.to_datetime(ind[\"trade_date\"]))\n",
    "    mv = pd.Series(list(ind[\"total_mv\"]), index=pd.to_datetime(ind[\"trade_date\"]))\n",
    "    pe_df = pd.DataFrame({code: pe}).fillna(0)\n",
    "    pb_df = pd.DataFrame({code: pb}).fillna(0)\n",
    "    ps_df = pd.DataFrame({code: ps}).fillna(0)\n",
    "    dv_df = pd.DataFrame({code: dv}).fillna(0)\n",
    "    mv_df = pd.DataFrame({code: mv}).fillna(0)\n",
    "    all_pe = pd.concat([all_pe, pe_df], axis=1)\n",
    "    all_pb = pd.concat([all_pb, pb_df], axis=1)\n",
    "    all_ps = pd.concat([all_ps, ps_df], axis=1)\n",
    "    all_dv = pd.concat([all_dv, dv_df], axis=1)\n",
    "    all_mv = pd.concat([all_mv, mv_df], axis=1)\n",
    "\n",
    "cols = all_pe.columns.values\n",
    "trace_list = []\n",
    "for i in range(0, len(cols)):\n",
    "    trace_list.append(go.Scatter(x=all_pe.index, y=all_pe[cols[i]], mode=\"lines\", name=cols[i]))\n",
    "\n",
    "fig = go.Figure(trace_list)\n",
    "py.plot(fig)\n",
    "# print(all_pe)\n",
    "# print(all_pe[:])\n",
    "# print(ind_df)\n",
    "# plt.style.use('ggplot')\n",
    "# color_palette = sns.color_palette(\"hls\", 5)\n",
    "# plt.rcParams['font.sans-serif'] = ['Times New Roman']\n",
    "# fig = plt.figure(figsize=(16, 12))\n",
    "# pd.set_option('plotting.backend', 'matplotlib')\n",
    "\n",
    "# fig = make_subplots(rows=5, cols=1)\n",
    "\n",
    "# fig.append_trace(go.Scatter(x=all_pe.index, y=all_pe[:], mode=\"lines\", name=\"pe\"), 1, 1)\n",
    "# fig.update_layout(width=1500, height=(len(cols) * 600))\n",
    "# fig.show()"
   ]
  },
  {
   "cell_type": "code",
   "execution_count": null,
   "metadata": {},
   "outputs": [],
   "source": [
    "print(all_pe)"
   ]
  },
  {
   "cell_type": "code",
   "execution_count": null,
   "metadata": {},
   "outputs": [],
   "source": [
    "cols = all_pe.columns.values\n",
    "trace_list = []\n",
    "for i in range(0, len(cols)):\n",
    "    trace_list.append(go.Scatter(x=all_pe.index, y=all_pe[cols[i]], mode=\"lines\", name=cols[i]))\n",
    "\n",
    "fig = go.Figure(trace_list)\n",
    "py.plot(fig)\n",
    "\n",
    "# print(10 **8)"
   ]
  },
  {
   "cell_type": "code",
   "execution_count": null,
   "metadata": {},
   "outputs": [],
   "source": [
    "import pandas as pd\n",
    "import pandas_bokeh\n",
    "import numpy as np\n",
    "\n",
    "np.random.seed(42)\n",
    "df = pd.DataFrame({\"谷歌\": np.random.randn(1000) + 0.2, \n",
    "                    \"苹果\": np.random.randn(1000) + 0.17}, index=pd.date_range('1/1/2022', periods=1000))\n",
    "\n",
    "df = df.cumsum()\n",
    "df = df + 50\n",
    "pd.set_option('plotting.backend', '')\n",
    "\n",
    "# pandas_bokeh.output_notebook()\n",
    "df.plot_bokeh.line()"
   ]
  },
  {
   "cell_type": "code",
   "execution_count": 1,
   "metadata": {},
   "outputs": [],
   "source": [
    "#价值分析1: PE分析\n",
    "\n",
    "import numpy as np\n",
    "import pandas as pd\n",
    "import akshare as ak\n",
    "from tqdm import tqdm\n",
    "import matplotlib.pyplot as plt\n",
    "import matplotlib as mpl\n",
    "import seaborn as sns\n",
    "import warnings\n",
    "warnings.filterwarnings('ignore')\n",
    "\n",
    "def get_industry_pe(industry: str):\n",
    "    stocks = ak.stock_board_industry_cons_ths(symbol=industry)\n",
    "\n",
    "    all_stock = pd.DataFrame()\n",
    "\n",
    "    stock_len = len(stocks)\n",
    "    # 生成excel表格\n",
    "    # sheet_writer = pd.ExcelWriter(f'{industry}_pe.xlsx')\n",
    "\n",
    "    for i in tqdm(range(stock_len)):\n",
    "        # market = 'sz'\n",
    "        code = stocks.loc[i, \"代码\"]\n",
    "        name = stocks.loc[i, \"名称\"]\n",
    "        if (code.startswith('4') or code.startswith('8')):\n",
    "            continue        \n",
    "        \n",
    "        lg_ind = ak.stock_a_lg_indicator(symbol=code)\n",
    "        lg_ind = lg_ind[lg_ind['pe_ttm'].notnull()]\n",
    "        lg_ind['code'] = code\n",
    "        lg_ind['net_profit'] = lg_ind['total_mv'] / lg_ind['pe_ttm']\n",
    "        all_stock = pd.concat([all_stock, lg_ind], ignore_index=True)\n",
    "\n",
    "    all_stock.to_csv(f\"stock_list_{industry}.csv\", encoding='utf_8_sig')\n",
    "    out = all_stock.groupby('trade_date')[['total_mv', 'net_profit']].sum()\n",
    "    out['stock_size'] = all_stock.groupby('trade_date').size()\n",
    "    out['average_pe'] = out['total_mv'] / out['net_profit']\n",
    "    first_valid_item = out[out.stock_size >= 10].iloc[:1].index.to_numpy()\n",
    "\n",
    "    if (len(first_valid_item) < 1):\n",
    "        return None\n",
    "\n",
    "    # out.to_csv(f\"{industry}_nodrop.csv\", encoding='utf_8_sig')\n",
    "    out = out.loc[out.index >= first_valid_item[0]]\n",
    "    out.index = pd.to_datetime(out.index)\n",
    "    # print(out.index)\n",
    "    # out.to_csv(f\"{industry}.csv\", encoding='utf_8_sig')\n",
    "    \n",
    "    return out\n",
    "\n",
    "def get_all_industry():\n",
    "    all_industry = ak.stock_board_industry_summary_ths()\n",
    "\n",
    "    return all_industry    \n",
    "\n",
    "def get_all_industry_pe(industry_list:list):\n",
    "    all_industry_pe = {}\n",
    "\n",
    "    for industry in industry_list:\n",
    "        print(f\"get {industry}\")\n",
    "        \n",
    "        industry_pe = get_industry_pe(industry)\n",
    "        if (industry_pe is None):\n",
    "            continue\n",
    "        \n",
    "        all_industry_pe[industry] = industry_pe    \n",
    "\n",
    "    return all_industry_pe\n",
    "\n",
    "def drawPe(all_industry_pe:dict):\n",
    "    pd.options.plotting.backend = \"matplotlib\"\n",
    "\n",
    "    # print(mpl.get_cachedir())\n",
    "    plt.style.use('ggplot')\n",
    "    color_palette = sns.color_palette(\"hls\", len(all_industry_pe.keys()))\n",
    "    plt.rcParams[\"font.sans-serif\"] = [\"SimHei\"]\n",
    "    plt.rcParams['axes.unicode_minus'] = False\n",
    "\n",
    "    fig = plt.figure(figsize=(26, 20))\n",
    "\n",
    "    index = 0\n",
    "    for k,v in all_industry_pe.items():\n",
    "        industry = k\n",
    "        plt.subplot(len(all_industry_pe.keys()), 1, index+1)\n",
    "        all_industry_pe[industry]['average_pe'].plot(kind='line', figsize=(26, 20), color=color_palette[index], label=industry)\n",
    "        plt.xlabel('')\n",
    "        plt.ylabel('pe ttm')\n",
    "        plt.legend()\n",
    "        index += 1\n",
    "\n",
    "    plt.tight_layout()    "
   ]
  },
  {
   "cell_type": "code",
   "execution_count": 2,
   "metadata": {},
   "outputs": [
    {
     "name": "stderr",
     "output_type": "stream",
     "text": [
      "                                             \r"
     ]
    },
    {
     "data": {
      "text/plain": [
       "['汽车整车', '半导体及元件', '汽车服务', '生物制品', '其他电子', '厨卫电器', '传媒', '汽车零部件']"
      ]
     },
     "execution_count": 2,
     "metadata": {},
     "output_type": "execute_result"
    }
   ],
   "source": [
    "all_industry = get_all_industry()\n",
    "\n",
    "all_industry[\"板块\"][:8].to_list()"
   ]
  },
  {
   "cell_type": "code",
   "execution_count": 3,
   "metadata": {},
   "outputs": [
    {
     "name": "stdout",
     "output_type": "stream",
     "text": [
      "get 汽车整车\n"
     ]
    },
    {
     "name": "stderr",
     "output_type": "stream",
     "text": [
      "100%|██████████| 24/24 [00:21<00:00,  1.10it/s]\n"
     ]
    },
    {
     "name": "stdout",
     "output_type": "stream",
     "text": [
      "get 半导体及元件\n"
     ]
    },
    {
     "name": "stderr",
     "output_type": "stream",
     "text": [
      "100%|██████████| 178/178 [01:32<00:00,  1.91it/s]\n"
     ]
    },
    {
     "name": "stdout",
     "output_type": "stream",
     "text": [
      "get 汽车服务\n"
     ]
    },
    {
     "name": "stderr",
     "output_type": "stream",
     "text": [
      "100%|██████████| 14/14 [00:11<00:00,  1.25it/s]\n"
     ]
    },
    {
     "name": "stdout",
     "output_type": "stream",
     "text": [
      "get 生物制品\n"
     ]
    },
    {
     "name": "stderr",
     "output_type": "stream",
     "text": [
      "100%|██████████| 51/51 [00:34<00:00,  1.46it/s]\n"
     ]
    },
    {
     "name": "stdout",
     "output_type": "stream",
     "text": [
      "get 其他电子\n"
     ]
    },
    {
     "name": "stderr",
     "output_type": "stream",
     "text": [
      "100%|██████████| 36/36 [00:21<00:00,  1.66it/s]\n"
     ]
    },
    {
     "name": "stdout",
     "output_type": "stream",
     "text": [
      "get 厨卫电器\n"
     ]
    },
    {
     "name": "stderr",
     "output_type": "stream",
     "text": [
      "100%|██████████| 9/9 [00:07<00:00,  1.25it/s]\n"
     ]
    },
    {
     "ename": "IndexError",
     "evalue": "index 0 is out of bounds for axis 0 with size 0",
     "output_type": "error",
     "traceback": [
      "\u001b[1;31m---------------------------------------------------------------------------\u001b[0m",
      "\u001b[1;31mIndexError\u001b[0m                                Traceback (most recent call last)",
      "\u001b[1;32md:\\workspace\\src\\examples\\learn_python\\finance\\value.ipynb Cell 7\u001b[0m in \u001b[0;36m<cell line: 2>\u001b[1;34m()\u001b[0m\n\u001b[0;32m      <a href='vscode-notebook-cell:/d%3A/workspace/src/examples/learn_python/finance/value.ipynb#W6sZmlsZQ%3D%3D?line=0'>1</a>\u001b[0m \u001b[39m# all_industry_pe = get_all_industry_pe(['半导体及元件', '小家电','汽车服务','中药'])\u001b[39;00m\n\u001b[1;32m----> <a href='vscode-notebook-cell:/d%3A/workspace/src/examples/learn_python/finance/value.ipynb#W6sZmlsZQ%3D%3D?line=1'>2</a>\u001b[0m all_industry_pe \u001b[39m=\u001b[39m get_all_industry_pe(all_industry[\u001b[39m\"\u001b[39;49m\u001b[39m板块\u001b[39;49m\u001b[39m\"\u001b[39;49m][:\u001b[39m8\u001b[39;49m]\u001b[39m.\u001b[39;49mto_list())\n",
      "\u001b[1;32md:\\workspace\\src\\examples\\learn_python\\finance\\value.ipynb Cell 7\u001b[0m in \u001b[0;36mget_all_industry_pe\u001b[1;34m(industry_list)\u001b[0m\n\u001b[0;32m     <a href='vscode-notebook-cell:/d%3A/workspace/src/examples/learn_python/finance/value.ipynb#W6sZmlsZQ%3D%3D?line=55'>56</a>\u001b[0m \u001b[39mfor\u001b[39;00m industry \u001b[39min\u001b[39;00m industry_list:\n\u001b[0;32m     <a href='vscode-notebook-cell:/d%3A/workspace/src/examples/learn_python/finance/value.ipynb#W6sZmlsZQ%3D%3D?line=56'>57</a>\u001b[0m     \u001b[39mprint\u001b[39m(\u001b[39mf\u001b[39m\u001b[39m\"\u001b[39m\u001b[39mget \u001b[39m\u001b[39m{\u001b[39;00mindustry\u001b[39m}\u001b[39;00m\u001b[39m\"\u001b[39m)\n\u001b[1;32m---> <a href='vscode-notebook-cell:/d%3A/workspace/src/examples/learn_python/finance/value.ipynb#W6sZmlsZQ%3D%3D?line=58'>59</a>\u001b[0m     industry_pe \u001b[39m=\u001b[39m get_industry_pe(industry)\n\u001b[0;32m     <a href='vscode-notebook-cell:/d%3A/workspace/src/examples/learn_python/finance/value.ipynb#W6sZmlsZQ%3D%3D?line=59'>60</a>\u001b[0m     all_industry_pe[industry] \u001b[39m=\u001b[39m industry_pe    \n\u001b[0;32m     <a href='vscode-notebook-cell:/d%3A/workspace/src/examples/learn_python/finance/value.ipynb#W6sZmlsZQ%3D%3D?line=61'>62</a>\u001b[0m \u001b[39mreturn\u001b[39;00m all_industry_pe\n",
      "\u001b[1;32md:\\workspace\\src\\examples\\learn_python\\finance\\value.ipynb Cell 7\u001b[0m in \u001b[0;36mget_industry_pe\u001b[1;34m(industry)\u001b[0m\n\u001b[0;32m     <a href='vscode-notebook-cell:/d%3A/workspace/src/examples/learn_python/finance/value.ipynb#W6sZmlsZQ%3D%3D?line=38'>39</a>\u001b[0m first_valid_item \u001b[39m=\u001b[39m out[out\u001b[39m.\u001b[39mstock_size \u001b[39m>\u001b[39m\u001b[39m=\u001b[39m \u001b[39m10\u001b[39m]\u001b[39m.\u001b[39miloc[:\u001b[39m1\u001b[39m]\u001b[39m.\u001b[39mindex\u001b[39m.\u001b[39mto_numpy()\n\u001b[0;32m     <a href='vscode-notebook-cell:/d%3A/workspace/src/examples/learn_python/finance/value.ipynb#W6sZmlsZQ%3D%3D?line=39'>40</a>\u001b[0m \u001b[39m# out.to_csv(f\"{industry}_nodrop.csv\", encoding='utf_8_sig')\u001b[39;00m\n\u001b[1;32m---> <a href='vscode-notebook-cell:/d%3A/workspace/src/examples/learn_python/finance/value.ipynb#W6sZmlsZQ%3D%3D?line=40'>41</a>\u001b[0m out \u001b[39m=\u001b[39m out\u001b[39m.\u001b[39mloc[out\u001b[39m.\u001b[39mindex \u001b[39m>\u001b[39m\u001b[39m=\u001b[39m first_valid_item[\u001b[39m0\u001b[39;49m]]\n\u001b[0;32m     <a href='vscode-notebook-cell:/d%3A/workspace/src/examples/learn_python/finance/value.ipynb#W6sZmlsZQ%3D%3D?line=41'>42</a>\u001b[0m out\u001b[39m.\u001b[39mindex \u001b[39m=\u001b[39m pd\u001b[39m.\u001b[39mto_datetime(out\u001b[39m.\u001b[39mindex)\n\u001b[0;32m     <a href='vscode-notebook-cell:/d%3A/workspace/src/examples/learn_python/finance/value.ipynb#W6sZmlsZQ%3D%3D?line=42'>43</a>\u001b[0m \u001b[39m# print(out.index)\u001b[39;00m\n\u001b[0;32m     <a href='vscode-notebook-cell:/d%3A/workspace/src/examples/learn_python/finance/value.ipynb#W6sZmlsZQ%3D%3D?line=43'>44</a>\u001b[0m \u001b[39m# out.to_csv(f\"{industry}.csv\", encoding='utf_8_sig')\u001b[39;00m\n",
      "\u001b[1;31mIndexError\u001b[0m: index 0 is out of bounds for axis 0 with size 0"
     ]
    }
   ],
   "source": [
    "# all_industry_pe = get_all_industry_pe(['半导体及元件', '小家电','汽车服务','中药'])\n",
    "all_industry_pe = get_all_industry_pe(all_industry[\"板块\"][:8].to_list())"
   ]
  },
  {
   "cell_type": "code",
   "execution_count": null,
   "metadata": {},
   "outputs": [],
   "source": [
    "drawPe(all_industry_pe)"
   ]
  },
  {
   "cell_type": "code",
   "execution_count": null,
   "metadata": {},
   "outputs": [],
   "source": [
    "all_industry_pe['半导体及元件']['2022']"
   ]
  },
  {
   "cell_type": "code",
   "execution_count": null,
   "metadata": {},
   "outputs": [],
   "source": [
    "import matplotlib as mpl\n",
    "import matplotlib.pyplot as plt\n",
    "\n",
    "def plot_demo():\n",
    "    #print(mpl.get_cachedir())\n",
    "    # 绘制折线图\n",
    "    plt.rcParams[\"font.sans-serif\"] = [\"SimHei\"]  # 设置字体\n",
    "    plt.rcParams[\"axes.unicode_minus\"] = False  # 正常显示负号\n",
    "    year = [2017, 2018, 2019, 2020]\n",
    "    people = [20, 40, 60, 70]\n",
    "    # 生成图表\n",
    "    plt.plot(year, people)\n",
    "    plt.xlabel('年份')\n",
    "    plt.ylabel('人口')\n",
    "    plt.title('人口增长')\n",
    "    # 设置纵坐标刻度\n",
    "    plt.yticks([0, 20, 40, 60, 80])\n",
    "    # 设置填充选项：参数分别对应横坐标，纵坐标，纵坐标填充起始值，填充颜色\n",
    "    plt.fill_between(year, people, 20, color='green')\n",
    "    # 显示图表\n",
    "    # plt.savefig(\"./plt.png\")\n",
    "    plt.show()\n",
    "\n",
    "plot_demo()"
   ]
  }
 ],
 "metadata": {
  "kernelspec": {
   "display_name": "Python 3",
   "language": "python",
   "name": "python3"
  },
  "language_info": {
   "codemirror_mode": {
    "name": "ipython",
    "version": 3
   },
   "file_extension": ".py",
   "mimetype": "text/x-python",
   "name": "python",
   "nbconvert_exporter": "python",
   "pygments_lexer": "ipython3",
   "version": "3.9.8"
  },
  "orig_nbformat": 4,
  "vscode": {
   "interpreter": {
    "hash": "b4014b60265de7f80a801ece3da4a480cce03f2136c91739134aaed5b8cdff47"
   }
  }
 },
 "nbformat": 4,
 "nbformat_minor": 2
}
