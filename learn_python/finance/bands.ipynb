{
 "cells": [
  {
   "cell_type": "code",
   "execution_count": 134,
   "metadata": {},
   "outputs": [
    {
     "name": "stderr",
     "output_type": "stream",
     "text": [
      "                                               \r"
     ]
    },
    {
     "data": {
      "text/plain": [
       "'temp-plot.html'"
      ]
     },
     "execution_count": 134,
     "metadata": {},
     "output_type": "execute_result"
    }
   ],
   "source": [
    "import datetime\n",
    "import numpy as np\n",
    "import matplotlib.pyplot as plt\n",
    "\n",
    "import akshare as ak\n",
    "import pandas as pd\n",
    "from dateutil.relativedelta import relativedelta\n",
    "from plotly.subplots import make_subplots\n",
    "import plotly.graph_objects as go\n",
    "import plotly.offline as py\n",
    "\n",
    "all_pe = pd.DataFrame()\n",
    "\n",
    "# for i in tqdm(range(len(stocks))):\n",
    "#     code = stocks.loc[i, \"代码\"]\n",
    "code = '600519'\n",
    "ind = ak.stock_a_lg_indicator(code)\n",
    "\n",
    "pe = pd.Series(list(ind[\"pe_ttm\"]), index=pd.to_datetime(ind[\"trade_date\"]))\n",
    "pb = pd.Series(list(ind[\"pb\"]), index=pd.to_datetime(ind[\"trade_date\"]))\n",
    "ps = pd.Series(list(ind[\"ps_ttm\"]), index=pd.to_datetime(ind[\"trade_date\"]))\n",
    "\n",
    "pe_df = pd.DataFrame({code: pe}).fillna(0)\n",
    "pb_df = pd.DataFrame({code: pb}).fillna(0)\n",
    "ps_df = pd.DataFrame({code: ps}).fillna(0)\n",
    "\n",
    "market='sz'\n",
    "if (code.startswith('00') != True):\n",
    "    market ='sh'\n",
    "symbol = \"{}{}\".format(market, code)\n",
    "p = ak.stock_profit_sheet_by_quarterly_em(symbol=symbol)\n",
    "eps = pd.Series(list(p['BASIC_EPS']), index=pd.to_datetime(p['REPORT_DATE']))\n",
    "\n",
    "report_date = eps.sort_index().index[0]\n",
    "start_date = report_date + pd.tseries.offsets.DateOffset(months=1 - report_date.month, days=1-report_date.day)\n",
    "end_date = datetime.datetime.now()\n",
    "stock_hist = ak.stock_zh_a_hist(symbol=code, period=\"daily\", \n",
    "    start_date=start_date.strftime(\"%Y%m%d\"), end_date=end_date.strftime(\"%Y%m%d\"), adjust=\"\")\n",
    "\n",
    "cl = stock_hist[\"收盘\"]\n",
    "\n",
    "ts_close = pd.Series(list(cl), index=pd.to_datetime(stock_hist[\"日期\"]))\n",
    "# df_close = pd.DataFrame(ts_close, columns=[\"close\"])\n",
    "# df_close.index.name = 'Date'\n",
    "\n",
    "# start = '2018-01'\n",
    "# end = '2022-12'\n",
    "# de = pe[start:end].describe()\n",
    "# pe_roll = pe.rolling(min_periods=5, window=5).quantile(0.75)\n",
    "# pd.concat([pe, pe_roll], axis=1).to_csv(\"pe_roll.csv\")\n",
    "# print(pe)\n",
    "# print((datetime.datetime.now() + relativedelta(years=-1)).strftime(\"%Y-%m\"))\n",
    "\n",
    "# print(pe_roll)\n",
    "\n",
    "# mean = de['50%']\n",
    "# max = de['max']\n",
    "# upper = de['75%']\n",
    "# lower = de['25%']\n",
    "# min = de['min']\n",
    "\n",
    "# min_pe = pe.resample('5Y', closed=\"left\").min()\n",
    "# lower_pe = pe.resample('5Y', closed=\"left\").quantile(0.25)\n",
    "# mean_pe = pe.resample('5Y', closed=\"left\").mean()\n",
    "# upper_pe = pe.resample('5Y', closed=\"left\").quantile(0.75)\n",
    "# max_pe = pe.resample('5Y', closed=\"left\").max()\n",
    "\n",
    "pe_roll_days = 252 * 5\n",
    "# min_pe = pe.rolling(min_periods=pe_roll_days, window=pe_roll_days).min()\n",
    "# lower_pe = pe.rolling(min_periods=pe_roll_days, window=pe_roll_days).quantile(0.25)\n",
    "# mean_pe = pe.rolling(min_periods=pe_roll_days, window=pe_roll_days).mean()\n",
    "# upper_pe = pe.rolling(min_periods=pe_roll_days, window=pe_roll_days).quantile(0.75)\n",
    "# max_pe = pe.rolling(min_periods=pe_roll_days, window=pe_roll_days).max()\n",
    "mean_pe = pe.rolling(min_periods=pe_roll_days, window=pe_roll_days).mean()\n",
    "std = pe.rolling(min_periods=pe_roll_days, window=pe_roll_days).std()\n",
    "min_pe = mean_pe - 2 * std\n",
    "lower_pe = mean_pe - std\n",
    "upper_pe = mean_pe + std\n",
    "max_pe = mean_pe + 2 * std\n",
    "\n",
    "eps_sum = pd.DataFrame(eps.sort_index().rolling(min_periods=1, window=4).sum()).resample('D').ffill()\n",
    "df = pd.DataFrame(ts_close, columns=['close'])\n",
    "\n",
    "df['pe'] = pe\n",
    "df['eps'] = eps\n",
    "df['eps_sum'] = eps_sum\n",
    "df['max_pe'] = max_pe\n",
    "df['upper_pe'] = upper_pe\n",
    "df['mean_pe'] = mean_pe\n",
    "df['lower_pe'] = lower_pe\n",
    "df['min_pe'] = min_pe\n",
    "df['max'] = df['max_pe'] * df['eps_sum']\n",
    "df['upper'] = df['upper_pe'] * df['eps_sum']\n",
    "df['mean'] = df['mean_pe'] * df['eps_sum']\n",
    "df['lower'] = df['lower_pe'] * df['eps_sum']\n",
    "df['min'] = df['min_pe'] * df['eps_sum']\n",
    "df.index.name = 'Date'\n",
    "\n",
    "df.fillna(method='ffill', axis=0, inplace=True)\n",
    "df_band = df.copy()\n",
    "df_band.to_csv(f'band_{code}.csv')\n",
    "\n",
    "# draw\n",
    "pd.options.plotting.backend = \"plotly\"\n",
    "# plt.style.use('ggplot')\n",
    "# df_band[['close', 'max', 'upper', 'mean', 'lower', 'min']].plot(kind='line', figsize=(16, 16))\n",
    "\n",
    "trace_list = []\n",
    "items = ['close', 'max', 'upper', 'mean', 'lower', 'min']\n",
    "for i in range(0, len(items)):\n",
    "    trace_list.append(go.Scatter(x=df_band.index, y=df_band[items[i]], mode=\"lines\", name=items[i]))\n",
    "\n",
    "fig = go.Figure(trace_list)\n",
    "py.plot(fig)"
   ]
  },
  {
   "cell_type": "code",
   "execution_count": 133,
   "metadata": {},
   "outputs": [
    {
     "data": {
      "text/plain": [
       "73.2944"
      ]
     },
     "execution_count": 133,
     "metadata": {},
     "output_type": "execute_result"
    }
   ],
   "source": [
    "pe['2020-01-03':'2022-01-04'].max()"
   ]
  },
  {
   "cell_type": "code",
   "execution_count": 93,
   "metadata": {},
   "outputs": [
    {
     "name": "stdout",
     "output_type": "stream",
     "text": [
      "count    1215.000000\n",
      "mean       39.730005\n",
      "std         9.690051\n",
      "min        20.680700\n",
      "25%        32.074300\n",
      "50%        38.619900\n",
      "75%        47.164300\n",
      "max        73.294400\n",
      "dtype: float64\n",
      "32.0743\n",
      "73.2944\n"
     ]
    }
   ],
   "source": [
    "import numpy as np\n",
    "pe = pd.Series(list(ind[\"pe_ttm\"]), index=pd.to_datetime(ind[\"trade_date\"]))\n",
    "pb = pd.Series(list(ind[\"pb\"]), index=pd.to_datetime(ind[\"trade_date\"]))\n",
    "ps = pd.Series(list(ind[\"ps_ttm\"]), index=pd.to_datetime(ind[\"trade_date\"]))\n",
    "\n",
    "pe_df = pd.DataFrame({code: pe}).fillna(0)\n",
    "pb_df = pd.DataFrame({code: pb}).fillna(0)\n",
    "ps_df = pd.DataFrame({code: ps}).fillna(0)\n",
    "\n",
    "start = '2018-01'\n",
    "end = '2022-12'\n",
    "# print(pe[start:end])\n",
    "mean = np.percentile(pe[start:end], 50)\n",
    "std = pe[start:end].std()\n",
    "mean = pe[start:end].mean()\n",
    "# print(pe)\n",
    "# print('mean:{}'.format(mean))\n",
    "# print(pe.iloc[:,0])\n",
    "# print(f'std:{std}')\n",
    "# print(f'1.5 std:{mean + 1 * std}')\n",
    "# print(f'3 std:{mean + 2 * std}')\n",
    "# print(f'-1.5 std:{mean - 1 * std}')\n",
    "# print(f'-3 std:{mean - 2 * std}')\n",
    "de = pe[start:end].describe()\n",
    "print(de)\n",
    "print(de['25%'])\n",
    "print(de['max'])\n",
    "# print(29.5+5.366666*3, 29.5+5.366666*1.5)\n",
    "# print(29.5-5.366666*3, 29.5-5.366666*1.5)\n",
    "\n",
    "# print((29.5-21.4)/1.5)\n",
    "# print(29.5 + (29.5-21.4)/1.5*3)\n",
    "# print('1.5 std:{}', 29.5 + 1.5 * std)"
   ]
  },
  {
   "cell_type": "code",
   "execution_count": null,
   "metadata": {},
   "outputs": [],
   "source": [
    "def get_pe_pb(stocks):\n",
    "    q = query(valuation.day,valuation.code,valuation.pe_ratio,valuation.pb_ratio).filter(valuation.code.in_(stocks))\n",
    "    rets = [get_fundamentals(q, statDate = d)for d in pd.date_range(start,end,freq='M')]\n",
    "    result=pd.concat(rets)\n",
    "    \n",
    "    pe=result.pivot(index='day',columns='code',values='pe_ratio')\n",
    "    pe.index = pd.to_datetime(pe.index, format ='%Y-%m-%d')\n",
    "    pb=result.pivot(index='day',columns='code',values='pb_ratio')\n",
    "    pb.index = pd.to_datetime(pb.index, format ='%Y-%m-%d')\n",
    "    return pe,pb\n",
    "pe,pb=get_pe_pb([stock])"
   ]
  },
  {
   "cell_type": "code",
   "execution_count": null,
   "metadata": {},
   "outputs": [],
   "source": [
    "def draw_band(data,title,start,end):\n",
    "    code=data.columns[0]\n",
    "    mid=percentile(data,50)\n",
    "    data[\"ratio\"]=mid/data.iloc[:,0]\n",
    "    df=get_price([code], start_date=start,end_date=end, frequency='daily', fields= 'close', skip_paused=False, fq='pre',  panel=False)\n",
    "    df=df.pivot(index='time',columns='code',values='close')\n",
    "    df.rename(columns={ code:\"close\"},inplace=True)\n",
    "    \n",
    "    df=df.join(data[\"ratio\"])\n",
    "    df[str(round(mid*1.3,2))+\"x\"]=df[\"close\"]*df[\"ratio\"]*1.3\n",
    "    df[str(round(mid*1.15,2))+\"x\"]=df[\"close\"]*df[\"ratio\"]*1.15\n",
    "    df[str(round(mid,2))+\"x\"]=df[\"close\"]*df[\"ratio\"]\n",
    "    df[str(round(mid*0.85,2))+\"x\"]=df[\"close\"]*df[\"ratio\"]*0.85\n",
    "    df[str(round(mid*0.7,2))+\"x\"]=df[\"close\"]*df[\"ratio\"]*0.7\n",
    "    df=df.drop('ratio', axis=1)\n",
    "    \n",
    "    df=df.interpolate(method='linear', limit_direction='forward', axis=0)\n",
    "    df.plot(figsize=(12,6),title=(ALLSTK['display_name'][code]+title+\" band\"))\n",
    "    \n",
    "    return \n",
    "draw_band(pe.copy(),\"pe\",start,end)\n",
    "draw_band(pb.copy(),\"pb\",start,end)"
   ]
  },
  {
   "cell_type": "code",
   "execution_count": 140,
   "metadata": {},
   "outputs": [
    {
     "data": {
      "text/plain": [
       "73.2944"
      ]
     },
     "execution_count": 140,
     "metadata": {},
     "output_type": "execute_result"
    }
   ],
   "source": [
    "3476.3533920000000 /47.43"
   ]
  }
 ],
 "metadata": {
  "kernelspec": {
   "display_name": "venv",
   "language": "python",
   "name": "python3"
  },
  "language_info": {
   "codemirror_mode": {
    "name": "ipython",
    "version": 3
   },
   "file_extension": ".py",
   "mimetype": "text/x-python",
   "name": "python",
   "nbconvert_exporter": "python",
   "pygments_lexer": "ipython3",
   "version": "3.10.8"
  },
  "orig_nbformat": 4,
  "vscode": {
   "interpreter": {
    "hash": "515b76cff5e7a48da03ec4cc7c961f652c9e003e79789e2018eab9b2107be02c"
   }
  }
 },
 "nbformat": 4,
 "nbformat_minor": 2
}
