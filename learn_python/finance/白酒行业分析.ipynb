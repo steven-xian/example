{
 "cells": [
  {
   "cell_type": "code",
   "execution_count": 3,
   "metadata": {},
   "outputs": [],
   "source": [
    "# 导入库\n",
    "import akshare as ak\n",
    "import matplotlib.pyplot as plt\n",
    "import numpy as np\n",
    "import pandas as pd"
   ]
  },
  {
   "cell_type": "code",
   "execution_count": null,
   "metadata": {},
   "outputs": [],
   "source": [
    "# akshare 版本\n",
    "print(ak.__version__)"
   ]
  },
  {
   "cell_type": "code",
   "execution_count": 5,
   "metadata": {},
   "outputs": [
    {
     "name": "stderr",
     "output_type": "stream",
     "text": [
      "                                             "
     ]
    },
    {
     "name": "stdout",
     "output_type": "stream",
     "text": [
      "    序号      代码     名称       现价   涨跌幅     涨跌    涨速    换手    量比    振幅     成交额  \\\n",
      "0    1  600696   岩石股份    26.54  3.23   0.83  0.00  1.16  4.20  7.27   1.04亿   \n",
      "1    2  600519   贵州茅台  1789.00  1.02  18.13  0.08  0.17  1.72  2.03  37.42亿   \n",
      "2    3  000568   泸州老窖   221.66  0.43   0.96  0.33  0.43  1.41  3.20  13.89亿   \n",
      "3    4  002304   洋河股份   167.45  0.19   0.31  0.54  0.27  1.12  4.70   6.68亿   \n",
      "4    5  000858    五粮液   183.80 -0.15  -0.28  0.30  0.30  1.01  2.73  21.10亿   \n",
      "5    6  600559   老白干酒    28.54 -0.42  -0.12  0.18  2.35  1.35  3.87   6.01亿   \n",
      "6    7  600779    水井坊    77.31 -0.54  -0.42  0.07  1.43  1.39  3.09   5.37亿   \n",
      "7    8  603369    今世缘    49.72 -0.74  -0.37  0.18  0.51  1.11  2.94   3.17亿   \n",
      "8    9  600702   舍得酒业   168.95 -0.84  -1.43  0.28  0.98  0.79  3.40   5.46亿   \n",
      "9   10  000799    酒鬼酒   141.28 -0.84  -1.20  0.18  1.61  1.08  3.25   7.39亿   \n",
      "10  11  000995  *ST皇台    17.36 -0.97  -0.17 -0.06  0.54  0.85  1.48   0.17亿   \n",
      "11  12  002646   天佑德酒    15.78 -1.07  -0.17  0.25  1.33  1.68  2.88   0.99亿   \n",
      "12  13  000596   古井贡酒   273.31 -1.14  -3.15  0.09  0.21  1.08  3.97   2.38亿   \n",
      "13  14  603589    口子窖    62.59 -1.26  -0.80  0.32  1.36  1.09  3.23   5.12亿   \n",
      "14  15  600809   山西汾酒   284.31 -1.60  -4.61  0.06  0.28  1.35  4.12   9.80亿   \n",
      "15  16  603919    金徽酒    26.62 -1.63  -0.44  0.15  2.47  1.88  3.73   3.31亿   \n",
      "16  17  000860   顺鑫农业    31.82 -2.24  -0.73  0.19  0.70  0.92  4.55   1.67亿   \n",
      "17  18  600197    伊力特    25.20 -2.59  -0.67  0.32  1.35  1.52  4.26   1.62亿   \n",
      "18  19  600199   金种子酒    27.45 -2.63  -0.74  0.11  1.60  1.35  4.08   2.91亿   \n",
      "19  20  603198   迎驾贡酒    62.29 -5.26  -3.46 -0.21  1.01  1.60  6.04   5.13亿   \n",
      "\n",
      "       流通股       流通市值     市盈率  \n",
      "0    3.34亿     88.77亿  140.75  \n",
      "1   12.56亿  22473.40亿   37.96  \n",
      "2   14.64亿   3246.22亿   29.78  \n",
      "3   15.03亿   2516.29亿   20.86  \n",
      "4   38.81亿   7134.10亿   26.77  \n",
      "5    8.97亿    256.09亿   36.71  \n",
      "6    4.88亿    377.55亿   26.84  \n",
      "7   12.54亿    623.74亿   22.48  \n",
      "8    3.31亿    558.78亿   35.06  \n",
      "9    3.25亿    459.06亿   35.42  \n",
      "10   1.77亿     30.80亿  628.03  \n",
      "11   4.73亿     74.56亿   56.03  \n",
      "12   4.09亿   1116.74亿   41.31  \n",
      "13   6.00亿    375.54亿   23.44  \n",
      "14  12.18亿   3462.08亿   36.60  \n",
      "15   5.07亿    134.93亿   47.35  \n",
      "16   7.42亿    236.03亿  641.50  \n",
      "17   4.72亿    118.75亿   63.74  \n",
      "18   6.58亿    180.43亿      --  \n",
      "19   8.00亿    498.32亿   31.07  \n"
     ]
    },
    {
     "name": "stderr",
     "output_type": "stream",
     "text": [
      "\r"
     ]
    }
   ],
   "source": [
    "# 获取白酒行业成分股数据\n",
    "\n",
    "stocks = ak.stock_board_industry_cons_ths(symbol=\"白酒\")\n",
    "print(stocks)\n"
   ]
  },
  {
   "cell_type": "code",
   "execution_count": null,
   "metadata": {},
   "outputs": [],
   "source": [
    "# print(stocks[[\"代码\", \"名称\"]])\n",
    "# 获取板块股票历年利润\n",
    "df_stocks = pd.DataFrame()\n",
    "for i in range(len(stocks)):\n",
    "# for i in range(3):\n",
    "    # print(stocks.loc[i, \"代码\"], stocks.loc[i, \"名称\"])\n",
    "    market = 'sz'\n",
    "    code = stocks.loc[i, \"代码\"]\n",
    "    if (code.startswith('00') != True):\n",
    "        market ='sh'\n",
    "    symbol = \"{}{}\".format(market, code)\n",
    "    profit_y = ak.stock_profit_sheet_by_yearly_em(symbol=symbol)\n",
    "    print(profit_y[\"PARENT_NETPROFIT\"][0:5])\n",
    "    s1 = pd.Series(list(profit_y[\"PARENT_NETPROFIT\"][0:5]), index=[\"2021-12-31\", \"2020-12-31\", \"2019-12-31\", \"2018-12-31\", \"2017-12-31\"])\n",
    "    print(s1)\n",
    "    df_stocks[code] = s1\n",
    "    # df.append(code, s1)\n",
    "    # df.index = pd.to_datetime(profit_y[\"REPORT_DATE\"]) \n",
    "    # df[code] = profit_y[\"PARENT_NETPROFIT\"]\n",
    "\n",
    "print(df_stocks)\n",
    "\n",
    "    # print(profit_y[[\"REPORT_DATE\", \"SECURITY_CODE\", \"SECURITY_NAME_ABBR\", \"PARENT_NETPROFIT\"]])"
   ]
  },
  {
   "cell_type": "code",
   "execution_count": 47,
   "metadata": {},
   "outputs": [
    {
     "data": {
      "text/html": [
       "<div>\n",
       "<style scoped>\n",
       "    .dataframe tbody tr th:only-of-type {\n",
       "        vertical-align: middle;\n",
       "    }\n",
       "\n",
       "    .dataframe tbody tr th {\n",
       "        vertical-align: top;\n",
       "    }\n",
       "\n",
       "    .dataframe thead th {\n",
       "        text-align: right;\n",
       "    }\n",
       "</style>\n",
       "<table border=\"1\" class=\"dataframe\">\n",
       "  <thead>\n",
       "    <tr style=\"text-align: right;\">\n",
       "      <th></th>\n",
       "      <th>603589</th>\n",
       "      <th>002304</th>\n",
       "      <th>600559</th>\n",
       "      <th>000858</th>\n",
       "      <th>603369</th>\n",
       "      <th>600779</th>\n",
       "      <th>000568</th>\n",
       "      <th>000860</th>\n",
       "      <th>603919</th>\n",
       "      <th>000596</th>\n",
       "      <th>000799</th>\n",
       "      <th>603198</th>\n",
       "      <th>600519</th>\n",
       "      <th>600809</th>\n",
       "      <th>600197</th>\n",
       "      <th>002646</th>\n",
       "      <th>600199</th>\n",
       "      <th>600696</th>\n",
       "      <th>000995</th>\n",
       "      <th>600702</th>\n",
       "    </tr>\n",
       "  </thead>\n",
       "  <tbody>\n",
       "    <tr>\n",
       "      <th>2017-12-31</th>\n",
       "      <td>1.113663e+09</td>\n",
       "      <td>6.627170e+09</td>\n",
       "      <td>1.635233e+08</td>\n",
       "      <td>9.673721e+09</td>\n",
       "      <td>8.958769e+08</td>\n",
       "      <td>3.354880e+08</td>\n",
       "      <td>2.557945e+09</td>\n",
       "      <td>4.383695e+08</td>\n",
       "      <td>2.529614e+08</td>\n",
       "      <td>1.148741e+09</td>\n",
       "      <td>1.760987e+08</td>\n",
       "      <td>6.666357e+08</td>\n",
       "      <td>2.707936e+10</td>\n",
       "      <td>9.523883e+08</td>\n",
       "      <td>3.533420e+08</td>\n",
       "      <td>-9.416427e+07</td>\n",
       "      <td>8.189819e+06</td>\n",
       "      <td>18034671.97</td>\n",
       "      <td>-1.184416e+08</td>\n",
       "      <td>1.435721e+08</td>\n",
       "    </tr>\n",
       "    <tr>\n",
       "      <th>2018-12-31</th>\n",
       "      <td>1.532664e+09</td>\n",
       "      <td>8.115190e+09</td>\n",
       "      <td>3.504180e+08</td>\n",
       "      <td>1.338425e+10</td>\n",
       "      <td>1.150711e+09</td>\n",
       "      <td>5.794499e+08</td>\n",
       "      <td>3.485643e+09</td>\n",
       "      <td>7.442559e+08</td>\n",
       "      <td>2.586163e+08</td>\n",
       "      <td>1.695232e+09</td>\n",
       "      <td>2.226788e+08</td>\n",
       "      <td>7.786927e+08</td>\n",
       "      <td>3.520363e+10</td>\n",
       "      <td>1.507044e+09</td>\n",
       "      <td>4.278862e+08</td>\n",
       "      <td>1.075746e+08</td>\n",
       "      <td>1.018888e+08</td>\n",
       "      <td>19220276.30</td>\n",
       "      <td>-9.548149e+07</td>\n",
       "      <td>3.417776e+08</td>\n",
       "    </tr>\n",
       "    <tr>\n",
       "      <th>2019-12-31</th>\n",
       "      <td>1.720205e+09</td>\n",
       "      <td>7.382823e+09</td>\n",
       "      <td>4.043029e+08</td>\n",
       "      <td>1.740216e+10</td>\n",
       "      <td>1.458098e+09</td>\n",
       "      <td>8.262813e+08</td>\n",
       "      <td>4.641989e+09</td>\n",
       "      <td>8.092294e+08</td>\n",
       "      <td>2.706052e+08</td>\n",
       "      <td>2.097528e+09</td>\n",
       "      <td>2.994957e+08</td>\n",
       "      <td>9.304456e+08</td>\n",
       "      <td>4.120647e+10</td>\n",
       "      <td>1.968933e+09</td>\n",
       "      <td>4.468211e+08</td>\n",
       "      <td>3.611826e+07</td>\n",
       "      <td>-2.044978e+08</td>\n",
       "      <td>12385608.65</td>\n",
       "      <td>6.821366e+07</td>\n",
       "      <td>5.079103e+08</td>\n",
       "    </tr>\n",
       "    <tr>\n",
       "      <th>2020-12-31</th>\n",
       "      <td>1.275742e+09</td>\n",
       "      <td>7.482229e+09</td>\n",
       "      <td>3.126039e+08</td>\n",
       "      <td>1.995481e+10</td>\n",
       "      <td>1.566908e+09</td>\n",
       "      <td>7.313258e+08</td>\n",
       "      <td>6.005723e+09</td>\n",
       "      <td>4.200088e+08</td>\n",
       "      <td>3.313173e+08</td>\n",
       "      <td>1.854576e+09</td>\n",
       "      <td>4.916083e+08</td>\n",
       "      <td>9.533871e+08</td>\n",
       "      <td>4.669729e+10</td>\n",
       "      <td>3.079234e+09</td>\n",
       "      <td>3.419111e+08</td>\n",
       "      <td>-1.150937e+08</td>\n",
       "      <td>6.940611e+07</td>\n",
       "      <td>8021898.87</td>\n",
       "      <td>3.348376e+07</td>\n",
       "      <td>5.811352e+08</td>\n",
       "    </tr>\n",
       "    <tr>\n",
       "      <th>2021-12-31</th>\n",
       "      <td>1.727088e+09</td>\n",
       "      <td>7.507683e+09</td>\n",
       "      <td>3.892063e+08</td>\n",
       "      <td>2.337707e+10</td>\n",
       "      <td>2.029128e+09</td>\n",
       "      <td>1.199076e+09</td>\n",
       "      <td>7.955554e+09</td>\n",
       "      <td>1.023021e+08</td>\n",
       "      <td>3.248430e+08</td>\n",
       "      <td>2.297894e+09</td>\n",
       "      <td>8.934892e+08</td>\n",
       "      <td>1.382021e+09</td>\n",
       "      <td>5.246014e+10</td>\n",
       "      <td>5.313612e+09</td>\n",
       "      <td>3.127557e+08</td>\n",
       "      <td>6.322478e+07</td>\n",
       "      <td>-1.664079e+08</td>\n",
       "      <td>61928159.20</td>\n",
       "      <td>-1.355476e+07</td>\n",
       "      <td>1.245655e+09</td>\n",
       "    </tr>\n",
       "  </tbody>\n",
       "</table>\n",
       "</div>"
      ],
      "text/plain": [
       "                  603589        002304        600559        000858  \\\n",
       "2017-12-31  1.113663e+09  6.627170e+09  1.635233e+08  9.673721e+09   \n",
       "2018-12-31  1.532664e+09  8.115190e+09  3.504180e+08  1.338425e+10   \n",
       "2019-12-31  1.720205e+09  7.382823e+09  4.043029e+08  1.740216e+10   \n",
       "2020-12-31  1.275742e+09  7.482229e+09  3.126039e+08  1.995481e+10   \n",
       "2021-12-31  1.727088e+09  7.507683e+09  3.892063e+08  2.337707e+10   \n",
       "\n",
       "                  603369        600779        000568        000860  \\\n",
       "2017-12-31  8.958769e+08  3.354880e+08  2.557945e+09  4.383695e+08   \n",
       "2018-12-31  1.150711e+09  5.794499e+08  3.485643e+09  7.442559e+08   \n",
       "2019-12-31  1.458098e+09  8.262813e+08  4.641989e+09  8.092294e+08   \n",
       "2020-12-31  1.566908e+09  7.313258e+08  6.005723e+09  4.200088e+08   \n",
       "2021-12-31  2.029128e+09  1.199076e+09  7.955554e+09  1.023021e+08   \n",
       "\n",
       "                  603919        000596        000799        603198  \\\n",
       "2017-12-31  2.529614e+08  1.148741e+09  1.760987e+08  6.666357e+08   \n",
       "2018-12-31  2.586163e+08  1.695232e+09  2.226788e+08  7.786927e+08   \n",
       "2019-12-31  2.706052e+08  2.097528e+09  2.994957e+08  9.304456e+08   \n",
       "2020-12-31  3.313173e+08  1.854576e+09  4.916083e+08  9.533871e+08   \n",
       "2021-12-31  3.248430e+08  2.297894e+09  8.934892e+08  1.382021e+09   \n",
       "\n",
       "                  600519        600809        600197        002646  \\\n",
       "2017-12-31  2.707936e+10  9.523883e+08  3.533420e+08 -9.416427e+07   \n",
       "2018-12-31  3.520363e+10  1.507044e+09  4.278862e+08  1.075746e+08   \n",
       "2019-12-31  4.120647e+10  1.968933e+09  4.468211e+08  3.611826e+07   \n",
       "2020-12-31  4.669729e+10  3.079234e+09  3.419111e+08 -1.150937e+08   \n",
       "2021-12-31  5.246014e+10  5.313612e+09  3.127557e+08  6.322478e+07   \n",
       "\n",
       "                  600199       600696        000995        600702  \n",
       "2017-12-31  8.189819e+06  18034671.97 -1.184416e+08  1.435721e+08  \n",
       "2018-12-31  1.018888e+08  19220276.30 -9.548149e+07  3.417776e+08  \n",
       "2019-12-31 -2.044978e+08  12385608.65  6.821366e+07  5.079103e+08  \n",
       "2020-12-31  6.940611e+07   8021898.87  3.348376e+07  5.811352e+08  \n",
       "2021-12-31 -1.664079e+08  61928159.20 -1.355476e+07  1.245655e+09  "
      ]
     },
     "execution_count": 47,
     "metadata": {},
     "output_type": "execute_result"
    }
   ],
   "source": [
    "# 近5年利润柱状图\n",
    "\n",
    "df_stocks.sort_index(ascending=True).plot(kind=\"bar\")"
   ]
  },
  {
   "cell_type": "code",
   "execution_count": 56,
   "metadata": {},
   "outputs": [
    {
     "name": "stderr",
     "output_type": "stream",
     "text": [
      "                                             \r"
     ]
    }
   ],
   "source": [
    "profit_y = ak.stock_profit_sheet_by_yearly_em(symbol=\"sh603589\")\n",
    "profit_y.to_csv(\"profit_603589.csv\")"
   ]
  },
  {
   "attachments": {},
   "cell_type": "markdown",
   "metadata": {},
   "source": []
  },
  {
   "cell_type": "code",
   "execution_count": 100,
   "metadata": {},
   "outputs": [
    {
     "name": "stdout",
     "output_type": "stream",
     "text": [
      "获取(sh600696)利润表...\n"
     ]
    },
    {
     "name": "stderr",
     "output_type": "stream",
     "text": [
      "                                             \r"
     ]
    },
    {
     "name": "stdout",
     "output_type": "stream",
     "text": [
      "获取(sh600519)利润表...\n"
     ]
    },
    {
     "name": "stderr",
     "output_type": "stream",
     "text": [
      "                                             \r"
     ]
    },
    {
     "name": "stdout",
     "output_type": "stream",
     "text": [
      "获取(sz000568)利润表...\n"
     ]
    },
    {
     "name": "stderr",
     "output_type": "stream",
     "text": [
      "                                             \r"
     ]
    },
    {
     "name": "stdout",
     "output_type": "stream",
     "text": [
      "获取(sz002304)利润表...\n"
     ]
    },
    {
     "name": "stderr",
     "output_type": "stream",
     "text": [
      "                                             \r"
     ]
    },
    {
     "name": "stdout",
     "output_type": "stream",
     "text": [
      "获取(sz000858)利润表...\n"
     ]
    },
    {
     "name": "stderr",
     "output_type": "stream",
     "text": [
      "                                             \r"
     ]
    },
    {
     "name": "stdout",
     "output_type": "stream",
     "text": [
      "获取(sh600559)利润表...\n"
     ]
    },
    {
     "name": "stderr",
     "output_type": "stream",
     "text": [
      "                                             \r"
     ]
    },
    {
     "name": "stdout",
     "output_type": "stream",
     "text": [
      "获取(sh600779)利润表...\n"
     ]
    },
    {
     "name": "stderr",
     "output_type": "stream",
     "text": [
      "                                             \r"
     ]
    },
    {
     "name": "stdout",
     "output_type": "stream",
     "text": [
      "获取(sh603369)利润表...\n"
     ]
    },
    {
     "name": "stderr",
     "output_type": "stream",
     "text": [
      "                                             \r"
     ]
    },
    {
     "name": "stdout",
     "output_type": "stream",
     "text": [
      "获取(sh600702)利润表...\n"
     ]
    },
    {
     "name": "stderr",
     "output_type": "stream",
     "text": [
      "                                             \r"
     ]
    },
    {
     "name": "stdout",
     "output_type": "stream",
     "text": [
      "获取(sz000799)利润表...\n"
     ]
    },
    {
     "name": "stderr",
     "output_type": "stream",
     "text": [
      "                                             \r"
     ]
    },
    {
     "name": "stdout",
     "output_type": "stream",
     "text": [
      "获取(sz000995)利润表...\n"
     ]
    },
    {
     "name": "stderr",
     "output_type": "stream",
     "text": [
      "                                             \r"
     ]
    },
    {
     "name": "stdout",
     "output_type": "stream",
     "text": [
      "获取(sz002646)利润表...\n"
     ]
    },
    {
     "name": "stderr",
     "output_type": "stream",
     "text": [
      "                                             \r"
     ]
    },
    {
     "name": "stdout",
     "output_type": "stream",
     "text": [
      "获取(sz000596)利润表...\n"
     ]
    },
    {
     "name": "stderr",
     "output_type": "stream",
     "text": [
      "                                             \r"
     ]
    },
    {
     "name": "stdout",
     "output_type": "stream",
     "text": [
      "获取(sh603589)利润表...\n"
     ]
    },
    {
     "name": "stderr",
     "output_type": "stream",
     "text": [
      "                                             \r"
     ]
    },
    {
     "name": "stdout",
     "output_type": "stream",
     "text": [
      "获取(sh600809)利润表...\n"
     ]
    },
    {
     "name": "stderr",
     "output_type": "stream",
     "text": [
      "                                             \r"
     ]
    },
    {
     "name": "stdout",
     "output_type": "stream",
     "text": [
      "获取(sh603919)利润表...\n"
     ]
    },
    {
     "name": "stderr",
     "output_type": "stream",
     "text": [
      "                                             \r"
     ]
    },
    {
     "name": "stdout",
     "output_type": "stream",
     "text": [
      "获取(sz000860)利润表...\n"
     ]
    },
    {
     "name": "stderr",
     "output_type": "stream",
     "text": [
      "                                             \r"
     ]
    },
    {
     "name": "stdout",
     "output_type": "stream",
     "text": [
      "获取(sh600197)利润表...\n"
     ]
    },
    {
     "name": "stderr",
     "output_type": "stream",
     "text": [
      "                                             \r"
     ]
    },
    {
     "name": "stdout",
     "output_type": "stream",
     "text": [
      "获取(sh600199)利润表...\n"
     ]
    },
    {
     "name": "stderr",
     "output_type": "stream",
     "text": [
      "                                             \r"
     ]
    },
    {
     "name": "stdout",
     "output_type": "stream",
     "text": [
      "获取(sh603198)利润表...\n"
     ]
    },
    {
     "name": "stderr",
     "output_type": "stream",
     "text": [
      "                                             \r"
     ]
    }
   ],
   "source": [
    "### 获取每股收益\n",
    "\n",
    "df_eps = pd.DataFrame()\n",
    "eps_dict = {}\n",
    "for i in range(len(stocks)):\n",
    "# for i in range(3):\n",
    "    # print(stocks.loc[i, \"代码\"], stocks.loc[i, \"名称\"])\n",
    "    market = 'sz'\n",
    "    code = stocks.loc[i, \"代码\"]\n",
    "    if (code.startswith('00') != True):\n",
    "        market ='sh'\n",
    "    symbol = \"{}{}\".format(market, code)\n",
    "    print(\"获取({})利润表...\".format(symbol))\n",
    "\n",
    "    profit_y = ak.stock_profit_sheet_by_yearly_em(symbol=symbol)\n",
    "    # print(profit_y[\"BASIC_EPS\"])\n",
    "    # print(profit_y)\n",
    "    # s1 = pd.Series(list(profit_y[\"BASIC_EPS\"][0:5]), index=[\"2021-12-31\", \"2020-12-31\", \"2019-12-31\", \"2018-12-31\", \"2017-12-31\"])\n",
    "    s1 = pd.Series(list(profit_y[\"BASIC_EPS\"]), index=pd.to_datetime(profit_y[\"REPORT_DATE\"]))\n",
    "    eps_dict[code] = s1\n",
    "    # print(s1)\n",
    "    # df_eps[code] = s1\n",
    "    # s1.to_csv(\"eps_{}.csv\".format(code))\n",
    "    # df.append(code, s1)\n",
    "    # df.index = pd.to_datetime(profit_y[\"REPORT_DATE\"]) \n",
    "    # df[code] = profit_y[\"PARENT_NETPROFIT\"]\n",
    "\n",
    "df_eps = pd.DataFrame(eps_dict)\n",
    "# print(df_eps)"
   ]
  },
  {
   "cell_type": "code",
   "execution_count": 90,
   "metadata": {},
   "outputs": [],
   "source": [
    "df_eps.to_csv(\"eps.csv\")"
   ]
  },
  {
   "cell_type": "code",
   "execution_count": 101,
   "metadata": {},
   "outputs": [],
   "source": [
    "df_eps.fillna(0, inplace=True)\n"
   ]
  },
  {
   "cell_type": "code",
   "execution_count": 102,
   "metadata": {},
   "outputs": [
    {
     "name": "stdout",
     "output_type": "stream",
     "text": [
      "<class 'pandas.core.indexes.datetimes.DatetimeIndex'>\n"
     ]
    }
   ],
   "source": [
    "print(type(df_eps.index))"
   ]
  },
  {
   "cell_type": "code",
   "execution_count": 107,
   "metadata": {},
   "outputs": [
    {
     "data": {
      "text/html": [
       "<div>\n",
       "<style scoped>\n",
       "    .dataframe tbody tr th:only-of-type {\n",
       "        vertical-align: middle;\n",
       "    }\n",
       "\n",
       "    .dataframe tbody tr th {\n",
       "        vertical-align: top;\n",
       "    }\n",
       "\n",
       "    .dataframe thead th {\n",
       "        text-align: right;\n",
       "    }\n",
       "</style>\n",
       "<table border=\"1\" class=\"dataframe\">\n",
       "  <thead>\n",
       "    <tr style=\"text-align: right;\">\n",
       "      <th></th>\n",
       "      <th>600696</th>\n",
       "      <th>600519</th>\n",
       "      <th>000568</th>\n",
       "      <th>002304</th>\n",
       "      <th>000858</th>\n",
       "      <th>600559</th>\n",
       "      <th>600779</th>\n",
       "      <th>603369</th>\n",
       "      <th>600702</th>\n",
       "      <th>000799</th>\n",
       "      <th>000995</th>\n",
       "      <th>002646</th>\n",
       "      <th>000596</th>\n",
       "      <th>603589</th>\n",
       "      <th>600809</th>\n",
       "      <th>603919</th>\n",
       "      <th>000860</th>\n",
       "      <th>600197</th>\n",
       "      <th>600199</th>\n",
       "      <th>603198</th>\n",
       "    </tr>\n",
       "    <tr>\n",
       "      <th>REPORT_DATE</th>\n",
       "      <th></th>\n",
       "      <th></th>\n",
       "      <th></th>\n",
       "      <th></th>\n",
       "      <th></th>\n",
       "      <th></th>\n",
       "      <th></th>\n",
       "      <th></th>\n",
       "      <th></th>\n",
       "      <th></th>\n",
       "      <th></th>\n",
       "      <th></th>\n",
       "      <th></th>\n",
       "      <th></th>\n",
       "      <th></th>\n",
       "      <th></th>\n",
       "      <th></th>\n",
       "      <th></th>\n",
       "      <th></th>\n",
       "      <th></th>\n",
       "    </tr>\n",
       "  </thead>\n",
       "  <tbody>\n",
       "    <tr>\n",
       "      <th>2010-12-31</th>\n",
       "      <td>0.017</td>\n",
       "      <td>4.87</td>\n",
       "      <td>1.580</td>\n",
       "      <td>2.4500</td>\n",
       "      <td>1.158</td>\n",
       "      <td>0.30</td>\n",
       "      <td>0.4800</td>\n",
       "      <td>0.0000</td>\n",
       "      <td>0.2267</td>\n",
       "      <td>0.2621</td>\n",
       "      <td>-0.33</td>\n",
       "      <td>0.3791</td>\n",
       "      <td>1.34</td>\n",
       "      <td>0.00</td>\n",
       "      <td>1.1420</td>\n",
       "      <td>0.00</td>\n",
       "      <td>0.6051</td>\n",
       "      <td>0.3000</td>\n",
       "      <td>0.32</td>\n",
       "      <td>0.00</td>\n",
       "    </tr>\n",
       "    <tr>\n",
       "      <th>2011-12-31</th>\n",
       "      <td>0.060</td>\n",
       "      <td>8.44</td>\n",
       "      <td>2.080</td>\n",
       "      <td>3.7200</td>\n",
       "      <td>1.622</td>\n",
       "      <td>0.66</td>\n",
       "      <td>0.6560</td>\n",
       "      <td>1.1848</td>\n",
       "      <td>0.5787</td>\n",
       "      <td>0.6280</td>\n",
       "      <td>0.03</td>\n",
       "      <td>0.5426</td>\n",
       "      <td>1.17</td>\n",
       "      <td>0.73</td>\n",
       "      <td>0.9015</td>\n",
       "      <td>0.00</td>\n",
       "      <td>0.6997</td>\n",
       "      <td>0.4700</td>\n",
       "      <td>0.66</td>\n",
       "      <td>0.62</td>\n",
       "    </tr>\n",
       "    <tr>\n",
       "      <th>2012-12-31</th>\n",
       "      <td>0.071</td>\n",
       "      <td>12.82</td>\n",
       "      <td>3.140</td>\n",
       "      <td>5.7000</td>\n",
       "      <td>2.617</td>\n",
       "      <td>0.80</td>\n",
       "      <td>0.6913</td>\n",
       "      <td>1.5037</td>\n",
       "      <td>1.0965</td>\n",
       "      <td>1.5248</td>\n",
       "      <td>0.06</td>\n",
       "      <td>0.6699</td>\n",
       "      <td>1.44</td>\n",
       "      <td>0.84</td>\n",
       "      <td>1.5330</td>\n",
       "      <td>0.58</td>\n",
       "      <td>0.2869</td>\n",
       "      <td>0.5379</td>\n",
       "      <td>1.01</td>\n",
       "      <td>0.65</td>\n",
       "    </tr>\n",
       "    <tr>\n",
       "      <th>2013-12-31</th>\n",
       "      <td>0.026</td>\n",
       "      <td>13.25</td>\n",
       "      <td>2.460</td>\n",
       "      <td>4.6300</td>\n",
       "      <td>2.100</td>\n",
       "      <td>0.47</td>\n",
       "      <td>-0.3100</td>\n",
       "      <td>1.5140</td>\n",
       "      <td>0.0349</td>\n",
       "      <td>-0.1100</td>\n",
       "      <td>-0.17</td>\n",
       "      <td>0.8297</td>\n",
       "      <td>1.24</td>\n",
       "      <td>0.74</td>\n",
       "      <td>1.1092</td>\n",
       "      <td>0.52</td>\n",
       "      <td>0.4507</td>\n",
       "      <td>0.6185</td>\n",
       "      <td>0.24</td>\n",
       "      <td>0.59</td>\n",
       "    </tr>\n",
       "    <tr>\n",
       "      <th>2014-12-31</th>\n",
       "      <td>0.210</td>\n",
       "      <td>12.22</td>\n",
       "      <td>0.630</td>\n",
       "      <td>2.9900</td>\n",
       "      <td>1.537</td>\n",
       "      <td>0.42</td>\n",
       "      <td>-0.8245</td>\n",
       "      <td>1.3566</td>\n",
       "      <td>0.0397</td>\n",
       "      <td>-0.3000</td>\n",
       "      <td>-0.22</td>\n",
       "      <td>0.7050</td>\n",
       "      <td>1.19</td>\n",
       "      <td>0.78</td>\n",
       "      <td>0.4109</td>\n",
       "      <td>0.59</td>\n",
       "      <td>0.7124</td>\n",
       "      <td>0.6079</td>\n",
       "      <td>0.16</td>\n",
       "      <td>0.68</td>\n",
       "    </tr>\n",
       "    <tr>\n",
       "      <th>2015-12-31</th>\n",
       "      <td>-0.300</td>\n",
       "      <td>12.34</td>\n",
       "      <td>1.050</td>\n",
       "      <td>3.5600</td>\n",
       "      <td>1.627</td>\n",
       "      <td>0.21</td>\n",
       "      <td>0.1801</td>\n",
       "      <td>0.5462</td>\n",
       "      <td>0.0211</td>\n",
       "      <td>0.2726</td>\n",
       "      <td>0.01</td>\n",
       "      <td>0.5134</td>\n",
       "      <td>1.42</td>\n",
       "      <td>1.06</td>\n",
       "      <td>0.6013</td>\n",
       "      <td>0.79</td>\n",
       "      <td>0.6594</td>\n",
       "      <td>0.6393</td>\n",
       "      <td>0.09</td>\n",
       "      <td>0.69</td>\n",
       "    </tr>\n",
       "    <tr>\n",
       "      <th>2016-12-31</th>\n",
       "      <td>-0.720</td>\n",
       "      <td>13.31</td>\n",
       "      <td>1.396</td>\n",
       "      <td>3.8700</td>\n",
       "      <td>1.787</td>\n",
       "      <td>0.25</td>\n",
       "      <td>0.4601</td>\n",
       "      <td>0.6041</td>\n",
       "      <td>0.2378</td>\n",
       "      <td>0.3342</td>\n",
       "      <td>-0.93</td>\n",
       "      <td>0.4803</td>\n",
       "      <td>1.65</td>\n",
       "      <td>1.31</td>\n",
       "      <td>0.6989</td>\n",
       "      <td>0.65</td>\n",
       "      <td>0.7231</td>\n",
       "      <td>0.6277</td>\n",
       "      <td>0.03</td>\n",
       "      <td>0.85</td>\n",
       "    </tr>\n",
       "    <tr>\n",
       "      <th>2017-12-31</th>\n",
       "      <td>0.050</td>\n",
       "      <td>21.56</td>\n",
       "      <td>1.798</td>\n",
       "      <td>4.3976</td>\n",
       "      <td>2.548</td>\n",
       "      <td>0.27</td>\n",
       "      <td>0.6867</td>\n",
       "      <td>0.7141</td>\n",
       "      <td>0.4257</td>\n",
       "      <td>0.5420</td>\n",
       "      <td>-0.67</td>\n",
       "      <td>-0.2093</td>\n",
       "      <td>2.28</td>\n",
       "      <td>1.86</td>\n",
       "      <td>1.0999</td>\n",
       "      <td>0.69</td>\n",
       "      <td>0.7683</td>\n",
       "      <td>0.8012</td>\n",
       "      <td>0.01</td>\n",
       "      <td>0.83</td>\n",
       "    </tr>\n",
       "    <tr>\n",
       "      <th>2018-12-31</th>\n",
       "      <td>0.060</td>\n",
       "      <td>28.02</td>\n",
       "      <td>2.380</td>\n",
       "      <td>5.3850</td>\n",
       "      <td>3.474</td>\n",
       "      <td>0.41</td>\n",
       "      <td>1.1861</td>\n",
       "      <td>0.9173</td>\n",
       "      <td>1.0219</td>\n",
       "      <td>0.6853</td>\n",
       "      <td>-0.54</td>\n",
       "      <td>0.2391</td>\n",
       "      <td>3.37</td>\n",
       "      <td>2.55</td>\n",
       "      <td>1.7405</td>\n",
       "      <td>0.71</td>\n",
       "      <td>1.0034</td>\n",
       "      <td>0.9703</td>\n",
       "      <td>0.18</td>\n",
       "      <td>0.97</td>\n",
       "    </tr>\n",
       "    <tr>\n",
       "      <th>2019-12-31</th>\n",
       "      <td>0.040</td>\n",
       "      <td>32.80</td>\n",
       "      <td>3.170</td>\n",
       "      <td>4.8991</td>\n",
       "      <td>4.483</td>\n",
       "      <td>0.45</td>\n",
       "      <td>1.6917</td>\n",
       "      <td>1.1623</td>\n",
       "      <td>1.5218</td>\n",
       "      <td>0.9217</td>\n",
       "      <td>0.38</td>\n",
       "      <td>0.0803</td>\n",
       "      <td>4.17</td>\n",
       "      <td>2.87</td>\n",
       "      <td>2.2691</td>\n",
       "      <td>0.55</td>\n",
       "      <td>1.0909</td>\n",
       "      <td>1.0207</td>\n",
       "      <td>-0.33</td>\n",
       "      <td>1.16</td>\n",
       "    </tr>\n",
       "    <tr>\n",
       "      <th>2020-12-31</th>\n",
       "      <td>0.020</td>\n",
       "      <td>37.17</td>\n",
       "      <td>4.100</td>\n",
       "      <td>4.9843</td>\n",
       "      <td>5.141</td>\n",
       "      <td>0.35</td>\n",
       "      <td>1.4972</td>\n",
       "      <td>1.2490</td>\n",
       "      <td>1.7452</td>\n",
       "      <td>1.5130</td>\n",
       "      <td>0.19</td>\n",
       "      <td>-0.2558</td>\n",
       "      <td>3.68</td>\n",
       "      <td>2.13</td>\n",
       "      <td>2.5360</td>\n",
       "      <td>0.65</td>\n",
       "      <td>0.5662</td>\n",
       "      <td>0.7862</td>\n",
       "      <td>0.11</td>\n",
       "      <td>1.19</td>\n",
       "    </tr>\n",
       "    <tr>\n",
       "      <th>2021-12-31</th>\n",
       "      <td>0.190</td>\n",
       "      <td>41.76</td>\n",
       "      <td>5.430</td>\n",
       "      <td>5.0141</td>\n",
       "      <td>6.023</td>\n",
       "      <td>0.43</td>\n",
       "      <td>2.4540</td>\n",
       "      <td>1.6183</td>\n",
       "      <td>3.7825</td>\n",
       "      <td>2.7498</td>\n",
       "      <td>-0.08</td>\n",
       "      <td>0.1376</td>\n",
       "      <td>4.45</td>\n",
       "      <td>2.88</td>\n",
       "      <td>4.3749</td>\n",
       "      <td>0.64</td>\n",
       "      <td>0.1379</td>\n",
       "      <td>0.6651</td>\n",
       "      <td>-0.25</td>\n",
       "      <td>1.73</td>\n",
       "    </tr>\n",
       "  </tbody>\n",
       "</table>\n",
       "</div>"
      ],
      "text/plain": [
       "             600696  600519  000568  002304  000858  600559  600779  603369  \\\n",
       "REPORT_DATE                                                                   \n",
       "2010-12-31    0.017    4.87   1.580  2.4500   1.158    0.30  0.4800  0.0000   \n",
       "2011-12-31    0.060    8.44   2.080  3.7200   1.622    0.66  0.6560  1.1848   \n",
       "2012-12-31    0.071   12.82   3.140  5.7000   2.617    0.80  0.6913  1.5037   \n",
       "2013-12-31    0.026   13.25   2.460  4.6300   2.100    0.47 -0.3100  1.5140   \n",
       "2014-12-31    0.210   12.22   0.630  2.9900   1.537    0.42 -0.8245  1.3566   \n",
       "2015-12-31   -0.300   12.34   1.050  3.5600   1.627    0.21  0.1801  0.5462   \n",
       "2016-12-31   -0.720   13.31   1.396  3.8700   1.787    0.25  0.4601  0.6041   \n",
       "2017-12-31    0.050   21.56   1.798  4.3976   2.548    0.27  0.6867  0.7141   \n",
       "2018-12-31    0.060   28.02   2.380  5.3850   3.474    0.41  1.1861  0.9173   \n",
       "2019-12-31    0.040   32.80   3.170  4.8991   4.483    0.45  1.6917  1.1623   \n",
       "2020-12-31    0.020   37.17   4.100  4.9843   5.141    0.35  1.4972  1.2490   \n",
       "2021-12-31    0.190   41.76   5.430  5.0141   6.023    0.43  2.4540  1.6183   \n",
       "\n",
       "             600702  000799  000995  002646  000596  603589  600809  603919  \\\n",
       "REPORT_DATE                                                                   \n",
       "2010-12-31   0.2267  0.2621   -0.33  0.3791    1.34    0.00  1.1420    0.00   \n",
       "2011-12-31   0.5787  0.6280    0.03  0.5426    1.17    0.73  0.9015    0.00   \n",
       "2012-12-31   1.0965  1.5248    0.06  0.6699    1.44    0.84  1.5330    0.58   \n",
       "2013-12-31   0.0349 -0.1100   -0.17  0.8297    1.24    0.74  1.1092    0.52   \n",
       "2014-12-31   0.0397 -0.3000   -0.22  0.7050    1.19    0.78  0.4109    0.59   \n",
       "2015-12-31   0.0211  0.2726    0.01  0.5134    1.42    1.06  0.6013    0.79   \n",
       "2016-12-31   0.2378  0.3342   -0.93  0.4803    1.65    1.31  0.6989    0.65   \n",
       "2017-12-31   0.4257  0.5420   -0.67 -0.2093    2.28    1.86  1.0999    0.69   \n",
       "2018-12-31   1.0219  0.6853   -0.54  0.2391    3.37    2.55  1.7405    0.71   \n",
       "2019-12-31   1.5218  0.9217    0.38  0.0803    4.17    2.87  2.2691    0.55   \n",
       "2020-12-31   1.7452  1.5130    0.19 -0.2558    3.68    2.13  2.5360    0.65   \n",
       "2021-12-31   3.7825  2.7498   -0.08  0.1376    4.45    2.88  4.3749    0.64   \n",
       "\n",
       "             000860  600197  600199  603198  \n",
       "REPORT_DATE                                  \n",
       "2010-12-31   0.6051  0.3000    0.32    0.00  \n",
       "2011-12-31   0.6997  0.4700    0.66    0.62  \n",
       "2012-12-31   0.2869  0.5379    1.01    0.65  \n",
       "2013-12-31   0.4507  0.6185    0.24    0.59  \n",
       "2014-12-31   0.7124  0.6079    0.16    0.68  \n",
       "2015-12-31   0.6594  0.6393    0.09    0.69  \n",
       "2016-12-31   0.7231  0.6277    0.03    0.85  \n",
       "2017-12-31   0.7683  0.8012    0.01    0.83  \n",
       "2018-12-31   1.0034  0.9703    0.18    0.97  \n",
       "2019-12-31   1.0909  1.0207   -0.33    1.16  \n",
       "2020-12-31   0.5662  0.7862    0.11    1.19  \n",
       "2021-12-31   0.1379  0.6651   -0.25    1.73  "
      ]
     },
     "execution_count": 107,
     "metadata": {},
     "output_type": "execute_result"
    }
   ],
   "source": [
    "df_eps['2010':]"
   ]
  },
  {
   "cell_type": "code",
   "execution_count": 108,
   "metadata": {},
   "outputs": [
    {
     "data": {
      "text/html": [
       "<div>\n",
       "<style scoped>\n",
       "    .dataframe tbody tr th:only-of-type {\n",
       "        vertical-align: middle;\n",
       "    }\n",
       "\n",
       "    .dataframe tbody tr th {\n",
       "        vertical-align: top;\n",
       "    }\n",
       "\n",
       "    .dataframe thead th {\n",
       "        text-align: right;\n",
       "    }\n",
       "</style>\n",
       "<table border=\"1\" class=\"dataframe\">\n",
       "  <thead>\n",
       "    <tr style=\"text-align: right;\">\n",
       "      <th></th>\n",
       "      <th>600696</th>\n",
       "      <th>600519</th>\n",
       "      <th>000568</th>\n",
       "    </tr>\n",
       "    <tr>\n",
       "      <th>日期</th>\n",
       "      <th></th>\n",
       "      <th></th>\n",
       "      <th></th>\n",
       "    </tr>\n",
       "  </thead>\n",
       "  <tbody>\n",
       "    <tr>\n",
       "      <th>2016-01-22</th>\n",
       "      <td>48.81</td>\n",
       "      <td>1128.21</td>\n",
       "      <td>560.66</td>\n",
       "    </tr>\n",
       "    <tr>\n",
       "      <th>2016-01-25</th>\n",
       "      <td>43.89</td>\n",
       "      <td>1128.36</td>\n",
       "      <td>565.34</td>\n",
       "    </tr>\n",
       "    <tr>\n",
       "      <th>2016-01-26</th>\n",
       "      <td>39.47</td>\n",
       "      <td>1109.47</td>\n",
       "      <td>540.99</td>\n",
       "    </tr>\n",
       "    <tr>\n",
       "      <th>2016-01-27</th>\n",
       "      <td>35.48</td>\n",
       "      <td>1114.09</td>\n",
       "      <td>536.87</td>\n",
       "    </tr>\n",
       "    <tr>\n",
       "      <th>2016-01-28</th>\n",
       "      <td>36.17</td>\n",
       "      <td>1097.56</td>\n",
       "      <td>527.13</td>\n",
       "    </tr>\n",
       "    <tr>\n",
       "      <th>...</th>\n",
       "      <td>...</td>\n",
       "      <td>...</td>\n",
       "      <td>...</td>\n",
       "    </tr>\n",
       "    <tr>\n",
       "      <th>2022-12-09</th>\n",
       "      <td>67.64</td>\n",
       "      <td>9287.21</td>\n",
       "      <td>4349.06</td>\n",
       "    </tr>\n",
       "    <tr>\n",
       "      <th>2022-12-12</th>\n",
       "      <td>66.58</td>\n",
       "      <td>9332.54</td>\n",
       "      <td>4267.41</td>\n",
       "    </tr>\n",
       "    <tr>\n",
       "      <th>2022-12-13</th>\n",
       "      <td>67.83</td>\n",
       "      <td>9387.71</td>\n",
       "      <td>4330.15</td>\n",
       "    </tr>\n",
       "    <tr>\n",
       "      <th>2022-12-14</th>\n",
       "      <td>69.74</td>\n",
       "      <td>9492.58</td>\n",
       "      <td>4495.52</td>\n",
       "    </tr>\n",
       "    <tr>\n",
       "      <th>2022-12-15</th>\n",
       "      <td>71.38</td>\n",
       "      <td>9573.58</td>\n",
       "      <td>4470.24</td>\n",
       "    </tr>\n",
       "  </tbody>\n",
       "</table>\n",
       "<p>1593 rows × 3 columns</p>\n",
       "</div>"
      ],
      "text/plain": [
       "            600696   600519   000568\n",
       "日期                                  \n",
       "2016-01-22   48.81  1128.21   560.66\n",
       "2016-01-25   43.89  1128.36   565.34\n",
       "2016-01-26   39.47  1109.47   540.99\n",
       "2016-01-27   35.48  1114.09   536.87\n",
       "2016-01-28   36.17  1097.56   527.13\n",
       "...            ...      ...      ...\n",
       "2022-12-09   67.64  9287.21  4349.06\n",
       "2022-12-12   66.58  9332.54  4267.41\n",
       "2022-12-13   67.83  9387.71  4330.15\n",
       "2022-12-14   69.74  9492.58  4495.52\n",
       "2022-12-15   71.38  9573.58  4470.24\n",
       "\n",
       "[1593 rows x 3 columns]"
      ]
     },
     "execution_count": 108,
     "metadata": {},
     "output_type": "execute_result"
    }
   ],
   "source": [
    "df_close"
   ]
  },
  {
   "cell_type": "code",
   "execution_count": null,
   "metadata": {},
   "outputs": [],
   "source": [
    "df_eps['2010':].plot(kind='bar')"
   ]
  },
  {
   "cell_type": "code",
   "execution_count": null,
   "metadata": {},
   "outputs": [],
   "source": [
    "print(df_eps.mean().sort_values(ascending=False))"
   ]
  },
  {
   "cell_type": "code",
   "execution_count": null,
   "metadata": {},
   "outputs": [],
   "source": [
    "df_eps.sort_index(ascending=True).plot(kind=\"bar\", colormap=\"cubehelix\",legend=False)"
   ]
  },
  {
   "attachments": {},
   "cell_type": "markdown",
   "metadata": {},
   "source": [
    "### 导出每股收益到csv"
   ]
  },
  {
   "cell_type": "code",
   "execution_count": null,
   "metadata": {},
   "outputs": [],
   "source": [
    "profiet_y = ak.stock_profit_sheet_by_yearly_em(symbol=\"sh603919\")\n",
    "print(profit_y[\"BASIC_EPS\"][0:5])\n",
    "profiet_y.to_csv(\"profit_603919.csv\")"
   ]
  },
  {
   "cell_type": "code",
   "execution_count": null,
   "metadata": {},
   "outputs": [],
   "source": [
    "df_stocks.sort_index(ascending=True).pct_change().plot(kind=\"bar\", colormap=\"cubehelix\")"
   ]
  },
  {
   "cell_type": "code",
   "execution_count": null,
   "metadata": {},
   "outputs": [],
   "source": [
    "import datetime\n",
    "\n",
    "trade_date_list= ak.tool_trade_date_hist_sina()\n",
    "all_trade_date = pd.to_datetime(trade_date_list[\"trade_date\"])\n",
    "all_trade_date.index = all_trade_date\n",
    "print(all_trade_date)\n",
    "\n",
    "ts = pd.Series(np.random.randn(len(trade_date_index)), index=trade_date_index)\n",
    "\n",
    "enddate = datetime.datetime.now().strftime(\"%Y%m%d\")\n",
    "print(ts)\n",
    "print(ts['2016-01-01':enddate])"
   ]
  },
  {
   "cell_type": "code",
   "execution_count": 11,
   "metadata": {},
   "outputs": [],
   "source": [
    "# 导出白酒成分股到csv\n",
    "stocks.to_csv(\"bj.csv\")"
   ]
  },
  {
   "cell_type": "code",
   "execution_count": 68,
   "metadata": {},
   "outputs": [],
   "source": [
    "#股票走势\n",
    "import datetime\n",
    "\n",
    "startdate = datetime.date(2016,1,1)\n",
    "enddate = datetime.datetime.now().strftime(\"%Y%m%d\")\n",
    "\n",
    "trade_date_list= ak.tool_trade_date_hist_sina()\n",
    "all_trade_date = pd.to_datetime(trade_date_list[\"trade_date\"])\n",
    "all_trade_date.index = all_trade_date\n",
    "trade_date_index = all_trade_date[startdate:enddate]\n",
    "\n",
    "df_close = pd.DataFrame()\n",
    "for i in range(len(stocks)):\n",
    "# for i in range(3):\n",
    "    code = stocks.loc[i, \"代码\"]\n",
    "    stock_hist = ak.stock_zh_a_hist(symbol=code, period=\"daily\", start_date=startdate.strftime(\"%Y%m%d\"), end_date=enddate, adjust=\"hfq\")\n",
    "\n",
    "    cl = stock_hist[\"收盘\"]\n",
    "    # if (len(cl) != len(trade_date_index)):\n",
    "    #     print(\"股票数据长度不匹配:{}:{}-{}\".format(len(cl), len(trade_date_index), code))\n",
    "    #     continue\n",
    "\n",
    "    ts = pd.Series(list(cl), index=pd.to_datetime(stock_hist[\"日期\"]))\n",
    "    # print(ts)\n",
    "    # print(stock_hist[\"收盘\"])\n",
    "    df_close[code] = ts\n",
    "    \n",
    "# df_close.plot(subplots=True, figsize=(16,16))\n",
    "# print(stock_hist)"
   ]
  },
  {
   "cell_type": "code",
   "execution_count": 76,
   "metadata": {},
   "outputs": [
    {
     "name": "stdout",
     "output_type": "stream",
     "text": [
      "            600696   600519   000568\n",
      "日期                                  \n",
      "2016-01-22   48.81  1128.21   560.66\n",
      "2016-01-25   43.89  1128.36   565.34\n",
      "2016-01-26   39.47  1109.47   540.99\n",
      "2016-01-27   35.48  1114.09   536.87\n",
      "2016-01-28   36.17  1097.56   527.13\n",
      "...            ...      ...      ...\n",
      "2022-12-09   67.64  9287.21  4349.06\n",
      "2022-12-12   66.58  9332.54  4267.41\n",
      "2022-12-13   67.83  9387.71  4330.15\n",
      "2022-12-14   69.74  9492.58  4495.52\n",
      "2022-12-15   71.38  9573.58  4470.24\n",
      "\n",
      "[1593 rows x 3 columns]\n",
      "              600696    600519    000568\n",
      "日期                                      \n",
      "2016-01-22       NaN       NaN       NaN\n",
      "2016-01-25  0.899201  1.000133  1.008347\n",
      "2016-01-26  0.808646  0.983390  0.964916\n",
      "2016-01-27  0.726900  0.987485  0.957568\n",
      "2016-01-28  0.741037  0.972833  0.940195\n",
      "...              ...       ...       ...\n",
      "2022-12-09  1.385782  8.231810  7.757036\n",
      "2022-12-12  1.364065  8.271988  7.611404\n",
      "2022-12-13  1.389674  8.320889  7.723308\n",
      "2022-12-14  1.428806  8.413841  8.018264\n",
      "2022-12-15  1.462405  8.485637  7.973174\n",
      "\n",
      "[1593 rows x 3 columns]\n"
     ]
    },
    {
     "data": {
      "text/plain": [
       "<AxesSubplot:xlabel='日期'>"
      ]
     },
     "execution_count": 76,
     "metadata": {},
     "output_type": "execute_result"
    },
    {
     "name": "stderr",
     "output_type": "stream",
     "text": [
      "e:\\Python\\Python39\\lib\\site-packages\\IPython\\core\\pylabtools.py:151: UserWarning: Glyph 26085 (\\N{CJK UNIFIED IDEOGRAPH-65E5}) missing from current font.\n",
      "  fig.canvas.print_figure(bytes_io, **kw)\n",
      "e:\\Python\\Python39\\lib\\site-packages\\IPython\\core\\pylabtools.py:151: UserWarning: Glyph 26399 (\\N{CJK UNIFIED IDEOGRAPH-671F}) missing from current font.\n",
      "  fig.canvas.print_figure(bytes_io, **kw)\n"
     ]
    },
    {
     "data": {
      "image/png": "[encoded data removed]",
      "text/plain": [
       "<Figure size 432x288 with 1 Axes>"
      ]
     },
     "metadata": {
      "needs_background": "light"
     },
     "output_type": "display_data"
    }
   ],
   "source": [
    "print(df_close)\n",
    "ret = (1 + df_close.pct_change()).cumprod()\n",
    "print(ret)\n",
    "# ret.to_csv(\"ret.csv\")\n",
    "# df_close.to_csv(\"cl.csv\")\n",
    "ret.plot(kind=\"line\")\n",
    "# print(df_close.loc[\"2016-01-29\",  :])\n",
    "# print(df_close.resample('M').asfreq())"
   ]
  }
 ],
 "metadata": {
  "kernelspec": {
   "display_name": "Python 3.9.8 64-bit",
   "language": "python",
   "name": "python3"
  },
  "language_info": {
   "codemirror_mode": {
    "name": "ipython",
    "version": 3
   },
   "file_extension": ".py",
   "mimetype": "text/x-python",
   "name": "python",
   "nbconvert_exporter": "python",
   "pygments_lexer": "ipython3",
   "version": "3.9.8"
  },
  "orig_nbformat": 4,
  "vscode": {
   "interpreter": {
    "hash": "b4014b60265de7f80a801ece3da4a480cce03f2136c91739134aaed5b8cdff47"
   }
  }
 },
 "nbformat": 4,
 "nbformat_minor": 2
}
