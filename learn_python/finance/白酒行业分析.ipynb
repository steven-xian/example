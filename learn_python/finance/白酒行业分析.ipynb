{
 "cells": [
  {
   "cell_type": "code",
   "execution_count": 3,
   "metadata": {},
   "outputs": [],
   "source": [
    "# 导入库\n",
    "import akshare as ak\n",
    "import matplotlib.pyplot as plt\n",
    "import numpy as np\n",
    "import pandas as pd"
   ]
  },
  {
   "cell_type": "code",
   "execution_count": null,
   "metadata": {},
   "outputs": [],
   "source": [
    "# akshare 版本\n",
    "print(ak.__version__)"
   ]
  },
  {
   "cell_type": "code",
   "execution_count": 5,
   "metadata": {},
   "outputs": [
    {
     "name": "stderr",
     "output_type": "stream",
     "text": [
      "                                             "
     ]
    },
    {
     "name": "stdout",
     "output_type": "stream",
     "text": [
      "    序号      代码     名称       现价   涨跌幅     涨跌    涨速    换手    量比    振幅     成交额  \\\n",
      "0    1  600696   岩石股份    26.54  3.23   0.83  0.00  1.16  4.20  7.27   1.04亿   \n",
      "1    2  600519   贵州茅台  1789.00  1.02  18.13  0.08  0.17  1.72  2.03  37.42亿   \n",
      "2    3  000568   泸州老窖   221.66  0.43   0.96  0.33  0.43  1.41  3.20  13.89亿   \n",
      "3    4  002304   洋河股份   167.45  0.19   0.31  0.54  0.27  1.12  4.70   6.68亿   \n",
      "4    5  000858    五粮液   183.80 -0.15  -0.28  0.30  0.30  1.01  2.73  21.10亿   \n",
      "5    6  600559   老白干酒    28.54 -0.42  -0.12  0.18  2.35  1.35  3.87   6.01亿   \n",
      "6    7  600779    水井坊    77.31 -0.54  -0.42  0.07  1.43  1.39  3.09   5.37亿   \n",
      "7    8  603369    今世缘    49.72 -0.74  -0.37  0.18  0.51  1.11  2.94   3.17亿   \n",
      "8    9  600702   舍得酒业   168.95 -0.84  -1.43  0.28  0.98  0.79  3.40   5.46亿   \n",
      "9   10  000799    酒鬼酒   141.28 -0.84  -1.20  0.18  1.61  1.08  3.25   7.39亿   \n",
      "10  11  000995  *ST皇台    17.36 -0.97  -0.17 -0.06  0.54  0.85  1.48   0.17亿   \n",
      "11  12  002646   天佑德酒    15.78 -1.07  -0.17  0.25  1.33  1.68  2.88   0.99亿   \n",
      "12  13  000596   古井贡酒   273.31 -1.14  -3.15  0.09  0.21  1.08  3.97   2.38亿   \n",
      "13  14  603589    口子窖    62.59 -1.26  -0.80  0.32  1.36  1.09  3.23   5.12亿   \n",
      "14  15  600809   山西汾酒   284.31 -1.60  -4.61  0.06  0.28  1.35  4.12   9.80亿   \n",
      "15  16  603919    金徽酒    26.62 -1.63  -0.44  0.15  2.47  1.88  3.73   3.31亿   \n",
      "16  17  000860   顺鑫农业    31.82 -2.24  -0.73  0.19  0.70  0.92  4.55   1.67亿   \n",
      "17  18  600197    伊力特    25.20 -2.59  -0.67  0.32  1.35  1.52  4.26   1.62亿   \n",
      "18  19  600199   金种子酒    27.45 -2.63  -0.74  0.11  1.60  1.35  4.08   2.91亿   \n",
      "19  20  603198   迎驾贡酒    62.29 -5.26  -3.46 -0.21  1.01  1.60  6.04   5.13亿   \n",
      "\n",
      "       流通股       流通市值     市盈率  \n",
      "0    3.34亿     88.77亿  140.75  \n",
      "1   12.56亿  22473.40亿   37.96  \n",
      "2   14.64亿   3246.22亿   29.78  \n",
      "3   15.03亿   2516.29亿   20.86  \n",
      "4   38.81亿   7134.10亿   26.77  \n",
      "5    8.97亿    256.09亿   36.71  \n",
      "6    4.88亿    377.55亿   26.84  \n",
      "7   12.54亿    623.74亿   22.48  \n",
      "8    3.31亿    558.78亿   35.06  \n",
      "9    3.25亿    459.06亿   35.42  \n",
      "10   1.77亿     30.80亿  628.03  \n",
      "11   4.73亿     74.56亿   56.03  \n",
      "12   4.09亿   1116.74亿   41.31  \n",
      "13   6.00亿    375.54亿   23.44  \n",
      "14  12.18亿   3462.08亿   36.60  \n",
      "15   5.07亿    134.93亿   47.35  \n",
      "16   7.42亿    236.03亿  641.50  \n",
      "17   4.72亿    118.75亿   63.74  \n",
      "18   6.58亿    180.43亿      --  \n",
      "19   8.00亿    498.32亿   31.07  \n"
     ]
    },
    {
     "name": "stderr",
     "output_type": "stream",
     "text": [
      "\r"
     ]
    }
   ],
   "source": [
    "# 获取白酒行业成分股数据\n",
    "\n",
    "stocks = ak.stock_board_industry_cons_ths(symbol=\"白酒\")\n",
    "print(stocks)\n"
   ]
  },
  {
   "cell_type": "code",
   "execution_count": null,
   "metadata": {},
   "outputs": [],
   "source": [
    "# print(stocks[[\"代码\", \"名称\"]])\n",
    "# 获取板块股票历年利润\n",
    "df_stocks = pd.DataFrame()\n",
    "for i in range(len(stocks)):\n",
    "# for i in range(3):\n",
    "    # print(stocks.loc[i, \"代码\"], stocks.loc[i, \"名称\"])\n",
    "    market = 'sz'\n",
    "    code = stocks.loc[i, \"代码\"]\n",
    "    if (code.startswith('00') != True):\n",
    "        market ='sh'\n",
    "    symbol = \"{}{}\".format(market, code)\n",
    "    profit_y = ak.stock_profit_sheet_by_yearly_em(symbol=symbol)\n",
    "    print(profit_y[\"PARENT_NETPROFIT\"][0:5])\n",
    "    s1 = pd.Series(list(profit_y[\"PARENT_NETPROFIT\"][0:5]), index=[\"2021-12-31\", \"2020-12-31\", \"2019-12-31\", \"2018-12-31\", \"2017-12-31\"])\n",
    "    print(s1)\n",
    "    df_stocks[code] = s1\n",
    "    # df.append(code, s1)\n",
    "    # df.index = pd.to_datetime(profit_y[\"REPORT_DATE\"]) \n",
    "    # df[code] = profit_y[\"PARENT_NETPROFIT\"]\n",
    "\n",
    "print(df_stocks)\n",
    "\n",
    "    # print(profit_y[[\"REPORT_DATE\", \"SECURITY_CODE\", \"SECURITY_NAME_ABBR\", \"PARENT_NETPROFIT\"]])"
   ]
  },
  {
   "cell_type": "code",
   "execution_count": 47,
   "metadata": {},
   "outputs": [
    {
     "data": {
      "text/html": [
       "<div>\n",
       "<style scoped>\n",
       "    .dataframe tbody tr th:only-of-type {\n",
       "        vertical-align: middle;\n",
       "    }\n",
       "\n",
       "    .dataframe tbody tr th {\n",
       "        vertical-align: top;\n",
       "    }\n",
       "\n",
       "    .dataframe thead th {\n",
       "        text-align: right;\n",
       "    }\n",
       "</style>\n",
       "<table border=\"1\" class=\"dataframe\">\n",
       "  <thead>\n",
       "    <tr style=\"text-align: right;\">\n",
       "      <th></th>\n",
       "      <th>603589</th>\n",
       "      <th>002304</th>\n",
       "      <th>600559</th>\n",
       "      <th>000858</th>\n",
       "      <th>603369</th>\n",
       "      <th>600779</th>\n",
       "      <th>000568</th>\n",
       "      <th>000860</th>\n",
       "      <th>603919</th>\n",
       "      <th>000596</th>\n",
       "      <th>000799</th>\n",
       "      <th>603198</th>\n",
       "      <th>600519</th>\n",
       "      <th>600809</th>\n",
       "      <th>600197</th>\n",
       "      <th>002646</th>\n",
       "      <th>600199</th>\n",
       "      <th>600696</th>\n",
       "      <th>000995</th>\n",
       "      <th>600702</th>\n",
       "    </tr>\n",
       "  </thead>\n",
       "  <tbody>\n",
       "    <tr>\n",
       "      <th>2017-12-31</th>\n",
       "      <td>1.113663e+09</td>\n",
       "      <td>6.627170e+09</td>\n",
       "      <td>1.635233e+08</td>\n",
       "      <td>9.673721e+09</td>\n",
       "      <td>8.958769e+08</td>\n",
       "      <td>3.354880e+08</td>\n",
       "      <td>2.557945e+09</td>\n",
       "      <td>4.383695e+08</td>\n",
       "      <td>2.529614e+08</td>\n",
       "      <td>1.148741e+09</td>\n",
       "      <td>1.760987e+08</td>\n",
       "      <td>6.666357e+08</td>\n",
       "      <td>2.707936e+10</td>\n",
       "      <td>9.523883e+08</td>\n",
       "      <td>3.533420e+08</td>\n",
       "      <td>-9.416427e+07</td>\n",
       "      <td>8.189819e+06</td>\n",
       "      <td>18034671.97</td>\n",
       "      <td>-1.184416e+08</td>\n",
       "      <td>1.435721e+08</td>\n",
       "    </tr>\n",
       "    <tr>\n",
       "      <th>2018-12-31</th>\n",
       "      <td>1.532664e+09</td>\n",
       "      <td>8.115190e+09</td>\n",
       "      <td>3.504180e+08</td>\n",
       "      <td>1.338425e+10</td>\n",
       "      <td>1.150711e+09</td>\n",
       "      <td>5.794499e+08</td>\n",
       "      <td>3.485643e+09</td>\n",
       "      <td>7.442559e+08</td>\n",
       "      <td>2.586163e+08</td>\n",
       "      <td>1.695232e+09</td>\n",
       "      <td>2.226788e+08</td>\n",
       "      <td>7.786927e+08</td>\n",
       "      <td>3.520363e+10</td>\n",
       "      <td>1.507044e+09</td>\n",
       "      <td>4.278862e+08</td>\n",
       "      <td>1.075746e+08</td>\n",
       "      <td>1.018888e+08</td>\n",
       "      <td>19220276.30</td>\n",
       "      <td>-9.548149e+07</td>\n",
       "      <td>3.417776e+08</td>\n",
       "    </tr>\n",
       "    <tr>\n",
       "      <th>2019-12-31</th>\n",
       "      <td>1.720205e+09</td>\n",
       "      <td>7.382823e+09</td>\n",
       "      <td>4.043029e+08</td>\n",
       "      <td>1.740216e+10</td>\n",
       "      <td>1.458098e+09</td>\n",
       "      <td>8.262813e+08</td>\n",
       "      <td>4.641989e+09</td>\n",
       "      <td>8.092294e+08</td>\n",
       "      <td>2.706052e+08</td>\n",
       "      <td>2.097528e+09</td>\n",
       "      <td>2.994957e+08</td>\n",
       "      <td>9.304456e+08</td>\n",
       "      <td>4.120647e+10</td>\n",
       "      <td>1.968933e+09</td>\n",
       "      <td>4.468211e+08</td>\n",
       "      <td>3.611826e+07</td>\n",
       "      <td>-2.044978e+08</td>\n",
       "      <td>12385608.65</td>\n",
       "      <td>6.821366e+07</td>\n",
       "      <td>5.079103e+08</td>\n",
       "    </tr>\n",
       "    <tr>\n",
       "      <th>2020-12-31</th>\n",
       "      <td>1.275742e+09</td>\n",
       "      <td>7.482229e+09</td>\n",
       "      <td>3.126039e+08</td>\n",
       "      <td>1.995481e+10</td>\n",
       "      <td>1.566908e+09</td>\n",
       "      <td>7.313258e+08</td>\n",
       "      <td>6.005723e+09</td>\n",
       "      <td>4.200088e+08</td>\n",
       "      <td>3.313173e+08</td>\n",
       "      <td>1.854576e+09</td>\n",
       "      <td>4.916083e+08</td>\n",
       "      <td>9.533871e+08</td>\n",
       "      <td>4.669729e+10</td>\n",
       "      <td>3.079234e+09</td>\n",
       "      <td>3.419111e+08</td>\n",
       "      <td>-1.150937e+08</td>\n",
       "      <td>6.940611e+07</td>\n",
       "      <td>8021898.87</td>\n",
       "      <td>3.348376e+07</td>\n",
       "      <td>5.811352e+08</td>\n",
       "    </tr>\n",
       "    <tr>\n",
       "      <th>2021-12-31</th>\n",
       "      <td>1.727088e+09</td>\n",
       "      <td>7.507683e+09</td>\n",
       "      <td>3.892063e+08</td>\n",
       "      <td>2.337707e+10</td>\n",
       "      <td>2.029128e+09</td>\n",
       "      <td>1.199076e+09</td>\n",
       "      <td>7.955554e+09</td>\n",
       "      <td>1.023021e+08</td>\n",
       "      <td>3.248430e+08</td>\n",
       "      <td>2.297894e+09</td>\n",
       "      <td>8.934892e+08</td>\n",
       "      <td>1.382021e+09</td>\n",
       "      <td>5.246014e+10</td>\n",
       "      <td>5.313612e+09</td>\n",
       "      <td>3.127557e+08</td>\n",
       "      <td>6.322478e+07</td>\n",
       "      <td>-1.664079e+08</td>\n",
       "      <td>61928159.20</td>\n",
       "      <td>-1.355476e+07</td>\n",
       "      <td>1.245655e+09</td>\n",
       "    </tr>\n",
       "  </tbody>\n",
       "</table>\n",
       "</div>"
      ],
      "text/plain": [
       "                  603589        002304        600559        000858  \\\n",
       "2017-12-31  1.113663e+09  6.627170e+09  1.635233e+08  9.673721e+09   \n",
       "2018-12-31  1.532664e+09  8.115190e+09  3.504180e+08  1.338425e+10   \n",
       "2019-12-31  1.720205e+09  7.382823e+09  4.043029e+08  1.740216e+10   \n",
       "2020-12-31  1.275742e+09  7.482229e+09  3.126039e+08  1.995481e+10   \n",
       "2021-12-31  1.727088e+09  7.507683e+09  3.892063e+08  2.337707e+10   \n",
       "\n",
       "                  603369        600779        000568        000860  \\\n",
       "2017-12-31  8.958769e+08  3.354880e+08  2.557945e+09  4.383695e+08   \n",
       "2018-12-31  1.150711e+09  5.794499e+08  3.485643e+09  7.442559e+08   \n",
       "2019-12-31  1.458098e+09  8.262813e+08  4.641989e+09  8.092294e+08   \n",
       "2020-12-31  1.566908e+09  7.313258e+08  6.005723e+09  4.200088e+08   \n",
       "2021-12-31  2.029128e+09  1.199076e+09  7.955554e+09  1.023021e+08   \n",
       "\n",
       "                  603919        000596        000799        603198  \\\n",
       "2017-12-31  2.529614e+08  1.148741e+09  1.760987e+08  6.666357e+08   \n",
       "2018-12-31  2.586163e+08  1.695232e+09  2.226788e+08  7.786927e+08   \n",
       "2019-12-31  2.706052e+08  2.097528e+09  2.994957e+08  9.304456e+08   \n",
       "2020-12-31  3.313173e+08  1.854576e+09  4.916083e+08  9.533871e+08   \n",
       "2021-12-31  3.248430e+08  2.297894e+09  8.934892e+08  1.382021e+09   \n",
       "\n",
       "                  600519        600809        600197        002646  \\\n",
       "2017-12-31  2.707936e+10  9.523883e+08  3.533420e+08 -9.416427e+07   \n",
       "2018-12-31  3.520363e+10  1.507044e+09  4.278862e+08  1.075746e+08   \n",
       "2019-12-31  4.120647e+10  1.968933e+09  4.468211e+08  3.611826e+07   \n",
       "2020-12-31  4.669729e+10  3.079234e+09  3.419111e+08 -1.150937e+08   \n",
       "2021-12-31  5.246014e+10  5.313612e+09  3.127557e+08  6.322478e+07   \n",
       "\n",
       "                  600199       600696        000995        600702  \n",
       "2017-12-31  8.189819e+06  18034671.97 -1.184416e+08  1.435721e+08  \n",
       "2018-12-31  1.018888e+08  19220276.30 -9.548149e+07  3.417776e+08  \n",
       "2019-12-31 -2.044978e+08  12385608.65  6.821366e+07  5.079103e+08  \n",
       "2020-12-31  6.940611e+07   8021898.87  3.348376e+07  5.811352e+08  \n",
       "2021-12-31 -1.664079e+08  61928159.20 -1.355476e+07  1.245655e+09  "
      ]
     },
     "execution_count": 47,
     "metadata": {},
     "output_type": "execute_result"
    }
   ],
   "source": [
    "# 近5年利润柱状图\n",
    "\n",
    "df_stocks.sort_index(ascending=True).plot(kind=\"bar\")"
   ]
  },
  {
   "cell_type": "code",
   "execution_count": 56,
   "metadata": {},
   "outputs": [
    {
     "name": "stderr",
     "output_type": "stream",
     "text": [
      "                                             \r"
     ]
    }
   ],
   "source": [
    "profit_y = ak.stock_profit_sheet_by_yearly_em(symbol=\"sh603589\")\n",
    "profit_y.to_csv(\"profit_603589.csv\")"
   ]
  },
  {
   "attachments": {},
   "cell_type": "markdown",
   "metadata": {},
   "source": [
    "### 获取每股收益"
   ]
  },
  {
   "cell_type": "code",
   "execution_count": null,
   "metadata": {},
   "outputs": [],
   "source": [
    "df_eps = pd.DataFrame()\n",
    "for i in range(len(stocks)):\n",
    "# for i in range(3):\n",
    "    # print(stocks.loc[i, \"代码\"], stocks.loc[i, \"名称\"])\n",
    "    market = 'sz'\n",
    "    code = stocks.loc[i, \"代码\"]\n",
    "    if (code.startswith('00') != True):\n",
    "        market ='sh'\n",
    "    symbol = \"{}{}\".format(market, code)\n",
    "    print(\"获取({})利润表...\".format(symbol))\n",
    "\n",
    "    profit_y = ak.stock_profit_sheet_by_yearly_em(symbol=symbol)\n",
    "    # print(profit_y[\"BASIC_EPS\"][0:5])\n",
    "    s1 = pd.Series(list(profit_y[\"BASIC_EPS\"][0:5]), index=[\"2021-12-31\", \"2020-12-31\", \"2019-12-31\", \"2018-12-31\", \"2017-12-31\"])\n",
    "    # print(s1)\n",
    "    df_eps[code] = s1\n",
    "    # df.append(code, s1)\n",
    "    # df.index = pd.to_datetime(profit_y[\"REPORT_DATE\"]) \n",
    "    # df[code] = profit_y[\"PARENT_NETPROFIT\"]\n",
    "\n",
    "# print(df_eps)"
   ]
  },
  {
   "cell_type": "code",
   "execution_count": null,
   "metadata": {},
   "outputs": [],
   "source": [
    "print(df_eps.mean().sort_values(ascending=False))"
   ]
  },
  {
   "cell_type": "code",
   "execution_count": null,
   "metadata": {},
   "outputs": [],
   "source": [
    "df_eps.sort_index(ascending=True).plot(kind=\"bar\", colormap=\"cubehelix\",legend=False)"
   ]
  },
  {
   "attachments": {},
   "cell_type": "markdown",
   "metadata": {},
   "source": [
    "### 导出每股收益到csv"
   ]
  },
  {
   "cell_type": "code",
   "execution_count": null,
   "metadata": {},
   "outputs": [],
   "source": [
    "profiet_y = ak.stock_profit_sheet_by_yearly_em(symbol=\"sh603919\")\n",
    "print(profit_y[\"BASIC_EPS\"][0:5])\n",
    "profiet_y.to_csv(\"profit_603919.csv\")"
   ]
  },
  {
   "cell_type": "code",
   "execution_count": null,
   "metadata": {},
   "outputs": [],
   "source": [
    "df_stocks.sort_index(ascending=True).pct_change().plot(kind=\"bar\", colormap=\"cubehelix\")"
   ]
  },
  {
   "cell_type": "code",
   "execution_count": 114,
   "metadata": {},
   "outputs": [
    {
     "name": "stdout",
     "output_type": "stream",
     "text": [
      "trade_date\n",
      "1990-12-19   1990-12-19\n",
      "1990-12-20   1990-12-20\n",
      "1990-12-21   1990-12-21\n",
      "1990-12-24   1990-12-24\n",
      "1990-12-25   1990-12-25\n",
      "                ...    \n",
      "2022-12-26   2022-12-26\n",
      "2022-12-27   2022-12-27\n",
      "2022-12-28   2022-12-28\n",
      "2022-12-29   2022-12-29\n",
      "2022-12-30   2022-12-30\n",
      "Name: trade_date, Length: 7828, dtype: datetime64[ns]\n",
      "trade_date\n",
      "1990-12-19    0.102860\n",
      "1990-12-20    0.312786\n",
      "1990-12-21   -0.990255\n",
      "1990-12-24   -0.687246\n",
      "1990-12-25    0.376886\n",
      "                ...   \n",
      "2022-12-26    1.192686\n",
      "2022-12-27    0.886610\n",
      "2022-12-28   -0.720163\n",
      "2022-12-29   -0.043539\n",
      "2022-12-30   -1.544607\n",
      "Length: 7828, dtype: float64\n",
      "trade_date\n",
      "2016-01-04   -0.332122\n",
      "2016-01-05    0.878838\n",
      "2016-01-06   -0.773747\n",
      "2016-01-07   -0.509924\n",
      "2016-01-08    0.954211\n",
      "                ...   \n",
      "2022-12-06   -1.556282\n",
      "2022-12-07    1.437905\n",
      "2022-12-08    0.819886\n",
      "2022-12-09    0.871199\n",
      "2022-12-12   -0.423960\n",
      "Length: 1689, dtype: float64\n"
     ]
    }
   ],
   "source": [
    "import datetime\n",
    "\n",
    "trade_date_list= ak.tool_trade_date_hist_sina()\n",
    "all_trade_date = pd.to_datetime(trade_date_list[\"trade_date\"])\n",
    "all_trade_date.index = all_trade_date\n",
    "print(all_trade_date)\n",
    "\n",
    "ts = pd.Series(np.random.randn(len(trade_date_index)), index=trade_date_index)\n",
    "\n",
    "enddate = datetime.datetime.now().strftime(\"%Y%m%d\")\n",
    "print(ts)\n",
    "print(ts['2016-01-01':enddate])"
   ]
  },
  {
   "cell_type": "code",
   "execution_count": 11,
   "metadata": {},
   "outputs": [],
   "source": [
    "# 导出白酒成分股到csv\n",
    "stocks.to_csv(\"bj.csv\")"
   ]
  },
  {
   "cell_type": "code",
   "execution_count": 12,
   "metadata": {},
   "outputs": [],
   "source": [
    "#股票走势\n",
    "import datetime\n",
    "\n",
    "startdate = datetime.date(2016,1,1)\n",
    "enddate = datetime.datetime.now().strftime(\"%Y%m%d\")\n",
    "\n",
    "trade_date_list= ak.tool_trade_date_hist_sina()\n",
    "all_trade_date = pd.to_datetime(trade_date_list[\"trade_date\"])\n",
    "all_trade_date.index = all_trade_date\n",
    "trade_date_index = all_trade_date[startdate:enddate]\n",
    "\n",
    "df_close = pd.DataFrame()\n",
    "# for i in range(len(stocks)):\n",
    "for i in range(3):\n",
    "    code = stocks.loc[i, \"代码\"]\n",
    "    stock_hist = ak.stock_zh_a_hist(symbol=code, period=\"monthly\", start_date=startdate.strftime(\"%Y%m%d\"), end_date=enddate, adjust=\"qfq\")\n",
    "\n",
    "    cl = stock_hist[\"收盘\"]\n",
    "    # if (len(cl) != len(trade_date_index)):\n",
    "    #     print(\"股票数据长度不匹配:{}:{}-{}\".format(len(cl), len(trade_date_index), code))\n",
    "    #     continue\n",
    "\n",
    "    ts = pd.Series(list(cl), index=pd.to_datetime(stock_hist[\"日期\"]))\n",
    "    # print(ts)\n",
    "    # print(stock_hist[\"收盘\"])\n",
    "    df_close[code] = ts\n",
    "    \n",
    "# df_close.plot(subplots=True, figsize=(16,16))\n",
    "# print(stock_hist)"
   ]
  },
  {
   "cell_type": "code",
   "execution_count": 13,
   "metadata": {},
   "outputs": [
    {
     "name": "stdout",
     "output_type": "stream",
     "text": [
      "            600696   600519  000568\n",
      "日期                                 \n",
      "2016-01-29   12.94   200.65   21.25\n",
      "2016-02-23   17.03      NaN     NaN\n",
      "2016-03-30   15.45      NaN     NaN\n",
      "2016-04-20   16.90      NaN     NaN\n",
      "2016-05-31   12.78   264.47   24.54\n",
      "...            ...      ...     ...\n",
      "2022-08-31   27.27  1924.00  234.20\n",
      "2022-09-30   24.56  1872.50  230.66\n",
      "2022-10-31   23.40  1350.00  156.35\n",
      "2022-11-30   23.58  1599.00  186.01\n",
      "2022-12-15   26.91  1792.03  221.56\n",
      "\n",
      "[83 rows x 3 columns]\n"
     ]
    }
   ],
   "source": [
    "\n",
    "print(df_close)\n",
    "# print(df_close.resample('M').asfreq())"
   ]
  }
 ],
 "metadata": {
  "kernelspec": {
   "display_name": "Python 3.9.8 64-bit",
   "language": "python",
   "name": "python3"
  },
  "language_info": {
   "codemirror_mode": {
    "name": "ipython",
    "version": 3
   },
   "file_extension": ".py",
   "mimetype": "text/x-python",
   "name": "python",
   "nbconvert_exporter": "python",
   "pygments_lexer": "ipython3",
   "version": "3.9.8"
  },
  "orig_nbformat": 4,
  "vscode": {
   "interpreter": {
    "hash": "b4014b60265de7f80a801ece3da4a480cce03f2136c91739134aaed5b8cdff47"
   }
  }
 },
 "nbformat": 4,
 "nbformat_minor": 2
}
