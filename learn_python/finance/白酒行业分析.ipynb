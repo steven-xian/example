{
 "cells": [
  {
   "cell_type": "code",
   "execution_count": null,
   "metadata": {},
   "outputs": [],
   "source": [
    "# 导入库\n",
    "import akshare as ak\n",
    "import matplotlib.pyplot as plt\n",
    "import numpy as np\n",
    "import pandas as pd\n",
    "from tqdm import tqdm"
   ]
  },
  {
   "cell_type": "code",
   "execution_count": null,
   "metadata": {},
   "outputs": [],
   "source": [
    "# akshare 版本  \n",
    "print(ak.__version__)"
   ]
  },
  {
   "cell_type": "code",
   "execution_count": null,
   "metadata": {},
   "outputs": [],
   "source": [
    "# 获取白酒行业成分股数据\n",
    "\n",
    "stocks = ak.stock_board_industry_cons_ths(symbol=\"白酒\")\n",
    "stocks.to_csv(\"白酒股票.csv\")\n"
   ]
  },
  {
   "cell_type": "code",
   "execution_count": null,
   "metadata": {},
   "outputs": [],
   "source": [
    "# 获取板块股票逐年利润表\n",
    "profit_y_dict = dict()\n",
    "\n",
    "for i in tqdm(range(len(stocks))):\n",
    "    market = 'sz'\n",
    "    code = stocks.loc[i, \"代码\"]\n",
    "    if (code.startswith('00') != True):\n",
    "        market ='sh'\n",
    "    symbol = \"{}{}\".format(market, code)\n",
    "    profit_y = ak.stock_profit_sheet_by_yearly_em(symbol=symbol)\n",
    "\n",
    "    profit_y_dict[code] = profit_y"
   ]
  },
  {
   "cell_type": "code",
   "execution_count": null,
   "metadata": {},
   "outputs": [],
   "source": [
    "# 获取板块股票归属母公司利润表\n",
    "\n",
    "profit_dict = {}\n",
    "for i in tqdm(range(len(stocks))):\n",
    "    code = stocks.loc[i, \"代码\"]\n",
    "\n",
    "    p = pd.Series(list(profit_y_dict[code][\"PARENT_NETPROFIT\"]), index=pd.to_datetime(profit_y_dict[code][\"REPORT_DATE\"]).dt.date)\n",
    "    profit_dict[code] = p\n",
    "\n",
    "df_parent_profit = pd.DataFrame(profit_dict)"
   ]
  },
  {
   "cell_type": "code",
   "execution_count": null,
   "metadata": {},
   "outputs": [],
   "source": [
    "df_parent_profit['000858']"
   ]
  },
  {
   "cell_type": "code",
   "execution_count": null,
   "metadata": {},
   "outputs": [],
   "source": [
    "df_parent_profit['000858'].to_csv(\"profit_000858.csv\")"
   ]
  },
  {
   "cell_type": "code",
   "execution_count": null,
   "metadata": {},
   "outputs": [],
   "source": [
    "df_eps = pd.DataFrame()\n",
    "eps_dict = {}\n",
    "\n",
    "for i in tqdm(range(len(stocks))):\n",
    "    market = 'sz'\n",
    "    code = stocks.loc[i, \"代码\"]\n",
    "    name = stocks.loc[i, \"名称\"]\n",
    "    \n",
    "    s1 = pd.Series(list(profit_y_dict[code][\"BASIC_EPS\"]), index=pd.to_datetime(profit_y_dict[code][\"REPORT_DATE\"]))\n",
    "    eps_dict[\"{}-{}\".format(code, name)] = s1\n",
    "\n",
    "df_eps = pd.DataFrame(eps_dict)\n",
    "df_eps.fillna(0, inplace=True)"
   ]
  },
  {
   "cell_type": "code",
   "execution_count": null,
   "metadata": {},
   "outputs": [],
   "source": [
    "df_eps.to_csv(\"eps.csv\")"
   ]
  },
  {
   "cell_type": "code",
   "execution_count": null,
   "metadata": {},
   "outputs": [],
   "source": [
    "df_eps.fillna(0, inplace=True)\n"
   ]
  },
  {
   "cell_type": "code",
   "execution_count": null,
   "metadata": {},
   "outputs": [],
   "source": [
    "print(type(df_eps.index))"
   ]
  },
  {
   "cell_type": "code",
   "execution_count": null,
   "metadata": {},
   "outputs": [],
   "source": [
    "df_eps['2010':]"
   ]
  },
  {
   "cell_type": "code",
   "execution_count": null,
   "metadata": {},
   "outputs": [],
   "source": [
    "df_eps['2010':].plot(kind='bar')"
   ]
  },
  {
   "cell_type": "code",
   "execution_count": null,
   "metadata": {},
   "outputs": [],
   "source": [
    "print(df_eps.mean().sort_values(ascending=False))"
   ]
  },
  {
   "cell_type": "code",
   "execution_count": null,
   "metadata": {},
   "outputs": [],
   "source": [
    "df_eps.sort_index(ascending=True).plot(kind=\"bar\", colormap=\"cubehelix\",legend=False)"
   ]
  },
  {
   "cell_type": "code",
   "execution_count": null,
   "metadata": {},
   "outputs": [],
   "source": [
    "### 导出每股收益到csv\n",
    "profiet_y = ak.stock_profit_sheet_by_yearly_em(symbol=\"sh603919\")\n",
    "print(profit_y[\"BASIC_EPS\"][0:5])\n",
    "profiet_y.to_csv(\"profit_603919.csv\")"
   ]
  },
  {
   "cell_type": "code",
   "execution_count": null,
   "metadata": {},
   "outputs": [],
   "source": [
    "df_stocks.sort_index(ascending=True).pct_change().plot(kind=\"bar\", colormap=\"cubehelix\")"
   ]
  },
  {
   "cell_type": "code",
   "execution_count": null,
   "metadata": {},
   "outputs": [],
   "source": [
    "#获取交易日期\n",
    "\n",
    "import datetime\n",
    "\n",
    "trade_date_list= ak.tool_trade_date_hist_sina()\n",
    "all_trade_date = pd.to_datetime(trade_date_list[\"trade_date\"])\n",
    "all_trade_date.index = all_trade_date\n",
    "print(all_trade_date)\n",
    "\n",
    "ts = pd.Series(np.random.randn(len(trade_date_index)), index=trade_date_index)\n",
    "\n",
    "enddate = datetime.datetime.now().strftime(\"%Y%m%d\")\n",
    "print(ts)\n",
    "print(ts['2016-01-01':enddate])"
   ]
  },
  {
   "cell_type": "code",
   "execution_count": null,
   "metadata": {},
   "outputs": [],
   "source": [
    "# 导出白酒成分股到csv\n",
    "stocks.to_csv(\"bj.csv\")"
   ]
  },
  {
   "cell_type": "code",
   "execution_count": null,
   "metadata": {},
   "outputs": [],
   "source": [
    "#股票股价走势\n",
    "import datetime\n",
    "\n",
    "startdate = datetime.date(2000,1,1)\n",
    "enddate = datetime.datetime.now().strftime(\"%Y%m%d\")\n",
    "\n",
    "trade_date_list= ak.tool_trade_date_hist_sina()\n",
    "all_trade_date = pd.to_datetime(trade_date_list[\"trade_date\"])\n",
    "all_trade_date.index = all_trade_date\n",
    "trade_date_index = all_trade_date[startdate:enddate]\n",
    "\n",
    "cl_dict = {}\n",
    "\n",
    "for i in tqdm(range(len(stocks))):\n",
    "# for i in range(3):\n",
    "    code = stocks.loc[i, \"代码\"]\n",
    "    name = stocks.loc[i, \"名称\"]\n",
    "    stock_hist = ak.stock_zh_a_hist(symbol=code, period=\"daily\", start_date=startdate.strftime(\"%Y%m%d\"), end_date=enddate, adjust=\"hfq\")\n",
    "    \n",
    "    stock_hist.to_csv(f\"{code}-stock.csv\")\n",
    "\n",
    "    cl = stock_hist[\"收盘\"]\n",
    "\n",
    "    ts = pd.Series(list(cl), index=pd.to_datetime(stock_hist[\"日期\"]).dt.date)\n",
    "    ts_high = pd.Series(list(stock_hist[\"最高\"]), index=pd.to_datetime(stock_hist[\"日期\"]).dt.date)\n",
    "    ts_low = pd.Series(list(stock_hist[\"最低\"]), index=pd.to_datetime(stock_hist[\"日期\"]).dt.date)\n",
    "\n",
    "    cl_dict[\"{}\".format(code)] = ts\n",
    "df_close = pd.DataFrame(cl_dict)  "
   ]
  },
  {
   "cell_type": "code",
   "execution_count": null,
   "metadata": {},
   "outputs": [],
   "source": [
    "stocks"
   ]
  },
  {
   "cell_type": "code",
   "execution_count": null,
   "metadata": {},
   "outputs": [],
   "source": [
    "ret = (1 + df_close.pct_change()).cumprod()\n",
    "print(ret)\n",
    "# ret.to_csv(\"ret.csv\")\n",
    "# df_close.to_csv(\"cl.csv\")\n",
    "\n",
    "# print(df_close.loc[\"2016-01-29\",  :])\n",
    "# print(df_close.resample('M').asfreq())"
   ]
  },
  {
   "cell_type": "code",
   "execution_count": null,
   "metadata": {},
   "outputs": [],
   "source": [
    "ret.plot(kind=\"line\")"
   ]
  },
  {
   "cell_type": "code",
   "execution_count": null,
   "metadata": {},
   "outputs": [],
   "source": [
    "print(df_close['600519'].resample('M').last())"
   ]
  },
  {
   "cell_type": "code",
   "execution_count": null,
   "metadata": {},
   "outputs": [],
   "source": [
    "print(df_close)"
   ]
  },
  {
   "cell_type": "code",
   "execution_count": null,
   "metadata": {},
   "outputs": [],
   "source": [
    "### 月收益率\n",
    "month_ret = df_close.pct_change().resample('M').apply(lambda x : ((1+x).prod() - 1))\n",
    "print(month_ret)"
   ]
  },
  {
   "cell_type": "code",
   "execution_count": null,
   "metadata": {},
   "outputs": [],
   "source": [
    "### 年度收益率\n",
    "year_ret = df_close.pct_change().resample('Y').apply(lambda x : ((1+x).prod() - 1))\n",
    "print(year_ret)"
   ]
  },
  {
   "cell_type": "code",
   "execution_count": null,
   "metadata": {},
   "outputs": [],
   "source": [
    "### 作图区\n",
    "\n",
    "ax1 = df_parent_profit['000858'].dropna().sort_index().plot(kind=\"bar\")\n",
    "\n",
    "pc = df_parent_profit['000858'].dropna().sort_index().pct_change()\n",
    "pc.fillna(0, inplace=True)\n",
    "\n",
    "ax2 = ax1.twinx()\n",
    "ax2.set_ylabel('change rate')\n",
    "ax2.set_ylim(-1,1)\n",
    "pc.plot(kind='line', marker='*', color='red', ms=10)"
   ]
  },
  {
   "cell_type": "code",
   "execution_count": null,
   "metadata": {},
   "outputs": [],
   "source": [
    "year_ret['000858'].plot(kind='bar')"
   ]
  },
  {
   "cell_type": "code",
   "execution_count": null,
   "metadata": {},
   "outputs": [],
   "source": [
    "df_dividents = pd.DataFrame()\n",
    "dividents_dict = {}\n",
    "\n",
    "for i in tqdm(range(len(stocks))):\n",
    "    market = 'sz'\n",
    "    code = stocks.loc[i, \"代码\"]\n",
    "    name = stocks.loc[i, \"名称\"]\n",
    "\n",
    "    dividents = ak.stock_dividents_cninfo(symbol=code)\n",
    "    # sg = pd.Series(list(dividents[\"送股比例\"]), index=pd.to_datetime(dividents[\"日期\"]))\n",
    "    # zz = pd.Series(list(dividents[\"转增比例\"]), index=pd.to_datetime(dividents[\"日期\"]))\n",
    "    dividents.to_csv(f\"{code}-div.csv\")\n",
    "    px = pd.Series(list(dividents[\"派息比例\"]), index=pd.to_datetime(dividents[\"报告时间\"]))\n",
    "\n",
    "    dividents_dict[\"{}-{}\".format(code, name)] = px\n",
    "\n",
    "df_dividents = pd.DataFrame(dividents_dict)\n",
    "df_dividents.fillna(0, inplace=True)"
   ]
  },
  {
   "cell_type": "code",
   "execution_count": null,
   "metadata": {},
   "outputs": [],
   "source": [
    "import akshare as ak\n",
    "from tqdm import tqdm \n",
    "import pandas as pd\n",
    "\n",
    "\n",
    "def balance_sheet_analyze(industry : str, name: str):\n",
    "    stocks = ak.stock_board_industry_cons_ths(symbol=industry)\n",
    "    index = ['资产总计', '负债合计', '所有者权益(或股东权益)合计', '未分配利润']\n",
    "    columns =  []\n",
    "    # date_index = None\n",
    "    report_all = pd.DataFrame()\n",
    "\n",
    "    for i in range(len(stocks)):\n",
    "        code = stocks.loc[i, \"代码\"]\n",
    "        columns.append(code)\n",
    "\n",
    "    for i in tqdm(range(len(stocks))):\n",
    "        code = stocks.loc[i, \"代码\"]\n",
    "\n",
    "        balance = ak.stock_financial_report_sina(stock=code, symbol=name)\n",
    "        # if date_index is None:\n",
    "            # print(pd.to_datetime(balance[\"报表日期\"]))\n",
    "        date_index = pd.to_datetime(balance[\"报表日期\"])\n",
    "\n",
    "        # if report_all is None:\n",
    "        #     report_all = pd.DataFrame(\n",
    "        #         # np.random.randn(204,1),\n",
    "        #         columns=columns,\n",
    "        #         index=pd.MultiIndex.from_product(\n",
    "        #             [date_index, index]\n",
    "        #         )\n",
    "        #     )            \n",
    "        report = pd.DataFrame(\n",
    "            # np.random.randn(204,1),\n",
    "            columns=[code],\n",
    "            index=pd.MultiIndex.from_product(\n",
    "                [date_index, index]\n",
    "            )\n",
    "        )   #             \n",
    "\n",
    "        for idx in range(len(index)):\n",
    "            # tmpDf = pd.DataFrame(balance[index[idx]], index=pd.to_datetime(balance[\"报表日期\"]))\n",
    "            report.loc[(slice(None), index[idx]), :] = balance[index[idx]].values\n",
    "        # print(report_all)\n",
    "        report_all = pd.concat([report_all, report], axis=1)\n",
    "        # print(report_all)\n",
    "\n",
    "    return report_all"
   ]
  },
  {
   "cell_type": "code",
   "execution_count": null,
   "metadata": {},
   "outputs": [],
   "source": [
    "df = balance_sheet_analyze(\"白酒\", \"资产负债表\")\n",
    "\n",
    "df.to_csv(\"bj_bal.csv\", encoding=\"utf_8_sig\")\n",
    "# print(df)"
   ]
  },
  {
   "cell_type": "code",
   "execution_count": null,
   "metadata": {},
   "outputs": [],
   "source": [
    "df.loc['2022-09', '000568']"
   ]
  },
  {
   "cell_type": "code",
   "execution_count": null,
   "metadata": {},
   "outputs": [],
   "source": [
    "df.sort_index(level=0).loc['2018-01':'2022-12', '资产总计', :].fillna(0).applymap(lambda x:format(float(x),','))"
   ]
  },
  {
   "cell_type": "code",
   "execution_count": null,
   "metadata": {},
   "outputs": [],
   "source": [
    "df.sort_index(level=0).loc['2018-01':'2022-12', '资产总计', :]"
   ]
  },
  {
   "cell_type": "code",
   "execution_count": null,
   "metadata": {},
   "outputs": [],
   "source": [
    "df.sort_index(level=0).loc['2018-01':'2022-12', '资产总计'].applymap(lambda x:format(int(x),','))"
   ]
  },
  {
   "cell_type": "markdown",
   "metadata": {},
   "source": [
    "idx = pd.IndexSlice\n",
    "df.sort_index(level=0).loc[\"2018-01\":\"2022-09\", :].apply(lambda x: format(x, ','))"
   ]
  }
 ],
 "metadata": {
  "kernelspec": {
   "display_name": "Python 3",
   "language": "python",
   "name": "python3"
  },
  "language_info": {
   "codemirror_mode": {
    "name": "ipython",
    "version": 3
   },
   "file_extension": ".py",
   "mimetype": "text/x-python",
   "name": "python",
   "nbconvert_exporter": "python",
   "pygments_lexer": "ipython3",
   "version": "3.9.8 (tags/v3.9.8:bb3fdcf, Nov  5 2021, 20:48:33) [MSC v.1929 64 bit (AMD64)]"
  },
  "orig_nbformat": 4,
  "vscode": {
   "interpreter": {
    "hash": "b4014b60265de7f80a801ece3da4a480cce03f2136c91739134aaed5b8cdff47"
   }
  }
 },
 "nbformat": 4,
 "nbformat_minor": 2
}
