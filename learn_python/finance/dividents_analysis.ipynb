{
 "cells": [
  {
   "cell_type": "code",
   "execution_count": 88,
   "metadata": {},
   "outputs": [],
   "source": [
    "import akshare as ak\n",
    "import matplotlib.pyplot as plt\n",
    "import numpy as np\n",
    "import pandas as pd\n",
    "from tqdm import tqdm\n",
    "import datetime\n",
    "import calendar\n",
    "\n",
    "# 获取板块股票\n",
    "def get_industry_stocks(industry='白酒') -> pd.DataFrame:\n",
    "    stocks = ak.stock_board_industry_cons_ths(symbol=industry)\n",
    "\n",
    "    return pd.DataFrame({\n",
    "        \"code\": stocks[\"代码\"],\n",
    "        \"name\": stocks[\"名称\"],\n",
    "        \"tradable\": stocks[\"流通股\"],\n",
    "        \"market_value\": stocks[\"流通市值\"]\n",
    "    })\n",
    "\n",
    "\n",
    "# 获取股票价格\n",
    "def get_stock_price(symbol: str, start_date: datetime, end_date: datetime, adjust: str) -> pd.DataFrame:\n",
    "    stock_hist = ak.stock_zh_a_hist(symbol=symbol, period=\"daily\", start_date=start_date.strftime(\"%Y%m%d\"), \n",
    "        end_date=end_date.strftime(\"%Y%m%d\"), adjust=adjust)\n",
    "    \n",
    "    return pd.DataFrame({\n",
    "        'open': list(stock_hist[\"开盘\"]),\n",
    "        'close': list(stock_hist[\"收盘\"]),\n",
    "        'high': list(stock_hist[\"最高\"]),\n",
    "        'low': list(stock_hist[\"最低\"]),\n",
    "    }, index=pd.to_datetime(stock_hist[\"日期\"]))\n",
    "\n",
    "def get_stock_eps(symbol: str) -> pd.DataFrame:\n",
    "    market = 'sz'\n",
    "    if (symbol.startswith('00') != True):\n",
    "        market ='sh'\n",
    "    stock = \"{}{}\".format(market, symbol)\n",
    "    profit_y = ak.stock_profit_sheet_by_yearly_em(symbol=stock)\n",
    "\n",
    "    eps = pd.Series(list(profit_y[\"BASIC_EPS\"]), index=pd.to_datetime(profit_y[\"REPORT_DATE\"]))\n",
    "\n",
    "    df_eps = pd.DataFrame({\n",
    "        \"eps\": eps\n",
    "        })\n",
    "    df_eps.fillna(0, inplace=True)\n",
    "\n",
    "    return df_eps\n",
    "\n",
    "def get_stock_dividents(symbol: str) -> pd.DataFrame:\n",
    "    df_dividents = pd.DataFrame()\n",
    "    dividents_dict = {}\n",
    "\n",
    "    dividents = ak.stock_dividents_cninfo(symbol=symbol)\n",
    "    \n",
    "    # print(dividents[\"报告时间\"])\n",
    "    dateIndex = dividents[\"报告时间\"].str[:4].apply(lambda x: datetime.date(int(x), 12, 31) if x is not None else None)\n",
    "    \n",
    "    df_dividents = pd.DataFrame({\n",
    "        \"sg\": list(dividents[\"送股比例\"]),\n",
    "        \"zz\": list(dividents[\"转增比例\"]),\n",
    "        \"px\": list(dividents[\"派息比例\"]),\n",
    "        \"desc\": list(dividents[\"实施方案分红说明\"]),\n",
    "        \"type\": list(dividents[\"分红类型\"])\n",
    "    }, index = pd.to_datetime(dateIndex))\n",
    "\n",
    "    df_dividents.index.set_names(\"REPORT_DATE\", inplace=True)\n",
    "    df_dividents.fillna(0, inplace=True)  \n",
    "\n",
    "    return df_dividents[df_dividents[\"type\"] == \"年度分红\"]"
   ]
  },
  {
   "cell_type": "code",
   "execution_count": 87,
   "metadata": {},
   "outputs": [
    {
     "name": "stdout",
     "output_type": "stream",
     "text": [
      "0       None\n",
      "1     2021年报\n",
      "2     2020年报\n",
      "3     2019年报\n",
      "4     2018年报\n",
      "5     2017年报\n",
      "6     2016年报\n",
      "7     2015年报\n",
      "8     2014年报\n",
      "9     2013年报\n",
      "10    2012年报\n",
      "11    2011年报\n",
      "12    2010年报\n",
      "13    2009年报\n",
      "14    2008年报\n",
      "15    2007年报\n",
      "16    2006年报\n",
      "17      None\n",
      "18      None\n",
      "19    2005年报\n",
      "20    2004年报\n",
      "21    2003年报\n",
      "22    2002年报\n",
      "23    2001年报\n",
      "Name: 报告时间, dtype: object\n",
      "              sg   zz      px              desc  type\n",
      "REPORT_DATE                                          \n",
      "2021-12-31   0.0  0.0  216.75    10派216.75元(含税)  年度分红\n",
      "2020-12-31   0.0  0.0  192.93    10派192.93元(含税)  年度分红\n",
      "2019-12-31   0.0  0.0  170.25    10派170.25元(含税)  年度分红\n",
      "2018-12-31   0.0  0.0  145.39    10派145.39元(含税)  年度分红\n",
      "2017-12-31   0.0  0.0  109.99    10派109.99元(含税)  年度分红\n",
      "2016-12-31   0.0  0.0   67.87     10派67.87元(含税)  年度分红\n",
      "2015-12-31   0.0  0.0   61.71     10派61.71元(含税)  年度分红\n",
      "2014-12-31   1.0  0.0   43.74  10送1股派43.74元(含税)  年度分红\n",
      "2013-12-31   1.0  0.0   43.74  10送1股派43.74元(含税)  年度分红\n",
      "2012-12-31   0.0  0.0   64.19     10派64.19元(含税)  年度分红\n",
      "2011-12-31   0.0  0.0   39.97     10派39.97元(含税)  年度分红\n",
      "2010-12-31   1.0  0.0   23.00     10送1股派23元(含税)  年度分红\n",
      "2009-12-31   0.0  0.0   11.85     10派11.85元（含税）  年度分红\n",
      "2008-12-31   0.0  0.0   11.56     10派11.56元（含税）  年度分红\n",
      "2007-12-31   0.0  0.0    8.36      10派8.36元（含税）  年度分红\n",
      "2006-12-31   0.0  0.0    7.00         10派7元（含税）  年度分红\n",
      "2005-12-31   0.0  0.0    3.00         10派3元（含税）  年度分红\n",
      "2004-12-31   0.0  2.0    5.00     10转增2股派5元(含税)  年度分红\n",
      "2003-12-31   0.0  3.0    3.00     10转增3股派3元(含税)  年度分红\n",
      "2002-12-31   1.0  0.0    2.00      10送1股派2元(含税)  年度分红\n",
      "2001-12-31   0.0  1.0    6.00     10转增1股派6元（含税）  年度分红\n"
     ]
    }
   ],
   "source": [
    "print(get_stock_dividents(\"600519\"))"
   ]
  },
  {
   "cell_type": "code",
   "execution_count": 95,
   "metadata": {},
   "outputs": [
    {
     "name": "stderr",
     "output_type": "stream",
     "text": [
      "  0%|          | 0/42 [00:00<?, ?it/s]       "
     ]
    },
    {
     "name": "stdout",
     "output_type": "stream",
     "text": [
      "002966\n"
     ]
    },
    {
     "name": "stderr",
     "output_type": "stream",
     "text": [
      "  2%|▏         | 1/42 [00:01<01:16,  1.87s/it]"
     ]
    },
    {
     "name": "stdout",
     "output_type": "stream",
     "text": [
      "601009\n"
     ]
    },
    {
     "name": "stderr",
     "output_type": "stream",
     "text": [
      "  5%|▍         | 2/42 [00:04<01:33,  2.35s/it]"
     ]
    },
    {
     "name": "stdout",
     "output_type": "stream",
     "text": [
      "601939\n"
     ]
    },
    {
     "name": "stderr",
     "output_type": "stream",
     "text": [
      "  7%|▋         | 3/42 [00:07<01:47,  2.76s/it]"
     ]
    },
    {
     "name": "stdout",
     "output_type": "stream",
     "text": [
      "600926\n"
     ]
    },
    {
     "name": "stderr",
     "output_type": "stream",
     "text": [
      " 10%|▉         | 4/42 [00:11<01:54,  3.02s/it]"
     ]
    },
    {
     "name": "stdout",
     "output_type": "stream",
     "text": [
      "000001\n"
     ]
    },
    {
     "name": "stderr",
     "output_type": "stream",
     "text": [
      " 12%|█▏        | 5/42 [00:15<02:08,  3.46s/it]"
     ]
    },
    {
     "name": "stdout",
     "output_type": "stream",
     "text": [
      "601665\n"
     ]
    },
    {
     "name": "stderr",
     "output_type": "stream",
     "text": [
      " 14%|█▍        | 6/42 [00:18<01:58,  3.29s/it]"
     ]
    },
    {
     "name": "stdout",
     "output_type": "stream",
     "text": [
      "002839\n"
     ]
    },
    {
     "name": "stderr",
     "output_type": "stream",
     "text": [
      " 17%|█▋        | 7/42 [00:20<01:42,  2.93s/it]"
     ]
    },
    {
     "name": "stdout",
     "output_type": "stream",
     "text": [
      "002142\n"
     ]
    },
    {
     "name": "stderr",
     "output_type": "stream",
     "text": [
      " 19%|█▉        | 8/42 [00:22<01:29,  2.62s/it]"
     ]
    },
    {
     "name": "stdout",
     "output_type": "stream",
     "text": [
      "601166\n"
     ]
    },
    {
     "name": "stderr",
     "output_type": "stream",
     "text": [
      " 21%|██▏       | 9/42 [00:25<01:25,  2.60s/it]"
     ]
    },
    {
     "name": "stdout",
     "output_type": "stream",
     "text": [
      "601187\n"
     ]
    },
    {
     "name": "stderr",
     "output_type": "stream",
     "text": [
      " 24%|██▍       | 10/42 [00:28<01:29,  2.81s/it]"
     ]
    },
    {
     "name": "stdout",
     "output_type": "stream",
     "text": [
      "600000\n"
     ]
    },
    {
     "name": "stderr",
     "output_type": "stream",
     "text": [
      " 26%|██▌       | 11/42 [00:31<01:31,  2.97s/it]"
     ]
    },
    {
     "name": "stdout",
     "output_type": "stream",
     "text": [
      "601825\n"
     ]
    },
    {
     "name": "stderr",
     "output_type": "stream",
     "text": [
      " 29%|██▊       | 12/42 [00:34<01:28,  2.96s/it]"
     ]
    },
    {
     "name": "stdout",
     "output_type": "stream",
     "text": [
      "600036\n"
     ]
    },
    {
     "name": "stderr",
     "output_type": "stream",
     "text": [
      " 31%|███       | 13/42 [00:38<01:30,  3.13s/it]"
     ]
    },
    {
     "name": "stdout",
     "output_type": "stream",
     "text": [
      "601998\n"
     ]
    },
    {
     "name": "stderr",
     "output_type": "stream",
     "text": [
      " 33%|███▎      | 14/42 [00:41<01:27,  3.12s/it]"
     ]
    },
    {
     "name": "stdout",
     "output_type": "stream",
     "text": [
      "601838\n"
     ]
    },
    {
     "name": "stderr",
     "output_type": "stream",
     "text": [
      " 36%|███▌      | 15/42 [00:43<01:20,  2.97s/it]"
     ]
    },
    {
     "name": "stdout",
     "output_type": "stream",
     "text": [
      "600919\n"
     ]
    },
    {
     "name": "stderr",
     "output_type": "stream",
     "text": [
      " 38%|███▊      | 16/42 [00:45<01:10,  2.69s/it]"
     ]
    },
    {
     "name": "stdout",
     "output_type": "stream",
     "text": [
      "601398\n"
     ]
    },
    {
     "name": "stderr",
     "output_type": "stream",
     "text": [
      " 40%|████      | 17/42 [00:47<00:59,  2.39s/it]"
     ]
    },
    {
     "name": "stdout",
     "output_type": "stream",
     "text": [
      "601577\n"
     ]
    },
    {
     "name": "stderr",
     "output_type": "stream",
     "text": [
      " 43%|████▎     | 18/42 [00:49<00:51,  2.16s/it]"
     ]
    },
    {
     "name": "stdout",
     "output_type": "stream",
     "text": [
      "601658\n"
     ]
    },
    {
     "name": "stderr",
     "output_type": "stream",
     "text": [
      " 45%|████▌     | 19/42 [00:50<00:45,  1.97s/it]"
     ]
    },
    {
     "name": "stdout",
     "output_type": "stream",
     "text": [
      "603323\n"
     ]
    },
    {
     "name": "stderr",
     "output_type": "stream",
     "text": [
      " 48%|████▊     | 20/42 [00:52<00:39,  1.81s/it]"
     ]
    },
    {
     "name": "stdout",
     "output_type": "stream",
     "text": [
      "600908\n"
     ]
    },
    {
     "name": "stderr",
     "output_type": "stream",
     "text": [
      " 50%|█████     | 21/42 [00:54<00:40,  1.93s/it]"
     ]
    },
    {
     "name": "stdout",
     "output_type": "stream",
     "text": [
      "601229\n"
     ]
    },
    {
     "name": "stderr",
     "output_type": "stream",
     "text": [
      " 52%|█████▏    | 22/42 [00:56<00:37,  1.89s/it]"
     ]
    },
    {
     "name": "stdout",
     "output_type": "stream",
     "text": [
      "601818\n"
     ]
    },
    {
     "name": "stderr",
     "output_type": "stream",
     "text": [
      " 55%|█████▍    | 23/42 [00:58<00:36,  1.90s/it]"
     ]
    },
    {
     "name": "stdout",
     "output_type": "stream",
     "text": [
      "002807\n"
     ]
    },
    {
     "name": "stderr",
     "output_type": "stream",
     "text": [
      " 57%|█████▋    | 24/42 [00:59<00:32,  1.83s/it]"
     ]
    },
    {
     "name": "stdout",
     "output_type": "stream",
     "text": [
      "601169\n"
     ]
    },
    {
     "name": "stderr",
     "output_type": "stream",
     "text": [
      " 60%|█████▉    | 25/42 [01:01<00:32,  1.90s/it]"
     ]
    },
    {
     "name": "stdout",
     "output_type": "stream",
     "text": [
      "601963\n"
     ]
    },
    {
     "name": "stderr",
     "output_type": "stream",
     "text": [
      " 62%|██████▏   | 26/42 [01:03<00:29,  1.85s/it]"
     ]
    },
    {
     "name": "stdout",
     "output_type": "stream",
     "text": [
      "601077\n"
     ]
    },
    {
     "name": "stderr",
     "output_type": "stream",
     "text": [
      " 64%|██████▍   | 27/42 [01:06<00:30,  2.01s/it]"
     ]
    },
    {
     "name": "stdout",
     "output_type": "stream",
     "text": [
      "601288\n"
     ]
    },
    {
     "name": "stderr",
     "output_type": "stream",
     "text": [
      " 67%|██████▋   | 28/42 [01:09<00:33,  2.37s/it]"
     ]
    },
    {
     "name": "stdout",
     "output_type": "stream",
     "text": [
      "601328\n"
     ]
    },
    {
     "name": "stderr",
     "output_type": "stream",
     "text": [
      " 69%|██████▉   | 29/42 [01:12<00:34,  2.64s/it]"
     ]
    },
    {
     "name": "stdout",
     "output_type": "stream",
     "text": [
      "601916\n"
     ]
    },
    {
     "name": "stderr",
     "output_type": "stream",
     "text": [
      " 71%|███████▏  | 30/42 [01:15<00:32,  2.74s/it]"
     ]
    },
    {
     "name": "stdout",
     "output_type": "stream",
     "text": [
      "600016\n"
     ]
    },
    {
     "name": "stderr",
     "output_type": "stream",
     "text": [
      " 74%|███████▍  | 31/42 [01:19<00:33,  3.08s/it]"
     ]
    },
    {
     "name": "stdout",
     "output_type": "stream",
     "text": [
      "600015\n"
     ]
    },
    {
     "name": "stderr",
     "output_type": "stream",
     "text": [
      " 76%|███████▌  | 32/42 [01:22<00:30,  3.09s/it]"
     ]
    },
    {
     "name": "stdout",
     "output_type": "stream",
     "text": [
      "002958\n"
     ]
    },
    {
     "name": "stderr",
     "output_type": "stream",
     "text": [
      " 79%|███████▊  | 33/42 [01:24<00:26,  2.91s/it]"
     ]
    },
    {
     "name": "stdout",
     "output_type": "stream",
     "text": [
      "601860\n"
     ]
    },
    {
     "name": "stderr",
     "output_type": "stream",
     "text": [
      " 81%|████████  | 34/42 [01:27<00:22,  2.87s/it]"
     ]
    },
    {
     "name": "stdout",
     "output_type": "stream",
     "text": [
      "601128\n"
     ]
    },
    {
     "name": "stderr",
     "output_type": "stream",
     "text": [
      " 83%|████████▎ | 35/42 [01:31<00:21,  3.06s/it]"
     ]
    },
    {
     "name": "stdout",
     "output_type": "stream",
     "text": [
      "001227\n"
     ]
    },
    {
     "name": "stderr",
     "output_type": "stream",
     "text": [
      " 83%|████████▎ | 35/42 [01:33<00:18,  2.68s/it]\n"
     ]
    },
    {
     "ename": "KeyError",
     "evalue": "'开盘'",
     "output_type": "error",
     "traceback": [
      "\u001b[0;31m---------------------------------------------------------------------------\u001b[0m",
      "\u001b[0;31mKeyError\u001b[0m                                  Traceback (most recent call last)",
      "File \u001b[0;32m~/Projects/example/learn_python/finance/venv/lib/python3.10/site-packages/pandas/core/indexes/base.py:3803\u001b[0m, in \u001b[0;36mIndex.get_loc\u001b[0;34m(self, key, method, tolerance)\u001b[0m\n\u001b[1;32m   3802\u001b[0m \u001b[39mtry\u001b[39;00m:\n\u001b[0;32m-> 3803\u001b[0m     \u001b[39mreturn\u001b[39;00m \u001b[39mself\u001b[39;49m\u001b[39m.\u001b[39;49m_engine\u001b[39m.\u001b[39;49mget_loc(casted_key)\n\u001b[1;32m   3804\u001b[0m \u001b[39mexcept\u001b[39;00m \u001b[39mKeyError\u001b[39;00m \u001b[39mas\u001b[39;00m err:\n",
      "File \u001b[0;32m~/Projects/example/learn_python/finance/venv/lib/python3.10/site-packages/pandas/_libs/index.pyx:138\u001b[0m, in \u001b[0;36mpandas._libs.index.IndexEngine.get_loc\u001b[0;34m()\u001b[0m\n",
      "File \u001b[0;32m~/Projects/example/learn_python/finance/venv/lib/python3.10/site-packages/pandas/_libs/index.pyx:165\u001b[0m, in \u001b[0;36mpandas._libs.index.IndexEngine.get_loc\u001b[0;34m()\u001b[0m\n",
      "File \u001b[0;32mpandas/_libs/hashtable_class_helper.pxi:5745\u001b[0m, in \u001b[0;36mpandas._libs.hashtable.PyObjectHashTable.get_item\u001b[0;34m()\u001b[0m\n",
      "File \u001b[0;32mpandas/_libs/hashtable_class_helper.pxi:5753\u001b[0m, in \u001b[0;36mpandas._libs.hashtable.PyObjectHashTable.get_item\u001b[0;34m()\u001b[0m\n",
      "\u001b[0;31mKeyError\u001b[0m: '开盘'",
      "\nThe above exception was the direct cause of the following exception:\n",
      "\u001b[0;31mKeyError\u001b[0m                                  Traceback (most recent call last)",
      "Cell \u001b[0;32mIn[95], line 11\u001b[0m\n\u001b[1;32m      9\u001b[0m df_div \u001b[39m=\u001b[39m get_stock_dividents(code)\n\u001b[1;32m     10\u001b[0m df_eps \u001b[39m=\u001b[39m get_stock_eps(code)\n\u001b[0;32m---> 11\u001b[0m price \u001b[39m=\u001b[39m get_stock_price(code, start_date\u001b[39m=\u001b[39;49mdatetime\u001b[39m.\u001b[39;49mdate(\u001b[39m2000\u001b[39;49m,\u001b[39m1\u001b[39;49m,\u001b[39m1\u001b[39;49m), end_date\u001b[39m=\u001b[39;49mdatetime\u001b[39m.\u001b[39;49mdate(\u001b[39m2021\u001b[39;49m,\u001b[39m12\u001b[39;49m,\u001b[39m31\u001b[39;49m), adjust\u001b[39m=\u001b[39;49m\u001b[39m\"\u001b[39;49m\u001b[39m\"\u001b[39;49m)\n\u001b[1;32m     13\u001b[0m df \u001b[39m=\u001b[39m pd\u001b[39m.\u001b[39mconcat([price\u001b[39m.\u001b[39mresample(\u001b[39m'\u001b[39m\u001b[39mY\u001b[39m\u001b[39m'\u001b[39m)[\u001b[39m\"\u001b[39m\u001b[39mlow\u001b[39m\u001b[39m\"\u001b[39m]\u001b[39m.\u001b[39mmin(),price\u001b[39m.\u001b[39mresample(\u001b[39m'\u001b[39m\u001b[39mY\u001b[39m\u001b[39m'\u001b[39m)[\u001b[39m\"\u001b[39m\u001b[39mhigh\u001b[39m\u001b[39m\"\u001b[39m]\u001b[39m.\u001b[39mmax(), df_eps, df_div], axis\u001b[39m=\u001b[39m\u001b[39m1\u001b[39m, join\u001b[39m=\u001b[39m\u001b[39m'\u001b[39m\u001b[39mouter\u001b[39m\u001b[39m'\u001b[39m)\n\u001b[1;32m     14\u001b[0m df[\u001b[39m\"\u001b[39m\u001b[39m2010\u001b[39m\u001b[39m\"\u001b[39m:]\u001b[39m.\u001b[39mto_excel(\u001b[39mf\u001b[39m\u001b[39m\"\u001b[39m\u001b[39m./银行/\u001b[39m\u001b[39m{\u001b[39;00mcode\u001b[39m}\u001b[39;00m\u001b[39m-\u001b[39m\u001b[39m{\u001b[39;00mname\u001b[39m}\u001b[39;00m\u001b[39m.xlsx\u001b[39m\u001b[39m\"\u001b[39m)\n",
      "Cell \u001b[0;32mIn[88], line 27\u001b[0m, in \u001b[0;36mget_stock_price\u001b[0;34m(symbol, start_date, end_date, adjust)\u001b[0m\n\u001b[1;32m     22\u001b[0m \u001b[39mdef\u001b[39;00m \u001b[39mget_stock_price\u001b[39m(symbol: \u001b[39mstr\u001b[39m, start_date: datetime, end_date: datetime, adjust: \u001b[39mstr\u001b[39m) \u001b[39m-\u001b[39m\u001b[39m>\u001b[39m pd\u001b[39m.\u001b[39mDataFrame:\n\u001b[1;32m     23\u001b[0m     stock_hist \u001b[39m=\u001b[39m ak\u001b[39m.\u001b[39mstock_zh_a_hist(symbol\u001b[39m=\u001b[39msymbol, period\u001b[39m=\u001b[39m\u001b[39m\"\u001b[39m\u001b[39mdaily\u001b[39m\u001b[39m\"\u001b[39m, start_date\u001b[39m=\u001b[39mstart_date\u001b[39m.\u001b[39mstrftime(\u001b[39m\"\u001b[39m\u001b[39m%\u001b[39m\u001b[39mY\u001b[39m\u001b[39m%\u001b[39m\u001b[39mm\u001b[39m\u001b[39m%d\u001b[39;00m\u001b[39m\"\u001b[39m), \n\u001b[1;32m     24\u001b[0m         end_date\u001b[39m=\u001b[39mend_date\u001b[39m.\u001b[39mstrftime(\u001b[39m\"\u001b[39m\u001b[39m%\u001b[39m\u001b[39mY\u001b[39m\u001b[39m%\u001b[39m\u001b[39mm\u001b[39m\u001b[39m%d\u001b[39;00m\u001b[39m\"\u001b[39m), adjust\u001b[39m=\u001b[39madjust)\n\u001b[1;32m     26\u001b[0m     \u001b[39mreturn\u001b[39;00m pd\u001b[39m.\u001b[39mDataFrame({\n\u001b[0;32m---> 27\u001b[0m         \u001b[39m'\u001b[39m\u001b[39mopen\u001b[39m\u001b[39m'\u001b[39m: \u001b[39mlist\u001b[39m(stock_hist[\u001b[39m\"\u001b[39;49m\u001b[39m开盘\u001b[39;49m\u001b[39m\"\u001b[39;49m]),\n\u001b[1;32m     28\u001b[0m         \u001b[39m'\u001b[39m\u001b[39mclose\u001b[39m\u001b[39m'\u001b[39m: \u001b[39mlist\u001b[39m(stock_hist[\u001b[39m\"\u001b[39m\u001b[39m收盘\u001b[39m\u001b[39m\"\u001b[39m]),\n\u001b[1;32m     29\u001b[0m         \u001b[39m'\u001b[39m\u001b[39mhigh\u001b[39m\u001b[39m'\u001b[39m: \u001b[39mlist\u001b[39m(stock_hist[\u001b[39m\"\u001b[39m\u001b[39m最高\u001b[39m\u001b[39m\"\u001b[39m]),\n\u001b[1;32m     30\u001b[0m         \u001b[39m'\u001b[39m\u001b[39mlow\u001b[39m\u001b[39m'\u001b[39m: \u001b[39mlist\u001b[39m(stock_hist[\u001b[39m\"\u001b[39m\u001b[39m最低\u001b[39m\u001b[39m\"\u001b[39m]),\n\u001b[1;32m     31\u001b[0m     }, index\u001b[39m=\u001b[39mpd\u001b[39m.\u001b[39mto_datetime(stock_hist[\u001b[39m\"\u001b[39m\u001b[39m日期\u001b[39m\u001b[39m\"\u001b[39m]))\n",
      "File \u001b[0;32m~/Projects/example/learn_python/finance/venv/lib/python3.10/site-packages/pandas/core/frame.py:3805\u001b[0m, in \u001b[0;36mDataFrame.__getitem__\u001b[0;34m(self, key)\u001b[0m\n\u001b[1;32m   3803\u001b[0m \u001b[39mif\u001b[39;00m \u001b[39mself\u001b[39m\u001b[39m.\u001b[39mcolumns\u001b[39m.\u001b[39mnlevels \u001b[39m>\u001b[39m \u001b[39m1\u001b[39m:\n\u001b[1;32m   3804\u001b[0m     \u001b[39mreturn\u001b[39;00m \u001b[39mself\u001b[39m\u001b[39m.\u001b[39m_getitem_multilevel(key)\n\u001b[0;32m-> 3805\u001b[0m indexer \u001b[39m=\u001b[39m \u001b[39mself\u001b[39;49m\u001b[39m.\u001b[39;49mcolumns\u001b[39m.\u001b[39;49mget_loc(key)\n\u001b[1;32m   3806\u001b[0m \u001b[39mif\u001b[39;00m is_integer(indexer):\n\u001b[1;32m   3807\u001b[0m     indexer \u001b[39m=\u001b[39m [indexer]\n",
      "File \u001b[0;32m~/Projects/example/learn_python/finance/venv/lib/python3.10/site-packages/pandas/core/indexes/base.py:3805\u001b[0m, in \u001b[0;36mIndex.get_loc\u001b[0;34m(self, key, method, tolerance)\u001b[0m\n\u001b[1;32m   3803\u001b[0m     \u001b[39mreturn\u001b[39;00m \u001b[39mself\u001b[39m\u001b[39m.\u001b[39m_engine\u001b[39m.\u001b[39mget_loc(casted_key)\n\u001b[1;32m   3804\u001b[0m \u001b[39mexcept\u001b[39;00m \u001b[39mKeyError\u001b[39;00m \u001b[39mas\u001b[39;00m err:\n\u001b[0;32m-> 3805\u001b[0m     \u001b[39mraise\u001b[39;00m \u001b[39mKeyError\u001b[39;00m(key) \u001b[39mfrom\u001b[39;00m \u001b[39merr\u001b[39;00m\n\u001b[1;32m   3806\u001b[0m \u001b[39mexcept\u001b[39;00m \u001b[39mTypeError\u001b[39;00m:\n\u001b[1;32m   3807\u001b[0m     \u001b[39m# If we have a listlike key, _check_indexing_error will raise\u001b[39;00m\n\u001b[1;32m   3808\u001b[0m     \u001b[39m#  InvalidIndexError. Otherwise we fall through and re-raise\u001b[39;00m\n\u001b[1;32m   3809\u001b[0m     \u001b[39m#  the TypeError.\u001b[39;00m\n\u001b[1;32m   3810\u001b[0m     \u001b[39mself\u001b[39m\u001b[39m.\u001b[39m_check_indexing_error(key)\n",
      "\u001b[0;31mKeyError\u001b[0m: '开盘'"
     ]
    }
   ],
   "source": [
    "stocks = get_industry_stocks(\"银行\")\n",
    "\n",
    "\n",
    "for i in tqdm(range(len(stocks))):\n",
    "    code = stocks.loc[i, \"code\"]\n",
    "    name = stocks.loc[i, \"name\"]\n",
    "    print(code)\n",
    "\n",
    "    df_div = get_stock_dividents(code)\n",
    "    df_eps = get_stock_eps(code)\n",
    "    price = get_stock_price(code, start_date=datetime.date(2000,1,1), end_date=datetime.date(2021,12,31), adjust=\"\")\n",
    "\n",
    "    df = pd.concat([price.resample('Y')[\"low\"].min(),price.resample('Y')[\"high\"].max(), df_eps, df_div], axis=1, join='outer')\n",
    "    df[\"2010\":].to_excel(f\"./银行/{code}-{name}.xlsx\")"
   ]
  },
  {
   "cell_type": "code",
   "execution_count": 92,
   "metadata": {},
   "outputs": [],
   "source": [
    "ak.stock_board_industry_name_ths().to_csv(\"行业.csv\")"
   ]
  }
 ],
 "metadata": {
  "kernelspec": {
   "display_name": "venv",
   "language": "python",
   "name": "python3"
  },
  "language_info": {
   "codemirror_mode": {
    "name": "ipython",
    "version": 3
   },
   "file_extension": ".py",
   "mimetype": "text/x-python",
   "name": "python",
   "nbconvert_exporter": "python",
   "pygments_lexer": "ipython3",
   "version": "3.10.8"
  },
  "orig_nbformat": 4,
  "vscode": {
   "interpreter": {
    "hash": "515b76cff5e7a48da03ec4cc7c961f652c9e003e79789e2018eab9b2107be02c"
   }
  }
 },
 "nbformat": 4,
 "nbformat_minor": 2
}
