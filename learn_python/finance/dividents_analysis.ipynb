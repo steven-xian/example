{
 "cells": [
  {
   "cell_type": "code",
   "execution_count": 126,
   "metadata": {},
   "outputs": [],
   "source": [
    "import akshare as ak\n",
    "import matplotlib.pyplot as plt\n",
    "import numpy as np\n",
    "import pandas as pd\n",
    "from tqdm import tqdm\n",
    "from datetime import datetime\n",
    "import calendar\n",
    "import shutil\n",
    "import os\n",
    "\n",
    "# 获取板块股票\n",
    "def get_industry_stocks(industry='白酒') -> pd.DataFrame:\n",
    "    stocks = ak.stock_board_industry_cons_ths(symbol=industry)\n",
    "\n",
    "    return pd.DataFrame({\n",
    "        \"code\": stocks[\"代码\"],\n",
    "        \"name\": stocks[\"名称\"],\n",
    "        \"tradable\": stocks[\"流通股\"],\n",
    "        \"market_value\": stocks[\"流通市值\"]\n",
    "    })\n",
    "\n",
    "\n",
    "# 获取股票价格\n",
    "def get_stock_price(symbol: str, start_date: datetime, end_date: datetime, adjust: str) -> pd.DataFrame:\n",
    "    stock_hist = ak.stock_zh_a_hist(symbol=symbol, period=\"daily\", start_date=start_date.strftime(\"%Y%m%d\"), \n",
    "        end_date=end_date.strftime(\"%Y%m%d\"), adjust=adjust)\n",
    "    \n",
    "    # print(stock_hist)\n",
    "    return pd.DataFrame({\n",
    "        'open': list(stock_hist[\"开盘\"]),\n",
    "        'close': list(stock_hist[\"收盘\"]),\n",
    "        'high': list(stock_hist[\"最高\"]),\n",
    "        'low': list(stock_hist[\"最低\"]),\n",
    "    }, index=pd.to_datetime(stock_hist[\"日期\"]))\n",
    "\n",
    "def get_stock_eps(symbol: str) -> pd.DataFrame:\n",
    "    market = 'sz'\n",
    "    if (symbol.startswith('00') != True):\n",
    "        market ='sh'\n",
    "    stock = \"{}{}\".format(market, symbol)\n",
    "    profit_y = ak.stock_profit_sheet_by_yearly_em(symbol=stock)\n",
    "\n",
    "    eps = pd.Series(list(profit_y[\"BASIC_EPS\"]), index=pd.to_datetime(profit_y[\"REPORT_DATE\"]))\n",
    "\n",
    "    df_eps = pd.DataFrame({\n",
    "        \"eps\": eps,\n",
    "        })\n",
    "    df_eps[\"eps_pct\"] = df_eps.sort_index().pct_change()\n",
    "    # print(df_eps)\n",
    "    df_eps.fillna(0, inplace=True)\n",
    "\n",
    "    return df_eps\n",
    "\n",
    "def get_stock_dividents(symbol: str) -> pd.DataFrame:\n",
    "    df_dividents = pd.DataFrame()\n",
    "    dividents_dict = {}\n",
    "\n",
    "    dividents = ak.stock_dividents_cninfo(symbol=symbol)\n",
    "    \n",
    "    # print(dividents[\"报告时间\"])\n",
    "    dateIndex = dividents[\"报告时间\"].str[:4].apply(lambda x: datetime(int(x), 12, 31) if x is not None else None)\n",
    "    \n",
    "    df_dividents = pd.DataFrame({\n",
    "        \"sg\": list(dividents[\"送股比例\"]),\n",
    "        \"zz\": list(dividents[\"转增比例\"]),\n",
    "        \"px\": list(dividents[\"派息比例\"]),\n",
    "        \"desc\": list(dividents[\"实施方案分红说明\"]),\n",
    "        \"type\": list(dividents[\"分红类型\"])\n",
    "    }, index = pd.to_datetime(dateIndex))\n",
    "\n",
    "    df_dividents = df_dividents[df_dividents[\"type\"] == \"年度分红\"]\n",
    "    # print(df_dividents)\n",
    "\n",
    "    df_dividents.index.set_names(\"REPORT_DATE\", inplace=True)\n",
    "    df_dividents[\"px_pct\"] = df_dividents[\"px\"].sort_index().pct_change()\n",
    "    df_dividents.fillna(0, inplace=True)  \n",
    "\n",
    "    return df_dividents\n",
    "\n",
    "def export_industry_dividents(industry : str):\n",
    "    stocks = get_industry_stocks(industry)\n",
    "    # try:\n",
    "    #     shutil.rmtree(industry)\n",
    "    #     os.mkdir(industry)\n",
    "    # except:\n",
    "    #     os.mkdir(industry)\n",
    "\n",
    "    start_date = datetime(2013,1,1)\n",
    "    end_date = datetime.now()\n",
    "\n",
    "    filepath = f\"./{industry}.xlsx\"\n",
    "    xlswriter = pd.ExcelWriter(filepath)\n",
    "\n",
    "    for i in tqdm(range(len(stocks))):\n",
    "        code = stocks.loc[i, \"code\"]\n",
    "        name = stocks.loc[i, \"name\"]\n",
    "        print(code)\n",
    "\n",
    "        stock_info = ak.stock_individual_info_em(symbol=code)\n",
    "        # print(stock_info)\n",
    "        # print(stock_info.loc[\"上市时间\"])\n",
    "        ipo_date = datetime.strptime(str(stock_info[\"value\"].loc[3]), '%Y%m%d')\n",
    "\n",
    "        if ipo_date > start_date:\n",
    "            print('stock ({}) ipo date ({}) is too late'.format(code, ipo_date))\n",
    "            continue\n",
    "\n",
    "        df_div = get_stock_dividents(code)\n",
    "        df_eps = get_stock_eps(code)\n",
    "        # df_eps_pct = df_eps.pct_change()\n",
    "        price = get_stock_price(code, start_date=start_date, end_date=end_date, adjust=\"\")\n",
    "        # print(price[\"close\"][-1])\n",
    "\n",
    "        df_div[\"interest\"] = df_div[\"px\"] / (price.resample('Y')[\"close\"].last() * 10)\n",
    "\n",
    "        df = pd.concat([price.resample('Y')[\"low\"].min(),price.resample('Y')[\"high\"].max(), price.resample('Y')[\"close\"].last(), df_eps, df_div], axis=1, join='outer')\n",
    "        \n",
    "        df[\"2010\":].to_excel(xlswriter, sheet_name=f'{code}-{name}'.replace('*', ''), index=True)\n",
    "\n",
    "    xlswriter.close()"
   ]
  },
  {
   "cell_type": "code",
   "execution_count": 127,
   "metadata": {},
   "outputs": [
    {
     "name": "stderr",
     "output_type": "stream",
     "text": [
      "e:\\Python\\Python39\\lib\\site-packages\\pandas\\compat\\_optional.py:161: UserWarning: Pandas requires version '1.2.2' or newer of 'xlsxwriter' (version '1.1.2' currently installed).\n",
      "  warnings.warn(msg, UserWarning)\n",
      "  0%|          | 0/20 [00:00<?, ?it/s]"
     ]
    },
    {
     "name": "stdout",
     "output_type": "stream",
     "text": [
      "600779\n"
     ]
    },
    {
     "name": "stderr",
     "output_type": "stream",
     "text": [
      "  5%|▌         | 1/20 [00:01<00:29,  1.55s/it]"
     ]
    },
    {
     "name": "stdout",
     "output_type": "stream",
     "text": [
      "600199\n"
     ]
    },
    {
     "name": "stderr",
     "output_type": "stream",
     "text": [
      " 10%|█         | 2/20 [00:02<00:25,  1.44s/it]"
     ]
    },
    {
     "name": "stdout",
     "output_type": "stream",
     "text": [
      "603919\n"
     ]
    },
    {
     "name": "stderr",
     "output_type": "stream",
     "text": [
      " 15%|█▌        | 3/20 [00:03<00:15,  1.07it/s]"
     ]
    },
    {
     "name": "stdout",
     "output_type": "stream",
     "text": [
      "stock (603919) ipo date (2016-03-10 00:00:00) is too late\n",
      "000799\n"
     ]
    },
    {
     "name": "stderr",
     "output_type": "stream",
     "text": [
      " 20%|██        | 4/20 [00:04<00:17,  1.10s/it]"
     ]
    },
    {
     "name": "stdout",
     "output_type": "stream",
     "text": [
      "002646\n"
     ]
    },
    {
     "name": "stderr",
     "output_type": "stream",
     "text": [
      " 25%|██▌       | 5/20 [00:05<00:16,  1.12s/it]"
     ]
    },
    {
     "name": "stdout",
     "output_type": "stream",
     "text": [
      "600559\n"
     ]
    },
    {
     "name": "stderr",
     "output_type": "stream",
     "text": [
      " 30%|███       | 6/20 [00:07<00:16,  1.18s/it]"
     ]
    },
    {
     "name": "stdout",
     "output_type": "stream",
     "text": [
      "000858\n"
     ]
    },
    {
     "name": "stderr",
     "output_type": "stream",
     "text": [
      " 35%|███▌      | 7/20 [00:08<00:16,  1.26s/it]"
     ]
    },
    {
     "name": "stdout",
     "output_type": "stream",
     "text": [
      "603198\n"
     ]
    },
    {
     "name": "stderr",
     "output_type": "stream",
     "text": [
      " 40%|████      | 8/20 [00:08<00:11,  1.04it/s]"
     ]
    },
    {
     "name": "stdout",
     "output_type": "stream",
     "text": [
      "stock (603198) ipo date (2015-05-28 00:00:00) is too late\n",
      "600702\n"
     ]
    },
    {
     "name": "stderr",
     "output_type": "stream",
     "text": [
      " 45%|████▌     | 9/20 [00:10<00:12,  1.13s/it]"
     ]
    },
    {
     "name": "stdout",
     "output_type": "stream",
     "text": [
      "000568\n"
     ]
    },
    {
     "name": "stderr",
     "output_type": "stream",
     "text": [
      " 50%|█████     | 10/20 [00:12<00:13,  1.32s/it]"
     ]
    },
    {
     "name": "stdout",
     "output_type": "stream",
     "text": [
      "600696\n"
     ]
    },
    {
     "name": "stderr",
     "output_type": "stream",
     "text": [
      " 55%|█████▌    | 11/20 [00:13<00:12,  1.33s/it]"
     ]
    },
    {
     "name": "stdout",
     "output_type": "stream",
     "text": [
      "603369\n"
     ]
    },
    {
     "name": "stderr",
     "output_type": "stream",
     "text": [
      " 60%|██████    | 12/20 [00:13<00:08,  1.03s/it]"
     ]
    },
    {
     "name": "stdout",
     "output_type": "stream",
     "text": [
      "stock (603369) ipo date (2014-07-03 00:00:00) is too late\n",
      "603589\n"
     ]
    },
    {
     "name": "stderr",
     "output_type": "stream",
     "text": [
      " 65%|██████▌   | 13/20 [00:14<00:05,  1.22it/s]"
     ]
    },
    {
     "name": "stdout",
     "output_type": "stream",
     "text": [
      "stock (603589) ipo date (2015-06-29 00:00:00) is too late\n",
      "600809\n"
     ]
    },
    {
     "name": "stderr",
     "output_type": "stream",
     "text": [
      " 70%|███████   | 14/20 [00:15<00:05,  1.01it/s]"
     ]
    },
    {
     "name": "stdout",
     "output_type": "stream",
     "text": [
      "002304\n"
     ]
    },
    {
     "name": "stderr",
     "output_type": "stream",
     "text": [
      " 75%|███████▌  | 15/20 [00:16<00:05,  1.07s/it]"
     ]
    },
    {
     "name": "stdout",
     "output_type": "stream",
     "text": [
      "600197\n"
     ]
    },
    {
     "name": "stderr",
     "output_type": "stream",
     "text": [
      " 80%|████████  | 16/20 [00:18<00:04,  1.14s/it]"
     ]
    },
    {
     "name": "stdout",
     "output_type": "stream",
     "text": [
      "600519\n"
     ]
    },
    {
     "name": "stderr",
     "output_type": "stream",
     "text": [
      " 85%|████████▌ | 17/20 [00:20<00:04,  1.65s/it]"
     ]
    },
    {
     "name": "stdout",
     "output_type": "stream",
     "text": [
      "000995\n"
     ]
    },
    {
     "name": "stderr",
     "output_type": "stream",
     "text": [
      " 90%|█████████ | 18/20 [00:22<00:03,  1.54s/it]"
     ]
    },
    {
     "name": "stdout",
     "output_type": "stream",
     "text": [
      "000596\n"
     ]
    },
    {
     "name": "stderr",
     "output_type": "stream",
     "text": [
      " 95%|█████████▌| 19/20 [00:24<00:01,  1.93s/it]"
     ]
    },
    {
     "name": "stdout",
     "output_type": "stream",
     "text": [
      "000860\n"
     ]
    },
    {
     "name": "stderr",
     "output_type": "stream",
     "text": [
      "100%|██████████| 20/20 [00:27<00:00,  1.37s/it]\n"
     ]
    }
   ],
   "source": [
    "export_industry_dividents(\"白酒\")"
   ]
  },
  {
   "cell_type": "code",
   "execution_count": 19,
   "metadata": {},
   "outputs": [],
   "source": [
    "stock_info = ak.stock_individual_info_em(symbol=\"600036\")\n"
   ]
  },
  {
   "cell_type": "code",
   "execution_count": 53,
   "metadata": {},
   "outputs": [
    {
     "name": "stdout",
     "output_type": "stream",
     "text": [
      "   item                value\n",
      "0   总市值  922037555172.560059\n",
      "1  流通市值   754194208324.23999\n",
      "2    行业                   银行\n",
      "3  上市时间             20020409\n",
      "4  股票代码               600036\n",
      "5  股票简称                 招商银行\n",
      "6   总股本        25219845601.0\n",
      "7   流通股        20628944429.0\n"
     ]
    },
    {
     "data": {
      "text/plain": [
       "datetime.datetime(2002, 4, 9, 0, 0)"
      ]
     },
     "execution_count": 53,
     "metadata": {},
     "output_type": "execute_result"
    }
   ],
   "source": [
    "print(stock_info)\n",
    "datetime.strptime(str(stock_info[\"value\"].loc[3]), '%Y%m%d')\n",
    "# print(stock_info.loc[\"上市时间\"])\n",
    "    # ipo_date = datetime.strptime(stock_info.loc[\"上市时间\"], 'YYYYMMdd')"
   ]
  },
  {
   "cell_type": "code",
   "execution_count": 95,
   "metadata": {},
   "outputs": [],
   "source": [
    "ak.stock_board_industry_name_ths().to_csv(\"行业.csv\")\n",
    "# price = get_stock_price(\"001227\", start_date=datetime.date(2000,1,1), end_date=datetime.date(2021,12,31), adjust=\"\")"
   ]
  }
 ],
 "metadata": {
  "kernelspec": {
   "display_name": "Python 3",
   "language": "python",
   "name": "python3"
  },
  "language_info": {
   "codemirror_mode": {
    "name": "ipython",
    "version": 3
   },
   "file_extension": ".py",
   "mimetype": "text/x-python",
   "name": "python",
   "nbconvert_exporter": "python",
   "pygments_lexer": "ipython3",
   "version": "3.9.8"
  },
  "orig_nbformat": 4,
  "vscode": {
   "interpreter": {
    "hash": "b4014b60265de7f80a801ece3da4a480cce03f2136c91739134aaed5b8cdff47"
   }
  }
 },
 "nbformat": 4,
 "nbformat_minor": 2
}
