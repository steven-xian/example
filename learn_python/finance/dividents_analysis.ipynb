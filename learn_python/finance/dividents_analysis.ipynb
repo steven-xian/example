{
 "cells": [
  {
   "cell_type": "code",
   "execution_count": 98,
   "metadata": {},
   "outputs": [],
   "source": [
    "import akshare as ak\n",
    "import matplotlib.pyplot as plt\n",
    "import numpy as np\n",
    "import pandas as pd\n",
    "from tqdm import tqdm\n",
    "from datetime import datetime\n",
    "import calendar\n",
    "import shutil\n",
    "import os\n",
    "\n",
    "# 获取板块股票\n",
    "def get_industry_stocks(industry='白酒') -> pd.DataFrame:\n",
    "    stocks = ak.stock_board_industry_cons_ths(symbol=industry)\n",
    "\n",
    "    return pd.DataFrame({\n",
    "        \"code\": stocks[\"代码\"],\n",
    "        \"name\": stocks[\"名称\"],\n",
    "        \"tradable\": stocks[\"流通股\"],\n",
    "        \"market_value\": stocks[\"流通市值\"]\n",
    "    })\n",
    "\n",
    "\n",
    "# 获取股票价格\n",
    "def get_stock_price(symbol: str, start_date: datetime, end_date: datetime, adjust: str) -> pd.DataFrame:\n",
    "    stock_hist = ak.stock_zh_a_hist(symbol=symbol, period=\"daily\", start_date=start_date.strftime(\"%Y%m%d\"), \n",
    "        end_date=end_date.strftime(\"%Y%m%d\"), adjust=adjust)\n",
    "    \n",
    "    # print(stock_hist)\n",
    "    return pd.DataFrame({\n",
    "        'open': list(stock_hist[\"开盘\"]),\n",
    "        'close': list(stock_hist[\"收盘\"]),\n",
    "        'high': list(stock_hist[\"最高\"]),\n",
    "        'low': list(stock_hist[\"最低\"]),\n",
    "    }, index=pd.to_datetime(stock_hist[\"日期\"]))\n",
    "\n",
    "def get_stock_eps(symbol: str) -> pd.DataFrame:\n",
    "    market = 'sz'\n",
    "    if (symbol.startswith('00') != True):\n",
    "        market ='sh'\n",
    "    stock = \"{}{}\".format(market, symbol)\n",
    "    profit_y = ak.stock_profit_sheet_by_yearly_em(symbol=stock)\n",
    "\n",
    "    eps = pd.Series(list(profit_y[\"BASIC_EPS\"]), index=pd.to_datetime(profit_y[\"REPORT_DATE\"]))\n",
    "\n",
    "    df_eps = pd.DataFrame({\n",
    "        \"eps\": eps,\n",
    "        })\n",
    "    df_eps[\"eps_pct\"] = df_eps.sort_index().pct_change()\n",
    "    # print(df_eps)\n",
    "    df_eps.fillna(0, inplace=True)\n",
    "\n",
    "    return df_eps\n",
    "\n",
    "def get_stock_dividents(symbol: str) -> pd.DataFrame:\n",
    "    df_dividents = pd.DataFrame()\n",
    "    dividents_dict = {}\n",
    "\n",
    "    dividents = ak.stock_dividents_cninfo(symbol=symbol)\n",
    "    \n",
    "    # print(dividents[\"报告时间\"])\n",
    "    dateIndex = dividents[\"报告时间\"].str[:4].apply(lambda x: datetime(int(x), 12, 31) if x is not None else None)\n",
    "    \n",
    "    df_dividents = pd.DataFrame({\n",
    "        \"sg\": list(dividents[\"送股比例\"]),\n",
    "        \"zz\": list(dividents[\"转增比例\"]),\n",
    "        \"px\": list(dividents[\"派息比例\"]),\n",
    "        \"desc\": list(dividents[\"实施方案分红说明\"]),\n",
    "        \"type\": list(dividents[\"分红类型\"])\n",
    "    }, index = pd.to_datetime(dateIndex))\n",
    "\n",
    "    df_dividents = df_dividents[df_dividents[\"type\"] == \"年度分红\"]\n",
    "    # print(df_dividents)\n",
    "\n",
    "    df_dividents.index.set_names(\"REPORT_DATE\", inplace=True)\n",
    "    df_dividents[\"px_pct\"] = df_dividents[\"px\"].sort_index().pct_change()\n",
    "    df_dividents.fillna(0, inplace=True)  \n",
    "\n",
    "    return df_dividents\n",
    "\n",
    "def export_industry_dividents(industry : str):\n",
    "    stocks = get_industry_stocks(industry)\n",
    "    try:\n",
    "        shutil.rmtree(industry)\n",
    "        os.mkdir(industry)\n",
    "    except:\n",
    "        os.mkdir(industry)\n",
    "\n",
    "    start_date = datetime(2013,1,1)\n",
    "    for i in tqdm(range(len(stocks))):\n",
    "        code = stocks.loc[i, \"code\"]\n",
    "        name = stocks.loc[i, \"name\"]\n",
    "        print(code)\n",
    "\n",
    "        stock_info = ak.stock_individual_info_em(symbol=code)\n",
    "        # print(stock_info)\n",
    "        # print(stock_info.loc[\"上市时间\"])\n",
    "        ipo_date = datetime.strptime(str(stock_info[\"value\"].loc[3]), '%Y%m%d')\n",
    "\n",
    "        if ipo_date > start_date:\n",
    "            print('stock ({}) ipo date ({}) is too late'.format(code, ipo_date))\n",
    "            continue\n",
    "\n",
    "        df_div = get_stock_dividents(code)\n",
    "        df_eps = get_stock_eps(code)\n",
    "        # df_eps_pct = df_eps.pct_change()\n",
    "        price = get_stock_price(code, start_date=start_date, end_date=datetime(2021,12,31), adjust=\"\")\n",
    "\n",
    "        df = pd.concat([price.resample('Y')[\"low\"].min(),price.resample('Y')[\"high\"].max(), df_eps, df_div], axis=1, join='outer')\n",
    "        df[\"2010\":].to_excel(f\"./{industry}/{code}-{name}.xlsx\".replace(\"*\", \"\"))    "
   ]
  },
  {
   "cell_type": "code",
   "execution_count": 101,
   "metadata": {},
   "outputs": [
    {
     "name": "stderr",
     "output_type": "stream",
     "text": [
      "  0%|          | 0/26 [00:00<?, ?it/s]       "
     ]
    },
    {
     "name": "stdout",
     "output_type": "stream",
     "text": [
      "000571\n"
     ]
    },
    {
     "name": "stderr",
     "output_type": "stream",
     "text": [
      "e:\\Python\\Python39\\lib\\site-packages\\pandas\\compat\\_optional.py:161: UserWarning: Pandas requires version '1.2.2' or newer of 'xlsxwriter' (version '1.1.2' currently installed).\n",
      "  warnings.warn(msg, UserWarning)\n",
      "  4%|▍         | 1/26 [00:04<01:50,  4.42s/it]"
     ]
    },
    {
     "name": "stdout",
     "output_type": "stream",
     "text": [
      "600726\n"
     ]
    },
    {
     "name": "stderr",
     "output_type": "stream",
     "text": [
      "e:\\Python\\Python39\\lib\\site-packages\\pandas\\compat\\_optional.py:161: UserWarning: Pandas requires version '1.2.2' or newer of 'xlsxwriter' (version '1.1.2' currently installed).\n",
      "  warnings.warn(msg, UserWarning)\n",
      "  8%|▊         | 2/26 [00:07<01:31,  3.81s/it]"
     ]
    },
    {
     "name": "stdout",
     "output_type": "stream",
     "text": [
      "600121\n"
     ]
    },
    {
     "name": "stderr",
     "output_type": "stream",
     "text": [
      "e:\\Python\\Python39\\lib\\site-packages\\pandas\\compat\\_optional.py:161: UserWarning: Pandas requires version '1.2.2' or newer of 'xlsxwriter' (version '1.1.2' currently installed).\n",
      "  warnings.warn(msg, UserWarning)\n",
      " 12%|█▏        | 3/26 [00:11<01:23,  3.64s/it]"
     ]
    },
    {
     "name": "stdout",
     "output_type": "stream",
     "text": [
      "601088\n"
     ]
    },
    {
     "name": "stderr",
     "output_type": "stream",
     "text": [
      "e:\\Python\\Python39\\lib\\site-packages\\pandas\\compat\\_optional.py:161: UserWarning: Pandas requires version '1.2.2' or newer of 'xlsxwriter' (version '1.1.2' currently installed).\n",
      "  warnings.warn(msg, UserWarning)\n",
      " 15%|█▌        | 4/26 [00:14<01:12,  3.32s/it]"
     ]
    },
    {
     "name": "stdout",
     "output_type": "stream",
     "text": [
      "600985\n"
     ]
    },
    {
     "name": "stderr",
     "output_type": "stream",
     "text": [
      "e:\\Python\\Python39\\lib\\site-packages\\pandas\\compat\\_optional.py:161: UserWarning: Pandas requires version '1.2.2' or newer of 'xlsxwriter' (version '1.1.2' currently installed).\n",
      "  warnings.warn(msg, UserWarning)\n",
      " 19%|█▉        | 5/26 [00:17<01:07,  3.21s/it]"
     ]
    },
    {
     "name": "stdout",
     "output_type": "stream",
     "text": [
      "601225\n"
     ]
    },
    {
     "name": "stderr",
     "output_type": "stream",
     "text": [
      " 23%|██▎       | 6/26 [00:17<00:44,  2.24s/it]"
     ]
    },
    {
     "name": "stdout",
     "output_type": "stream",
     "text": [
      "stock (601225) ipo date (2014-01-28 00:00:00) is too late\n",
      "601918\n"
     ]
    },
    {
     "name": "stderr",
     "output_type": "stream",
     "text": [
      "e:\\Python\\Python39\\lib\\site-packages\\pandas\\compat\\_optional.py:161: UserWarning: Pandas requires version '1.2.2' or newer of 'xlsxwriter' (version '1.1.2' currently installed).\n",
      "  warnings.warn(msg, UserWarning)\n",
      " 27%|██▋       | 7/26 [00:20<00:46,  2.43s/it]"
     ]
    },
    {
     "name": "stdout",
     "output_type": "stream",
     "text": [
      "601898\n"
     ]
    },
    {
     "name": "stderr",
     "output_type": "stream",
     "text": [
      "e:\\Python\\Python39\\lib\\site-packages\\pandas\\compat\\_optional.py:161: UserWarning: Pandas requires version '1.2.2' or newer of 'xlsxwriter' (version '1.1.2' currently installed).\n",
      "  warnings.warn(msg, UserWarning)\n",
      " 31%|███       | 8/26 [00:24<00:56,  3.16s/it]"
     ]
    },
    {
     "name": "stdout",
     "output_type": "stream",
     "text": [
      "600758\n"
     ]
    },
    {
     "name": "stderr",
     "output_type": "stream",
     "text": [
      "e:\\Python\\Python39\\lib\\site-packages\\pandas\\compat\\_optional.py:161: UserWarning: Pandas requires version '1.2.2' or newer of 'xlsxwriter' (version '1.1.2' currently installed).\n",
      "  warnings.warn(msg, UserWarning)\n",
      " 35%|███▍      | 9/26 [00:28<00:53,  3.15s/it]"
     ]
    },
    {
     "name": "stdout",
     "output_type": "stream",
     "text": [
      "600395\n"
     ]
    },
    {
     "name": "stderr",
     "output_type": "stream",
     "text": [
      "e:\\Python\\Python39\\lib\\site-packages\\pandas\\compat\\_optional.py:161: UserWarning: Pandas requires version '1.2.2' or newer of 'xlsxwriter' (version '1.1.2' currently installed).\n",
      "  warnings.warn(msg, UserWarning)\n",
      " 38%|███▊      | 10/26 [00:31<00:49,  3.11s/it]"
     ]
    },
    {
     "name": "stdout",
     "output_type": "stream",
     "text": [
      "600508\n"
     ]
    },
    {
     "name": "stderr",
     "output_type": "stream",
     "text": [
      "e:\\Python\\Python39\\lib\\site-packages\\pandas\\compat\\_optional.py:161: UserWarning: Pandas requires version '1.2.2' or newer of 'xlsxwriter' (version '1.1.2' currently installed).\n",
      "  warnings.warn(msg, UserWarning)\n",
      " 42%|████▏     | 11/26 [00:34<00:46,  3.08s/it]"
     ]
    },
    {
     "name": "stdout",
     "output_type": "stream",
     "text": [
      "002128\n"
     ]
    },
    {
     "name": "stderr",
     "output_type": "stream",
     "text": [
      "e:\\Python\\Python39\\lib\\site-packages\\pandas\\compat\\_optional.py:161: UserWarning: Pandas requires version '1.2.2' or newer of 'xlsxwriter' (version '1.1.2' currently installed).\n",
      "  warnings.warn(msg, UserWarning)\n",
      " 46%|████▌     | 12/26 [00:36<00:41,  2.96s/it]"
     ]
    },
    {
     "name": "stdout",
     "output_type": "stream",
     "text": [
      "600397\n"
     ]
    },
    {
     "name": "stderr",
     "output_type": "stream",
     "text": [
      "e:\\Python\\Python39\\lib\\site-packages\\pandas\\compat\\_optional.py:161: UserWarning: Pandas requires version '1.2.2' or newer of 'xlsxwriter' (version '1.1.2' currently installed).\n",
      "  warnings.warn(msg, UserWarning)\n",
      " 50%|█████     | 13/26 [00:40<00:39,  3.03s/it]"
     ]
    },
    {
     "name": "stdout",
     "output_type": "stream",
     "text": [
      "601001\n"
     ]
    },
    {
     "name": "stderr",
     "output_type": "stream",
     "text": [
      "e:\\Python\\Python39\\lib\\site-packages\\pandas\\compat\\_optional.py:161: UserWarning: Pandas requires version '1.2.2' or newer of 'xlsxwriter' (version '1.1.2' currently installed).\n",
      "  warnings.warn(msg, UserWarning)\n",
      " 54%|█████▍    | 14/26 [00:42<00:34,  2.90s/it]"
     ]
    },
    {
     "name": "stdout",
     "output_type": "stream",
     "text": [
      "000937\n"
     ]
    },
    {
     "name": "stderr",
     "output_type": "stream",
     "text": [
      "e:\\Python\\Python39\\lib\\site-packages\\pandas\\compat\\_optional.py:161: UserWarning: Pandas requires version '1.2.2' or newer of 'xlsxwriter' (version '1.1.2' currently installed).\n",
      "  warnings.warn(msg, UserWarning)\n",
      " 58%|█████▊    | 15/26 [00:46<00:34,  3.14s/it]"
     ]
    },
    {
     "name": "stdout",
     "output_type": "stream",
     "text": [
      "600348\n"
     ]
    },
    {
     "name": "stderr",
     "output_type": "stream",
     "text": [
      "e:\\Python\\Python39\\lib\\site-packages\\pandas\\compat\\_optional.py:161: UserWarning: Pandas requires version '1.2.2' or newer of 'xlsxwriter' (version '1.1.2' currently installed).\n",
      "  warnings.warn(msg, UserWarning)\n",
      " 62%|██████▏   | 16/26 [00:49<00:31,  3.12s/it]"
     ]
    },
    {
     "name": "stdout",
     "output_type": "stream",
     "text": [
      "601101\n"
     ]
    },
    {
     "name": "stderr",
     "output_type": "stream",
     "text": [
      "e:\\Python\\Python39\\lib\\site-packages\\pandas\\compat\\_optional.py:161: UserWarning: Pandas requires version '1.2.2' or newer of 'xlsxwriter' (version '1.1.2' currently installed).\n",
      "  warnings.warn(msg, UserWarning)\n",
      " 65%|██████▌   | 17/26 [00:51<00:26,  2.94s/it]"
     ]
    },
    {
     "name": "stdout",
     "output_type": "stream",
     "text": [
      "600403\n"
     ]
    },
    {
     "name": "stderr",
     "output_type": "stream",
     "text": [
      "e:\\Python\\Python39\\lib\\site-packages\\pandas\\compat\\_optional.py:161: UserWarning: Pandas requires version '1.2.2' or newer of 'xlsxwriter' (version '1.1.2' currently installed).\n",
      "  warnings.warn(msg, UserWarning)\n",
      " 69%|██████▉   | 18/26 [00:55<00:24,  3.04s/it]"
     ]
    },
    {
     "name": "stdout",
     "output_type": "stream",
     "text": [
      "600546\n"
     ]
    },
    {
     "name": "stderr",
     "output_type": "stream",
     "text": [
      "e:\\Python\\Python39\\lib\\site-packages\\pandas\\compat\\_optional.py:161: UserWarning: Pandas requires version '1.2.2' or newer of 'xlsxwriter' (version '1.1.2' currently installed).\n",
      "  warnings.warn(msg, UserWarning)\n",
      " 73%|███████▎  | 19/26 [00:58<00:21,  3.04s/it]"
     ]
    },
    {
     "name": "stdout",
     "output_type": "stream",
     "text": [
      "600123\n"
     ]
    },
    {
     "name": "stderr",
     "output_type": "stream",
     "text": [
      "e:\\Python\\Python39\\lib\\site-packages\\pandas\\compat\\_optional.py:161: UserWarning: Pandas requires version '1.2.2' or newer of 'xlsxwriter' (version '1.1.2' currently installed).\n",
      "  warnings.warn(msg, UserWarning)\n",
      " 77%|███████▋  | 20/26 [01:01<00:18,  3.14s/it]"
     ]
    },
    {
     "name": "stdout",
     "output_type": "stream",
     "text": [
      "000552\n"
     ]
    },
    {
     "name": "stderr",
     "output_type": "stream",
     "text": [
      "e:\\Python\\Python39\\lib\\site-packages\\pandas\\compat\\_optional.py:161: UserWarning: Pandas requires version '1.2.2' or newer of 'xlsxwriter' (version '1.1.2' currently installed).\n",
      "  warnings.warn(msg, UserWarning)\n",
      " 81%|████████  | 21/26 [01:04<00:15,  3.09s/it]"
     ]
    },
    {
     "name": "stdout",
     "output_type": "stream",
     "text": [
      "601699\n"
     ]
    },
    {
     "name": "stderr",
     "output_type": "stream",
     "text": [
      "e:\\Python\\Python39\\lib\\site-packages\\pandas\\compat\\_optional.py:161: UserWarning: Pandas requires version '1.2.2' or newer of 'xlsxwriter' (version '1.1.2' currently installed).\n",
      "  warnings.warn(msg, UserWarning)\n",
      " 85%|████████▍ | 22/26 [01:07<00:11,  2.98s/it]"
     ]
    },
    {
     "name": "stdout",
     "output_type": "stream",
     "text": [
      "600971\n"
     ]
    },
    {
     "name": "stderr",
     "output_type": "stream",
     "text": [
      "e:\\Python\\Python39\\lib\\site-packages\\pandas\\compat\\_optional.py:161: UserWarning: Pandas requires version '1.2.2' or newer of 'xlsxwriter' (version '1.1.2' currently installed).\n",
      "  warnings.warn(msg, UserWarning)\n",
      " 88%|████████▊ | 23/26 [01:10<00:08,  3.00s/it]"
     ]
    },
    {
     "name": "stdout",
     "output_type": "stream",
     "text": [
      "000983\n"
     ]
    },
    {
     "name": "stderr",
     "output_type": "stream",
     "text": [
      "e:\\Python\\Python39\\lib\\site-packages\\pandas\\compat\\_optional.py:161: UserWarning: Pandas requires version '1.2.2' or newer of 'xlsxwriter' (version '1.1.2' currently installed).\n",
      "  warnings.warn(msg, UserWarning)\n",
      " 92%|█████████▏| 24/26 [01:13<00:05,  2.99s/it]"
     ]
    },
    {
     "name": "stdout",
     "output_type": "stream",
     "text": [
      "601666\n"
     ]
    },
    {
     "name": "stderr",
     "output_type": "stream",
     "text": [
      "e:\\Python\\Python39\\lib\\site-packages\\pandas\\compat\\_optional.py:161: UserWarning: Pandas requires version '1.2.2' or newer of 'xlsxwriter' (version '1.1.2' currently installed).\n",
      "  warnings.warn(msg, UserWarning)\n",
      " 96%|█████████▌| 25/26 [01:15<00:02,  2.87s/it]"
     ]
    },
    {
     "name": "stdout",
     "output_type": "stream",
     "text": [
      "600188\n"
     ]
    },
    {
     "name": "stderr",
     "output_type": "stream",
     "text": [
      "e:\\Python\\Python39\\lib\\site-packages\\pandas\\compat\\_optional.py:161: UserWarning: Pandas requires version '1.2.2' or newer of 'xlsxwriter' (version '1.1.2' currently installed).\n",
      "  warnings.warn(msg, UserWarning)\n",
      "100%|██████████| 26/26 [01:19<00:00,  3.05s/it]\n"
     ]
    }
   ],
   "source": [
    "export_industry_dividents(\"煤炭开采\")"
   ]
  },
  {
   "cell_type": "code",
   "execution_count": 19,
   "metadata": {},
   "outputs": [],
   "source": [
    "stock_info = ak.stock_individual_info_em(symbol=\"600036\")\n"
   ]
  },
  {
   "cell_type": "code",
   "execution_count": 53,
   "metadata": {},
   "outputs": [
    {
     "name": "stdout",
     "output_type": "stream",
     "text": [
      "   item                value\n",
      "0   总市值  922037555172.560059\n",
      "1  流通市值   754194208324.23999\n",
      "2    行业                   银行\n",
      "3  上市时间             20020409\n",
      "4  股票代码               600036\n",
      "5  股票简称                 招商银行\n",
      "6   总股本        25219845601.0\n",
      "7   流通股        20628944429.0\n"
     ]
    },
    {
     "data": {
      "text/plain": [
       "datetime.datetime(2002, 4, 9, 0, 0)"
      ]
     },
     "execution_count": 53,
     "metadata": {},
     "output_type": "execute_result"
    }
   ],
   "source": [
    "print(stock_info)\n",
    "datetime.strptime(str(stock_info[\"value\"].loc[3]), '%Y%m%d')\n",
    "# print(stock_info.loc[\"上市时间\"])\n",
    "    # ipo_date = datetime.strptime(stock_info.loc[\"上市时间\"], 'YYYYMMdd')"
   ]
  },
  {
   "cell_type": "code",
   "execution_count": 95,
   "metadata": {},
   "outputs": [],
   "source": [
    "ak.stock_board_industry_name_ths().to_csv(\"行业.csv\")\n",
    "# price = get_stock_price(\"001227\", start_date=datetime.date(2000,1,1), end_date=datetime.date(2021,12,31), adjust=\"\")"
   ]
  }
 ],
 "metadata": {
  "kernelspec": {
   "display_name": "Python 3",
   "language": "python",
   "name": "python3"
  },
  "language_info": {
   "codemirror_mode": {
    "name": "ipython",
    "version": 3
   },
   "file_extension": ".py",
   "mimetype": "text/x-python",
   "name": "python",
   "nbconvert_exporter": "python",
   "pygments_lexer": "ipython3",
   "version": "3.9.8"
  },
  "orig_nbformat": 4,
  "vscode": {
   "interpreter": {
    "hash": "b4014b60265de7f80a801ece3da4a480cce03f2136c91739134aaed5b8cdff47"
   }
  }
 },
 "nbformat": 4,
 "nbformat_minor": 2
}
